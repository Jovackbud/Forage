{
 "cells": [
  {
   "cell_type": "code",
   "execution_count": 1,
   "metadata": {
    "pycharm": {
     "name": "#%%\n"
    }
   },
   "outputs": [],
   "source": [
    "import pandas as pd\n",
    "import matplotlib.pyplot as plt\n",
    "import seaborn as sns\n",
    "import numpy as np\n",
    "# from wordcloud import Wordcloud"
   ]
  },
  {
   "cell_type": "code",
   "execution_count": 2,
   "metadata": {
    "pycharm": {
     "name": "#%%\n"
    }
   },
   "outputs": [],
   "source": [
    "%matplotlib inline"
   ]
  },
  {
   "cell_type": "code",
   "execution_count": 3,
   "metadata": {
    "pycharm": {
     "name": "#%%\n"
    }
   },
   "outputs": [],
   "source": [
    "df = pd.read_csv('Data/BA_reviews.csv')"
   ]
  },
  {
   "cell_type": "code",
   "execution_count": 4,
   "metadata": {
    "pycharm": {
     "name": "#%%\n"
    }
   },
   "outputs": [
    {
     "data": {
      "text/html": [
       "<div>\n",
       "<style scoped>\n",
       "    .dataframe tbody tr th:only-of-type {\n",
       "        vertical-align: middle;\n",
       "    }\n",
       "\n",
       "    .dataframe tbody tr th {\n",
       "        vertical-align: top;\n",
       "    }\n",
       "\n",
       "    .dataframe thead th {\n",
       "        text-align: right;\n",
       "    }\n",
       "</style>\n",
       "<table border=\"1\" class=\"dataframe\">\n",
       "  <thead>\n",
       "    <tr style=\"text-align: right;\">\n",
       "      <th></th>\n",
       "      <th>Unnamed: 0</th>\n",
       "      <th>reviews</th>\n",
       "    </tr>\n",
       "  </thead>\n",
       "  <tbody>\n",
       "    <tr>\n",
       "      <th>0</th>\n",
       "      <td>0</td>\n",
       "      <td>✅ Trip Verified |  Despite being a gold member...</td>\n",
       "    </tr>\n",
       "    <tr>\n",
       "      <th>1</th>\n",
       "      <td>1</td>\n",
       "      <td>Not Verified | Regarding the aircraft and seat...</td>\n",
       "    </tr>\n",
       "    <tr>\n",
       "      <th>2</th>\n",
       "      <td>2</td>\n",
       "      <td>Not Verified | I travelled with British Airway...</td>\n",
       "    </tr>\n",
       "    <tr>\n",
       "      <th>3</th>\n",
       "      <td>3</td>\n",
       "      <td>Not Verified |  Food was lousy. Who ever is pl...</td>\n",
       "    </tr>\n",
       "    <tr>\n",
       "      <th>4</th>\n",
       "      <td>4</td>\n",
       "      <td>✅ Trip Verified | Had the worst experience. Th...</td>\n",
       "    </tr>\n",
       "  </tbody>\n",
       "</table>\n",
       "</div>"
      ],
      "text/plain": [
       "   Unnamed: 0                                            reviews\n",
       "0           0  ✅ Trip Verified |  Despite being a gold member...\n",
       "1           1  Not Verified | Regarding the aircraft and seat...\n",
       "2           2  Not Verified | I travelled with British Airway...\n",
       "3           3  Not Verified |  Food was lousy. Who ever is pl...\n",
       "4           4  ✅ Trip Verified | Had the worst experience. Th..."
      ]
     },
     "execution_count": 4,
     "metadata": {},
     "output_type": "execute_result"
    }
   ],
   "source": [
    "df.head()"
   ]
  },
  {
   "cell_type": "code",
   "execution_count": 5,
   "metadata": {
    "pycharm": {
     "name": "#%%\n"
    }
   },
   "outputs": [],
   "source": [
    "df['reviews'] = df['reviews'].apply(lambda x: x.split('|')[1].strip())"
   ]
  },
  {
   "cell_type": "code",
   "execution_count": 6,
   "metadata": {
    "pycharm": {
     "name": "#%%\n"
    }
   },
   "outputs": [],
   "source": [
    "df['word_count'] = df['reviews'].apply(lambda x:len(x.split()))"
   ]
  },
  {
   "cell_type": "code",
   "execution_count": 7,
   "metadata": {
    "pycharm": {
     "name": "#%%\n"
    }
   },
   "outputs": [],
   "source": [
    "df['reviews'] = df['reviews'].str.replace('[^\\w\\s]', '')"
   ]
  },
  {
   "cell_type": "code",
   "execution_count": 8,
   "metadata": {
    "pycharm": {
     "name": "#%%\n"
    }
   },
   "outputs": [],
   "source": [
    "df = df.set_index('Unnamed: 0')"
   ]
  },
  {
   "cell_type": "code",
   "execution_count": 9,
   "metadata": {
    "pycharm": {
     "name": "#%%\n"
    }
   },
   "outputs": [
    {
     "data": {
      "image/png": "[encoded data removed]",
      "text/plain": [
       "<Figure size 432x288 with 1 Axes>"
      ]
     },
     "metadata": {
      "needs_background": "light"
     },
     "output_type": "display_data"
    }
   ],
   "source": [
    "sns.histplot(data=df, x='word_count');"
   ]
  },
  {
   "cell_type": "code",
   "execution_count": 10,
   "metadata": {
    "pycharm": {
     "name": "#%%\n"
    }
   },
   "outputs": [],
   "source": [
    "import nltk\n",
    "from nltk.corpus import stopwords\n",
    "from nltk.tokenize import word_tokenize\n",
    "#nltk.download('stopwords')\n",
    "import re\n",
    "from nltk.stem.porter import PorterStemmer"
   ]
  },
  {
   "cell_type": "code",
   "execution_count": 11,
   "metadata": {
    "pycharm": {
     "name": "#%%\n"
    }
   },
   "outputs": [],
   "source": [
    "stop_words = set(stopwords.words('english'))\n",
    "df['reviews'] = df['reviews'].apply(lambda x: ' '.join([word for word in x.split() if word not in stop_words]))"
   ]
  },
  {
   "cell_type": "code",
   "execution_count": 12,
   "metadata": {
    "pycharm": {
     "name": "#%%\n"
    }
   },
   "outputs": [
    {
     "data": {
      "text/plain": [
       "'Despite gold member British Airways staff Heathrow literally could care slightest absolute turmoil logistical damage wider impact terrible service All staff members repeat mantra obliged provide even update first 24 hours would make situation better There proactive updates empathy care lot actual lies told You tell given care thought passengers actual individuals show every action word say All better suited working away humans'"
      ]
     },
     "execution_count": 12,
     "metadata": {},
     "output_type": "execute_result"
    }
   ],
   "source": [
    "df['reviews'][0]"
   ]
  },
  {
   "cell_type": "code",
   "execution_count": 13,
   "metadata": {
    "pycharm": {
     "name": "#%%\n"
    }
   },
   "outputs": [],
   "source": [
    "df['count_after_stop_words'] = df['reviews'].apply(lambda x:len(x.split()))"
   ]
  },
  {
   "cell_type": "code",
   "execution_count": 14,
   "metadata": {
    "pycharm": {
     "name": "#%%\n"
    }
   },
   "outputs": [
    {
     "data": {
      "text/html": [
       "<div>\n",
       "<style scoped>\n",
       "    .dataframe tbody tr th:only-of-type {\n",
       "        vertical-align: middle;\n",
       "    }\n",
       "\n",
       "    .dataframe tbody tr th {\n",
       "        vertical-align: top;\n",
       "    }\n",
       "\n",
       "    .dataframe thead th {\n",
       "        text-align: right;\n",
       "    }\n",
       "</style>\n",
       "<table border=\"1\" class=\"dataframe\">\n",
       "  <thead>\n",
       "    <tr style=\"text-align: right;\">\n",
       "      <th></th>\n",
       "      <th>reviews</th>\n",
       "      <th>word_count</th>\n",
       "      <th>count_after_stop_words</th>\n",
       "    </tr>\n",
       "    <tr>\n",
       "      <th>Unnamed: 0</th>\n",
       "      <th></th>\n",
       "      <th></th>\n",
       "      <th></th>\n",
       "    </tr>\n",
       "  </thead>\n",
       "  <tbody>\n",
       "    <tr>\n",
       "      <th>0</th>\n",
       "      <td>Despite gold member British Airways staff Heat...</td>\n",
       "      <td>121</td>\n",
       "      <td>63</td>\n",
       "    </tr>\n",
       "    <tr>\n",
       "      <th>1</th>\n",
       "      <td>Regarding aircraft seat The business class sea...</td>\n",
       "      <td>382</td>\n",
       "      <td>227</td>\n",
       "    </tr>\n",
       "    <tr>\n",
       "      <th>2</th>\n",
       "      <td>I travelled British Airways Sweden Los Angeles...</td>\n",
       "      <td>421</td>\n",
       "      <td>219</td>\n",
       "    </tr>\n",
       "    <tr>\n",
       "      <th>3</th>\n",
       "      <td>Food lousy Who ever planning Asian Hindu Veget...</td>\n",
       "      <td>99</td>\n",
       "      <td>60</td>\n",
       "    </tr>\n",
       "    <tr>\n",
       "      <th>4</th>\n",
       "      <td>Had worst experience The flight London Toronto...</td>\n",
       "      <td>125</td>\n",
       "      <td>64</td>\n",
       "    </tr>\n",
       "  </tbody>\n",
       "</table>\n",
       "</div>"
      ],
      "text/plain": [
       "                                                      reviews  word_count  \\\n",
       "Unnamed: 0                                                                  \n",
       "0           Despite gold member British Airways staff Heat...         121   \n",
       "1           Regarding aircraft seat The business class sea...         382   \n",
       "2           I travelled British Airways Sweden Los Angeles...         421   \n",
       "3           Food lousy Who ever planning Asian Hindu Veget...          99   \n",
       "4           Had worst experience The flight London Toronto...         125   \n",
       "\n",
       "            count_after_stop_words  \n",
       "Unnamed: 0                          \n",
       "0                               63  \n",
       "1                              227  \n",
       "2                              219  \n",
       "3                               60  \n",
       "4                               64  "
      ]
     },
     "execution_count": 14,
     "metadata": {},
     "output_type": "execute_result"
    }
   ],
   "source": [
    "df.head()"
   ]
  },
  {
   "cell_type": "code",
   "execution_count": 15,
   "metadata": {
    "pycharm": {
     "name": "#%%\n"
    }
   },
   "outputs": [
    {
     "data": {
      "image/png": "[encoded data removed]",
      "text/plain": [
       "<Figure size 432x288 with 1 Axes>"
      ]
     },
     "metadata": {
      "needs_background": "light"
     },
     "output_type": "display_data"
    }
   ],
   "source": [
    "sns.scatterplot(data=df, x='word_count', y='count_after_stop_words');"
   ]
  },
  {
   "cell_type": "code",
   "execution_count": 16,
   "metadata": {
    "pycharm": {
     "name": "#%%\n"
    }
   },
   "outputs": [],
   "source": [
    "from wordcloud import WordCloud"
   ]
  },
  {
   "cell_type": "code",
   "execution_count": 17,
   "metadata": {
    "pycharm": {
     "name": "#%%\n"
    }
   },
   "outputs": [],
   "source": [
    "all_reviews = ' '.join(df['reviews'])"
   ]
  },
  {
   "cell_type": "code",
   "execution_count": 35,
   "metadata": {
    "pycharm": {
     "name": "#%%\n"
    }
   },
   "outputs": [
    {
     "data": {
      "image/png": "[encoded data removed]",
      "text/plain": [
       "<Figure size 576x576 with 1 Axes>"
      ]
     },
     "metadata": {
      "needs_background": "light"
     },
     "output_type": "display_data"
    }
   ],
   "source": [
    "wordcloud = WordCloud(width=800, height=700, background_color='white', max_words=10, \n",
    "                      contour_width=3, contour_color='steelblue')\n",
    "\n",
    "wordcloud.generate(all_reviews)\n",
    "plt.figure(figsize=(8, 8), facecolor=None)\n",
    "plt.imshow(wordcloud)\n",
    "plt.axis('off')\n",
    "plt.tight_layout(pad=0)\n",
    "plt.show();"
   ]
  },
  {
   "cell_type": "code",
   "execution_count": 19,
   "metadata": {
    "pycharm": {
     "name": "#%%\n"
    }
   },
   "outputs": [],
   "source": [
    "from sklearn.feature_extraction.text import TfidfVectorizer\n",
    "from sklearn.decomposition import LatentDirichletAllocation"
   ]
  },
  {
   "cell_type": "code",
   "execution_count": 20,
   "metadata": {
    "pycharm": {
     "name": "#%%\n"
    }
   },
   "outputs": [],
   "source": [
    "vectorizer = TfidfVectorizer()"
   ]
  },
  {
   "cell_type": "code",
   "execution_count": 21,
   "metadata": {
    "pycharm": {
     "name": "#%%\n"
    }
   },
   "outputs": [],
   "source": [
    "X_tfidf = vectorizer.fit_transform(df['reviews'])"
   ]
  },
  {
   "cell_type": "code",
   "execution_count": 25,
   "metadata": {
    "pycharm": {
     "name": "#%%\n"
    }
   },
   "outputs": [],
   "source": [
    "lda = LatentDirichletAllocation(n_components=3, random_state=1)"
   ]
  },
  {
   "cell_type": "code",
   "execution_count": 26,
   "metadata": {
    "pycharm": {
     "name": "#%%\n"
    }
   },
   "outputs": [
    {
     "data": {
      "text/plain": [
       "LatentDirichletAllocation(n_components=3, random_state=1)"
      ]
     },
     "execution_count": 26,
     "metadata": {},
     "output_type": "execute_result"
    }
   ],
   "source": [
    "lda.fit(X_tfidf)"
   ]
  },
  {
   "cell_type": "code",
   "execution_count": 42,
   "metadata": {
    "pycharm": {
     "name": "#%%\n"
    }
   },
   "outputs": [
    {
     "name": "stdout",
     "output_type": "stream",
     "text": [
      "Top 5 topics for document #1\n",
      "Topic #1: 0.9120817116948137\n",
      "[3148 7172 1064 6390 4366 3399 6314 2126 3190 1752]\n",
      "Topic #2: 0.04412416054994523\n",
      "[3160 4059 3297 4946 1410 4727 1471 5749  841 2794]\n",
      "Topic #3: 0.04379412775524108\n",
      "[7901 7483 1235 4224  691 3709 4753  603 4303 4200]\n",
      "\n",
      "\n",
      "Top 5 topics for document #2\n",
      "Topic #1: 0.9448331885466915\n",
      "[3148 7172 1064 6390 4366 3399 6314 2126 3190 1752]\n",
      "Topic #2: 0.02758394602386221\n",
      "[3160 4059 3297 4946 1410 4727 1471 5749  841 2794]\n",
      "Topic #3: 0.02758286542944627\n",
      "[7901 7483 1235 4224  691 3709 4753  603 4303 4200]\n",
      "\n",
      "\n",
      "Top 5 topics for document #3\n",
      "Topic #1: 0.9384425026951021\n",
      "[3148 7172 1064 6390 4366 3399 6314 2126 3190 1752]\n",
      "Topic #2: 0.03080139152798328\n",
      "[7901 7483 1235 4224  691 3709 4753  603 4303 4200]\n",
      "Topic #3: 0.03075610577691472\n",
      "[3160 4059 3297 4946 1410 4727 1471 5749  841 2794]\n",
      "\n",
      "\n",
      "Top 5 topics for document #4\n",
      "Topic #1: 0.9112538800991498\n",
      "[3148 7172 1064 6390 4366 3399 6314 2126 3190 1752]\n",
      "Topic #2: 0.04437424993926783\n",
      "[3160 4059 3297 4946 1410 4727 1471 5749  841 2794]\n",
      "Topic #3: 0.04437186996158239\n",
      "[7901 7483 1235 4224  691 3709 4753  603 4303 4200]\n",
      "\n",
      "\n",
      "Top 5 topics for document #5\n",
      "Topic #1: 0.9108867455618213\n",
      "[3148 7172 1064 6390 4366 3399 6314 2126 3190 1752]\n",
      "Topic #2: 0.04455771818522795\n",
      "[3160 4059 3297 4946 1410 4727 1471 5749  841 2794]\n",
      "Topic #3: 0.044555536252950806\n",
      "[7901 7483 1235 4224  691 3709 4753  603 4303 4200]\n",
      "\n",
      "\n",
      "Top 5 topics for document #6\n",
      "Topic #1: 0.8981382093398931\n",
      "[3148 7172 1064 6390 4366 3399 6314 2126 3190 1752]\n",
      "Topic #2: 0.05093153336024487\n",
      "[3160 4059 3297 4946 1410 4727 1471 5749  841 2794]\n",
      "Topic #3: 0.05093025729986204\n",
      "[7901 7483 1235 4224  691 3709 4753  603 4303 4200]\n",
      "\n",
      "\n",
      "Top 5 topics for document #7\n",
      "Topic #1: 0.904161533496289\n",
      "[3148 7172 1064 6390 4366 3399 6314 2126 3190 1752]\n",
      "Topic #2: 0.047919751981163466\n",
      "[3160 4059 3297 4946 1410 4727 1471 5749  841 2794]\n",
      "Topic #3: 0.047918714522547604\n",
      "[7901 7483 1235 4224  691 3709 4753  603 4303 4200]\n",
      "\n",
      "\n",
      "Top 5 topics for document #8\n",
      "Topic #1: 0.9142544009646151\n",
      "[3148 7172 1064 6390 4366 3399 6314 2126 3190 1752]\n",
      "Topic #2: 0.04287382679622654\n",
      "[3160 4059 3297 4946 1410 4727 1471 5749  841 2794]\n",
      "Topic #3: 0.04287177223915844\n",
      "[7901 7483 1235 4224  691 3709 4753  603 4303 4200]\n",
      "\n",
      "\n",
      "Top 5 topics for document #9\n",
      "Topic #1: 0.8641134953597626\n",
      "[3148 7172 1064 6390 4366 3399 6314 2126 3190 1752]\n",
      "Topic #2: 0.06794573346537269\n",
      "[3160 4059 3297 4946 1410 4727 1471 5749  841 2794]\n",
      "Topic #3: 0.06794077117486468\n",
      "[7901 7483 1235 4224  691 3709 4753  603 4303 4200]\n",
      "\n",
      "\n",
      "Top 5 topics for document #10\n",
      "Topic #1: 0.9270620976380541\n",
      "[3148 7172 1064 6390 4366 3399 6314 2126 3190 1752]\n",
      "Topic #2: 0.03647145514471056\n",
      "[3160 4059 3297 4946 1410 4727 1471 5749  841 2794]\n",
      "Topic #3: 0.036466447217235326\n",
      "[7901 7483 1235 4224  691 3709 4753  603 4303 4200]\n",
      "\n",
      "\n"
     ]
    }
   ],
   "source": [
    "topic_weights = lda.transform(X_tfidf)\n",
    "\n",
    "# Print the top 5 topics for the first 10 documents\n",
    "for i in range(10):\n",
    "    print(f\"Top 5 topics for document #{i + 1}\")\n",
    "    top_topics = topic_weights[i].argsort()[:-6:-1]\n",
    "    for j, topic in enumerate(top_topics):\n",
    "        print(f\"Topic #{j + 1}: {topic_weights[i][topic]}\")\n",
    "        print(lda.components_[topic].argsort()[:-11:-1])\n",
    "    print('\\n')"
   ]
  },
  {
   "cell_type": "code",
   "execution_count": 27,
   "metadata": {
    "pycharm": {
     "name": "#%%\n"
    }
   },
   "outputs": [
    {
     "name": "stdout",
     "output_type": "stream",
     "text": [
      "Top 10 words for topic #1\n",
      "['entered', 'apologetic', 'realized', 'bunch', 'mothers', 'bringing', 'obliged', 'funeral', 'joked', 'flowers']\n",
      "\n",
      "\n",
      "Top 10 words for topic #2\n",
      "['laughs', 'lighter', 'admitted', 'muffled', 'humorous', 'airhostesses', 'lead', 'bengaluru', 'und', 'wir']\n",
      "\n",
      "\n",
      "Top 10 words for topic #3\n",
      "['class', 'food', 'crew', 'seat', 'good', 'london', 'service', 'ba', 'the', 'flight']\n",
      "\n",
      "\n"
     ]
    }
   ],
   "source": [
    "words = vectorizer.get_feature_names()\n",
    "for i, topic in enumerate(lda.components_):\n",
    "    print(f\"Top 10 words for topic #{i + 1}\")\n",
    "    print([words[index] for index in topic.argsort()[-10:]])\n",
    "    print('\\n')"
   ]
  },
  {
   "cell_type": "markdown",
   "metadata": {
    "pycharm": {
     "name": "#%% md\n"
    }
   },
   "source": [
    "### From the word cloud, it seems there was alot of reviews about heathrow among all airports\n",
    "### the business class also seems to have liked sharing a piece of their mind\n",
    "### Cabin Crew and crew respectively as well as staff/customer service were frequently mentioned\n",
    "### most reviews related to the time, flight, seat, food, and service.\n",
    "### 'good' is in the top ten most frequent words in reviews\n",
    "### reviews appear to have been postive about services and crew, neutral to airhostesses and bad with other customers especially mothers"
   ]
  },
  {
   "cell_type": "code",
   "execution_count": 31,
   "metadata": {
    "pycharm": {
     "name": "#%%\n"
    }
   },
   "outputs": [],
   "source": [
    "all_reviews_list = list(all_reviews)"
   ]
  },
  {
   "cell_type": "code",
   "execution_count": 34,
   "metadata": {
    "pycharm": {
     "name": "#%%\n"
    }
   },
   "outputs": [
    {
     "data": {
      "text/plain": [
       "0"
      ]
     },
     "execution_count": 34,
     "metadata": {},
     "output_type": "execute_result"
    }
   ],
   "source": [
    "for word in all_reviews_list:\n",
    "    "
   ]
  },
  {
   "cell_type": "code",
   "execution_count": null,
   "metadata": {
    "pycharm": {
     "name": "#%%\n"
    }
   },
   "outputs": [],
   "source": []
  }
 ],
 "metadata": {
  "kernelspec": {
   "display_name": "Python 3",
   "language": "python",
   "name": "python3"
  },
  "language_info": {
   "codemirror_mode": {
    "name": "ipython",
    "version": 3
   },
   "file_extension": ".py",
   "mimetype": "text/x-python",
   "name": "python",
   "nbconvert_exporter": "python",
   "pygments_lexer": "ipython3",
   "version": "3.8.5"
  }
 },
 "nbformat": 4,
 "nbformat_minor": 4
}