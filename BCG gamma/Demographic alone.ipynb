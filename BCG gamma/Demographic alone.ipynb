{
 "cells": [
  {
   "cell_type": "code",
   "execution_count": 53,
   "outputs": [],
   "source": [
    "import numpy as np\n",
    "import pandas as pd\n",
    "import seaborn as sns\n",
    "import matplotlib.pyplot as plt\n",
    "from datetime import datetime as dt"
   ],
   "metadata": {
    "collapsed": false,
    "pycharm": {
     "name": "#%%\n"
    }
   }
  },
  {
   "cell_type": "code",
   "execution_count": 54,
   "outputs": [],
   "source": [
    "df = pd.read_csv('Module 2/client_data.csv')"
   ],
   "metadata": {
    "collapsed": false,
    "pycharm": {
     "name": "#%%\n"
    }
   }
  },
  {
   "cell_type": "code",
   "execution_count": 55,
   "outputs": [
    {
     "data": {
      "text/plain": "                                 id                     channel_sales  \\\n0  24011ae4ebbe3035111d65fa7c15bc57  foosdfpfkusacimwkcsosbicdxkicaua   \n1  d29c2c54acc38ff3c0614d0a653813dd                           MISSING   \n2  764c75f661154dac3a6c254cd082ea7d  foosdfpfkusacimwkcsosbicdxkicaua   \n3  bba03439a292a1e166f80264c16191cb  lmkebamcaaclubfxadlmueccxoimlema   \n4  149d57cf92fc41cf94415803a877cb4b                           MISSING   \n\n   cons_12m  cons_gas_12m  cons_last_month  date_activ    date_end  \\\n0         0         54946                0  2013-06-15  2016-06-15   \n1      4660             0                0  2009-08-21  2016-08-30   \n2       544             0                0  2010-04-16  2016-04-16   \n3      1584             0                0  2010-03-30  2016-03-30   \n4      4425             0              526  2010-01-13  2016-03-07   \n\n  date_modif_prod date_renewal  forecast_cons_12m  ...  has_gas  imp_cons  \\\n0      2015-11-01   2015-06-23               0.00  ...        t      0.00   \n1      2009-08-21   2015-08-31             189.95  ...        f      0.00   \n2      2010-04-16   2015-04-17              47.96  ...        f      0.00   \n3      2010-03-30   2015-03-31             240.04  ...        f      0.00   \n4      2010-01-13   2015-03-09             445.75  ...        f     52.32   \n\n   margin_gross_pow_ele  margin_net_pow_ele  nb_prod_act  net_margin  \\\n0                 25.44               25.44            2      678.99   \n1                 16.38               16.38            1       18.89   \n2                 28.60               28.60            1        6.60   \n3                 30.22               30.22            1       25.46   \n4                 44.91               44.91            1       47.98   \n\n  num_years_antig                         origin_up  pow_max  churn  \n0               3  lxidpiddsbxsbosboudacockeimpuepw   43.648      1  \n1               6  kamkkxfxxuwbdslkwifmmcsiusiuosws   13.800      0  \n2               6  kamkkxfxxuwbdslkwifmmcsiusiuosws   13.856      0  \n3               6  kamkkxfxxuwbdslkwifmmcsiusiuosws   13.200      0  \n4               6  kamkkxfxxuwbdslkwifmmcsiusiuosws   19.800      0  \n\n[5 rows x 26 columns]",
      "text/html": "<div>\n<style scoped>\n    .dataframe tbody tr th:only-of-type {\n        vertical-align: middle;\n    }\n\n    .dataframe tbody tr th {\n        vertical-align: top;\n    }\n\n    .dataframe thead th {\n        text-align: right;\n    }\n</style>\n<table border=\"1\" class=\"dataframe\">\n  <thead>\n    <tr style=\"text-align: right;\">\n      <th></th>\n      <th>id</th>\n      <th>channel_sales</th>\n      <th>cons_12m</th>\n      <th>cons_gas_12m</th>\n      <th>cons_last_month</th>\n      <th>date_activ</th>\n      <th>date_end</th>\n      <th>date_modif_prod</th>\n      <th>date_renewal</th>\n      <th>forecast_cons_12m</th>\n      <th>...</th>\n      <th>has_gas</th>\n      <th>imp_cons</th>\n      <th>margin_gross_pow_ele</th>\n      <th>margin_net_pow_ele</th>\n      <th>nb_prod_act</th>\n      <th>net_margin</th>\n      <th>num_years_antig</th>\n      <th>origin_up</th>\n      <th>pow_max</th>\n      <th>churn</th>\n    </tr>\n  </thead>\n  <tbody>\n    <tr>\n      <th>0</th>\n      <td>24011ae4ebbe3035111d65fa7c15bc57</td>\n      <td>foosdfpfkusacimwkcsosbicdxkicaua</td>\n      <td>0</td>\n      <td>54946</td>\n      <td>0</td>\n      <td>2013-06-15</td>\n      <td>2016-06-15</td>\n      <td>2015-11-01</td>\n      <td>2015-06-23</td>\n      <td>0.00</td>\n      <td>...</td>\n      <td>t</td>\n      <td>0.00</td>\n      <td>25.44</td>\n      <td>25.44</td>\n      <td>2</td>\n      <td>678.99</td>\n      <td>3</td>\n      <td>lxidpiddsbxsbosboudacockeimpuepw</td>\n      <td>43.648</td>\n      <td>1</td>\n    </tr>\n    <tr>\n      <th>1</th>\n      <td>d29c2c54acc38ff3c0614d0a653813dd</td>\n      <td>MISSING</td>\n      <td>4660</td>\n      <td>0</td>\n      <td>0</td>\n      <td>2009-08-21</td>\n      <td>2016-08-30</td>\n      <td>2009-08-21</td>\n      <td>2015-08-31</td>\n      <td>189.95</td>\n      <td>...</td>\n      <td>f</td>\n      <td>0.00</td>\n      <td>16.38</td>\n      <td>16.38</td>\n      <td>1</td>\n      <td>18.89</td>\n      <td>6</td>\n      <td>kamkkxfxxuwbdslkwifmmcsiusiuosws</td>\n      <td>13.800</td>\n      <td>0</td>\n    </tr>\n    <tr>\n      <th>2</th>\n      <td>764c75f661154dac3a6c254cd082ea7d</td>\n      <td>foosdfpfkusacimwkcsosbicdxkicaua</td>\n      <td>544</td>\n      <td>0</td>\n      <td>0</td>\n      <td>2010-04-16</td>\n      <td>2016-04-16</td>\n      <td>2010-04-16</td>\n      <td>2015-04-17</td>\n      <td>47.96</td>\n      <td>...</td>\n      <td>f</td>\n      <td>0.00</td>\n      <td>28.60</td>\n      <td>28.60</td>\n      <td>1</td>\n      <td>6.60</td>\n      <td>6</td>\n      <td>kamkkxfxxuwbdslkwifmmcsiusiuosws</td>\n      <td>13.856</td>\n      <td>0</td>\n    </tr>\n    <tr>\n      <th>3</th>\n      <td>bba03439a292a1e166f80264c16191cb</td>\n      <td>lmkebamcaaclubfxadlmueccxoimlema</td>\n      <td>1584</td>\n      <td>0</td>\n      <td>0</td>\n      <td>2010-03-30</td>\n      <td>2016-03-30</td>\n      <td>2010-03-30</td>\n      <td>2015-03-31</td>\n      <td>240.04</td>\n      <td>...</td>\n      <td>f</td>\n      <td>0.00</td>\n      <td>30.22</td>\n      <td>30.22</td>\n      <td>1</td>\n      <td>25.46</td>\n      <td>6</td>\n      <td>kamkkxfxxuwbdslkwifmmcsiusiuosws</td>\n      <td>13.200</td>\n      <td>0</td>\n    </tr>\n    <tr>\n      <th>4</th>\n      <td>149d57cf92fc41cf94415803a877cb4b</td>\n      <td>MISSING</td>\n      <td>4425</td>\n      <td>0</td>\n      <td>526</td>\n      <td>2010-01-13</td>\n      <td>2016-03-07</td>\n      <td>2010-01-13</td>\n      <td>2015-03-09</td>\n      <td>445.75</td>\n      <td>...</td>\n      <td>f</td>\n      <td>52.32</td>\n      <td>44.91</td>\n      <td>44.91</td>\n      <td>1</td>\n      <td>47.98</td>\n      <td>6</td>\n      <td>kamkkxfxxuwbdslkwifmmcsiusiuosws</td>\n      <td>19.800</td>\n      <td>0</td>\n    </tr>\n  </tbody>\n</table>\n<p>5 rows × 26 columns</p>\n</div>"
     },
     "execution_count": 55,
     "metadata": {},
     "output_type": "execute_result"
    }
   ],
   "source": [
    "df.head()"
   ],
   "metadata": {
    "collapsed": false,
    "pycharm": {
     "name": "#%%\n"
    }
   }
  },
  {
   "cell_type": "code",
   "execution_count": 56,
   "outputs": [
    {
     "data": {
      "text/plain": "                                     id                     channel_sales  \\\n14601  18463073fb097fc0ac5d3e040f356987  foosdfpfkusacimwkcsosbicdxkicaua   \n14602  d0a6f71671571ed83b2645d23af6de00  foosdfpfkusacimwkcsosbicdxkicaua   \n14603  10e6828ddd62cbcf687cb74928c4c2d2  foosdfpfkusacimwkcsosbicdxkicaua   \n14604  1cf20fd6206d7678d5bcafd28c53b4db  foosdfpfkusacimwkcsosbicdxkicaua   \n14605  563dde550fd624d7352f3de77c0cdfcd                           MISSING   \n\n       cons_12m  cons_gas_12m  cons_last_month  date_activ    date_end  \\\n14601     32270         47940                0  2012-05-24  2016-05-08   \n14602      7223             0              181  2012-08-27  2016-08-27   \n14603      1844             0              179  2012-02-08  2016-02-07   \n14604       131             0                0  2012-08-30  2016-08-30   \n14605      8730             0                0  2009-12-18  2016-12-17   \n\n      date_modif_prod date_renewal  forecast_cons_12m  ...  has_gas  imp_cons  \\\n14601      2015-05-08   2014-05-26            4648.01  ...        t      0.00   \n14602      2012-08-27   2015-08-28             631.69  ...        f     15.94   \n14603      2012-02-08   2015-02-09             190.39  ...        f     18.05   \n14604      2012-08-30   2015-08-31              19.34  ...        f      0.00   \n14605      2009-12-18   2015-12-21             762.41  ...        f      0.00   \n\n       margin_gross_pow_ele  margin_net_pow_ele  nb_prod_act  net_margin  \\\n14601                 27.88               27.88            2      381.77   \n14602                  0.00                0.00            1       90.34   \n14603                 39.84               39.84            1       20.38   \n14604                 13.08               13.08            1        0.96   \n14605                 11.84               11.84            1       96.34   \n\n      num_years_antig                         origin_up  pow_max  churn  \n14601               4  lxidpiddsbxsbosboudacockeimpuepw   15.000      0  \n14602               3  lxidpiddsbxsbosboudacockeimpuepw    6.000      1  \n14603               4  lxidpiddsbxsbosboudacockeimpuepw   15.935      1  \n14604               3  lxidpiddsbxsbosboudacockeimpuepw   11.000      0  \n14605               6  ldkssxwpmemidmecebumciepifcamkci   10.392      0  \n\n[5 rows x 26 columns]",
      "text/html": "<div>\n<style scoped>\n    .dataframe tbody tr th:only-of-type {\n        vertical-align: middle;\n    }\n\n    .dataframe tbody tr th {\n        vertical-align: top;\n    }\n\n    .dataframe thead th {\n        text-align: right;\n    }\n</style>\n<table border=\"1\" class=\"dataframe\">\n  <thead>\n    <tr style=\"text-align: right;\">\n      <th></th>\n      <th>id</th>\n      <th>channel_sales</th>\n      <th>cons_12m</th>\n      <th>cons_gas_12m</th>\n      <th>cons_last_month</th>\n      <th>date_activ</th>\n      <th>date_end</th>\n      <th>date_modif_prod</th>\n      <th>date_renewal</th>\n      <th>forecast_cons_12m</th>\n      <th>...</th>\n      <th>has_gas</th>\n      <th>imp_cons</th>\n      <th>margin_gross_pow_ele</th>\n      <th>margin_net_pow_ele</th>\n      <th>nb_prod_act</th>\n      <th>net_margin</th>\n      <th>num_years_antig</th>\n      <th>origin_up</th>\n      <th>pow_max</th>\n      <th>churn</th>\n    </tr>\n  </thead>\n  <tbody>\n    <tr>\n      <th>14601</th>\n      <td>18463073fb097fc0ac5d3e040f356987</td>\n      <td>foosdfpfkusacimwkcsosbicdxkicaua</td>\n      <td>32270</td>\n      <td>47940</td>\n      <td>0</td>\n      <td>2012-05-24</td>\n      <td>2016-05-08</td>\n      <td>2015-05-08</td>\n      <td>2014-05-26</td>\n      <td>4648.01</td>\n      <td>...</td>\n      <td>t</td>\n      <td>0.00</td>\n      <td>27.88</td>\n      <td>27.88</td>\n      <td>2</td>\n      <td>381.77</td>\n      <td>4</td>\n      <td>lxidpiddsbxsbosboudacockeimpuepw</td>\n      <td>15.000</td>\n      <td>0</td>\n    </tr>\n    <tr>\n      <th>14602</th>\n      <td>d0a6f71671571ed83b2645d23af6de00</td>\n      <td>foosdfpfkusacimwkcsosbicdxkicaua</td>\n      <td>7223</td>\n      <td>0</td>\n      <td>181</td>\n      <td>2012-08-27</td>\n      <td>2016-08-27</td>\n      <td>2012-08-27</td>\n      <td>2015-08-28</td>\n      <td>631.69</td>\n      <td>...</td>\n      <td>f</td>\n      <td>15.94</td>\n      <td>0.00</td>\n      <td>0.00</td>\n      <td>1</td>\n      <td>90.34</td>\n      <td>3</td>\n      <td>lxidpiddsbxsbosboudacockeimpuepw</td>\n      <td>6.000</td>\n      <td>1</td>\n    </tr>\n    <tr>\n      <th>14603</th>\n      <td>10e6828ddd62cbcf687cb74928c4c2d2</td>\n      <td>foosdfpfkusacimwkcsosbicdxkicaua</td>\n      <td>1844</td>\n      <td>0</td>\n      <td>179</td>\n      <td>2012-02-08</td>\n      <td>2016-02-07</td>\n      <td>2012-02-08</td>\n      <td>2015-02-09</td>\n      <td>190.39</td>\n      <td>...</td>\n      <td>f</td>\n      <td>18.05</td>\n      <td>39.84</td>\n      <td>39.84</td>\n      <td>1</td>\n      <td>20.38</td>\n      <td>4</td>\n      <td>lxidpiddsbxsbosboudacockeimpuepw</td>\n      <td>15.935</td>\n      <td>1</td>\n    </tr>\n    <tr>\n      <th>14604</th>\n      <td>1cf20fd6206d7678d5bcafd28c53b4db</td>\n      <td>foosdfpfkusacimwkcsosbicdxkicaua</td>\n      <td>131</td>\n      <td>0</td>\n      <td>0</td>\n      <td>2012-08-30</td>\n      <td>2016-08-30</td>\n      <td>2012-08-30</td>\n      <td>2015-08-31</td>\n      <td>19.34</td>\n      <td>...</td>\n      <td>f</td>\n      <td>0.00</td>\n      <td>13.08</td>\n      <td>13.08</td>\n      <td>1</td>\n      <td>0.96</td>\n      <td>3</td>\n      <td>lxidpiddsbxsbosboudacockeimpuepw</td>\n      <td>11.000</td>\n      <td>0</td>\n    </tr>\n    <tr>\n      <th>14605</th>\n      <td>563dde550fd624d7352f3de77c0cdfcd</td>\n      <td>MISSING</td>\n      <td>8730</td>\n      <td>0</td>\n      <td>0</td>\n      <td>2009-12-18</td>\n      <td>2016-12-17</td>\n      <td>2009-12-18</td>\n      <td>2015-12-21</td>\n      <td>762.41</td>\n      <td>...</td>\n      <td>f</td>\n      <td>0.00</td>\n      <td>11.84</td>\n      <td>11.84</td>\n      <td>1</td>\n      <td>96.34</td>\n      <td>6</td>\n      <td>ldkssxwpmemidmecebumciepifcamkci</td>\n      <td>10.392</td>\n      <td>0</td>\n    </tr>\n  </tbody>\n</table>\n<p>5 rows × 26 columns</p>\n</div>"
     },
     "execution_count": 56,
     "metadata": {},
     "output_type": "execute_result"
    }
   ],
   "source": [
    "df.tail()"
   ],
   "metadata": {
    "collapsed": false,
    "pycharm": {
     "name": "#%%\n"
    }
   }
  },
  {
   "cell_type": "code",
   "execution_count": 57,
   "outputs": [
    {
     "name": "stdout",
     "output_type": "stream",
     "text": [
      "<class 'pandas.core.frame.DataFrame'>\n",
      "RangeIndex: 14606 entries, 0 to 14605\n",
      "Data columns (total 26 columns):\n",
      " #   Column                          Non-Null Count  Dtype  \n",
      "---  ------                          --------------  -----  \n",
      " 0   id                              14606 non-null  object \n",
      " 1   channel_sales                   14606 non-null  object \n",
      " 2   cons_12m                        14606 non-null  int64  \n",
      " 3   cons_gas_12m                    14606 non-null  int64  \n",
      " 4   cons_last_month                 14606 non-null  int64  \n",
      " 5   date_activ                      14606 non-null  object \n",
      " 6   date_end                        14606 non-null  object \n",
      " 7   date_modif_prod                 14606 non-null  object \n",
      " 8   date_renewal                    14606 non-null  object \n",
      " 9   forecast_cons_12m               14606 non-null  float64\n",
      " 10  forecast_cons_year              14606 non-null  int64  \n",
      " 11  forecast_discount_energy        14606 non-null  float64\n",
      " 12  forecast_meter_rent_12m         14606 non-null  float64\n",
      " 13  forecast_price_energy_off_peak  14606 non-null  float64\n",
      " 14  forecast_price_energy_peak      14606 non-null  float64\n",
      " 15  forecast_price_pow_off_peak     14606 non-null  float64\n",
      " 16  has_gas                         14606 non-null  object \n",
      " 17  imp_cons                        14606 non-null  float64\n",
      " 18  margin_gross_pow_ele            14606 non-null  float64\n",
      " 19  margin_net_pow_ele              14606 non-null  float64\n",
      " 20  nb_prod_act                     14606 non-null  int64  \n",
      " 21  net_margin                      14606 non-null  float64\n",
      " 22  num_years_antig                 14606 non-null  int64  \n",
      " 23  origin_up                       14606 non-null  object \n",
      " 24  pow_max                         14606 non-null  float64\n",
      " 25  churn                           14606 non-null  int64  \n",
      "dtypes: float64(11), int64(7), object(8)\n",
      "memory usage: 2.9+ MB\n"
     ]
    }
   ],
   "source": [
    "df.info()"
   ],
   "metadata": {
    "collapsed": false,
    "pycharm": {
     "name": "#%%\n"
    }
   }
  },
  {
   "cell_type": "markdown",
   "source": [
    "date_cols = [date_activ, date_end, date_modif_prod, date_renewal]\n",
    "cat_cols = [has_gas, channel_sales, origin_up]"
   ],
   "metadata": {
    "collapsed": false,
    "pycharm": {
     "name": "#%% md\n"
    }
   }
  },
  {
   "cell_type": "code",
   "execution_count": 58,
   "outputs": [],
   "source": [
    "df[['date_activ', 'date_end', 'date_modif_prod', 'date_renewal']] = df[['date_activ', 'date_end', 'date_modif_prod',\n",
    "                                                                        'date_renewal']].apply(pd.to_datetime)"
   ],
   "metadata": {
    "collapsed": false,
    "pycharm": {
     "name": "#%%\n"
    }
   }
  },
  {
   "cell_type": "code",
   "execution_count": 59,
   "outputs": [
    {
     "data": {
      "text/plain": "                                  count           mean            std  min  \\\ncons_12m                        14606.0  159220.286252  573465.264198  0.0   \ncons_gas_12m                    14606.0   28092.375325  162973.059057  0.0   \ncons_last_month                 14606.0   16090.269752   64364.196422  0.0   \nforecast_cons_12m               14606.0    1868.614880    2387.571531  0.0   \nforecast_cons_year              14606.0    1399.762906    3247.786255  0.0   \nforecast_discount_energy        14606.0       0.966726       5.108289  0.0   \nforecast_meter_rent_12m         14606.0      63.086871      66.165783  0.0   \nforecast_price_energy_off_peak  14606.0       0.137283       0.024623  0.0   \nforecast_price_energy_peak      14606.0       0.050491       0.049037  0.0   \nforecast_price_pow_off_peak     14606.0      43.130056       4.485988  0.0   \nimp_cons                        14606.0     152.786896     341.369366  0.0   \nmargin_gross_pow_ele            14606.0      24.565121      20.231172  0.0   \nmargin_net_pow_ele              14606.0      24.562517      20.230280  0.0   \nnb_prod_act                     14606.0       1.292346       0.709774  1.0   \nnet_margin                      14606.0     189.264522     311.798130  0.0   \nnum_years_antig                 14606.0       4.997809       1.611749  1.0   \npow_max                         14606.0      18.135136      13.534743  3.3   \nchurn                           14606.0       0.097152       0.296175  0.0   \n\n                                        25%           50%           75%  \\\ncons_12m                        5674.750000  14115.500000  40763.750000   \ncons_gas_12m                       0.000000      0.000000      0.000000   \ncons_last_month                    0.000000    792.500000   3383.000000   \nforecast_cons_12m                494.995000   1112.875000   2401.790000   \nforecast_cons_year                 0.000000    314.000000   1745.750000   \nforecast_discount_energy           0.000000      0.000000      0.000000   \nforecast_meter_rent_12m           16.180000     18.795000    131.030000   \nforecast_price_energy_off_peak     0.116340      0.143166      0.146348   \nforecast_price_energy_peak         0.000000      0.084138      0.098837   \nforecast_price_pow_off_peak       40.606701     44.311378     44.311378   \nimp_cons                           0.000000     37.395000    193.980000   \nmargin_gross_pow_ele              14.280000     21.640000     29.880000   \nmargin_net_pow_ele                14.280000     21.640000     29.880000   \nnb_prod_act                        1.000000      1.000000      1.000000   \nnet_margin                        50.712500    112.530000    243.097500   \nnum_years_antig                    4.000000      5.000000      6.000000   \npow_max                           12.500000     13.856000     19.172500   \nchurn                              0.000000      0.000000      0.000000   \n\n                                         max  \ncons_12m                        6.207104e+06  \ncons_gas_12m                    4.154590e+06  \ncons_last_month                 7.712030e+05  \nforecast_cons_12m               8.290283e+04  \nforecast_cons_year              1.753750e+05  \nforecast_discount_energy        3.000000e+01  \nforecast_meter_rent_12m         5.993100e+02  \nforecast_price_energy_off_peak  2.739630e-01  \nforecast_price_energy_peak      1.959750e-01  \nforecast_price_pow_off_peak     5.926638e+01  \nimp_cons                        1.504279e+04  \nmargin_gross_pow_ele            3.746400e+02  \nmargin_net_pow_ele              3.746400e+02  \nnb_prod_act                     3.200000e+01  \nnet_margin                      2.457065e+04  \nnum_years_antig                 1.300000e+01  \npow_max                         3.200000e+02  \nchurn                           1.000000e+00  ",
      "text/html": "<div>\n<style scoped>\n    .dataframe tbody tr th:only-of-type {\n        vertical-align: middle;\n    }\n\n    .dataframe tbody tr th {\n        vertical-align: top;\n    }\n\n    .dataframe thead th {\n        text-align: right;\n    }\n</style>\n<table border=\"1\" class=\"dataframe\">\n  <thead>\n    <tr style=\"text-align: right;\">\n      <th></th>\n      <th>count</th>\n      <th>mean</th>\n      <th>std</th>\n      <th>min</th>\n      <th>25%</th>\n      <th>50%</th>\n      <th>75%</th>\n      <th>max</th>\n    </tr>\n  </thead>\n  <tbody>\n    <tr>\n      <th>cons_12m</th>\n      <td>14606.0</td>\n      <td>159220.286252</td>\n      <td>573465.264198</td>\n      <td>0.0</td>\n      <td>5674.750000</td>\n      <td>14115.500000</td>\n      <td>40763.750000</td>\n      <td>6.207104e+06</td>\n    </tr>\n    <tr>\n      <th>cons_gas_12m</th>\n      <td>14606.0</td>\n      <td>28092.375325</td>\n      <td>162973.059057</td>\n      <td>0.0</td>\n      <td>0.000000</td>\n      <td>0.000000</td>\n      <td>0.000000</td>\n      <td>4.154590e+06</td>\n    </tr>\n    <tr>\n      <th>cons_last_month</th>\n      <td>14606.0</td>\n      <td>16090.269752</td>\n      <td>64364.196422</td>\n      <td>0.0</td>\n      <td>0.000000</td>\n      <td>792.500000</td>\n      <td>3383.000000</td>\n      <td>7.712030e+05</td>\n    </tr>\n    <tr>\n      <th>forecast_cons_12m</th>\n      <td>14606.0</td>\n      <td>1868.614880</td>\n      <td>2387.571531</td>\n      <td>0.0</td>\n      <td>494.995000</td>\n      <td>1112.875000</td>\n      <td>2401.790000</td>\n      <td>8.290283e+04</td>\n    </tr>\n    <tr>\n      <th>forecast_cons_year</th>\n      <td>14606.0</td>\n      <td>1399.762906</td>\n      <td>3247.786255</td>\n      <td>0.0</td>\n      <td>0.000000</td>\n      <td>314.000000</td>\n      <td>1745.750000</td>\n      <td>1.753750e+05</td>\n    </tr>\n    <tr>\n      <th>forecast_discount_energy</th>\n      <td>14606.0</td>\n      <td>0.966726</td>\n      <td>5.108289</td>\n      <td>0.0</td>\n      <td>0.000000</td>\n      <td>0.000000</td>\n      <td>0.000000</td>\n      <td>3.000000e+01</td>\n    </tr>\n    <tr>\n      <th>forecast_meter_rent_12m</th>\n      <td>14606.0</td>\n      <td>63.086871</td>\n      <td>66.165783</td>\n      <td>0.0</td>\n      <td>16.180000</td>\n      <td>18.795000</td>\n      <td>131.030000</td>\n      <td>5.993100e+02</td>\n    </tr>\n    <tr>\n      <th>forecast_price_energy_off_peak</th>\n      <td>14606.0</td>\n      <td>0.137283</td>\n      <td>0.024623</td>\n      <td>0.0</td>\n      <td>0.116340</td>\n      <td>0.143166</td>\n      <td>0.146348</td>\n      <td>2.739630e-01</td>\n    </tr>\n    <tr>\n      <th>forecast_price_energy_peak</th>\n      <td>14606.0</td>\n      <td>0.050491</td>\n      <td>0.049037</td>\n      <td>0.0</td>\n      <td>0.000000</td>\n      <td>0.084138</td>\n      <td>0.098837</td>\n      <td>1.959750e-01</td>\n    </tr>\n    <tr>\n      <th>forecast_price_pow_off_peak</th>\n      <td>14606.0</td>\n      <td>43.130056</td>\n      <td>4.485988</td>\n      <td>0.0</td>\n      <td>40.606701</td>\n      <td>44.311378</td>\n      <td>44.311378</td>\n      <td>5.926638e+01</td>\n    </tr>\n    <tr>\n      <th>imp_cons</th>\n      <td>14606.0</td>\n      <td>152.786896</td>\n      <td>341.369366</td>\n      <td>0.0</td>\n      <td>0.000000</td>\n      <td>37.395000</td>\n      <td>193.980000</td>\n      <td>1.504279e+04</td>\n    </tr>\n    <tr>\n      <th>margin_gross_pow_ele</th>\n      <td>14606.0</td>\n      <td>24.565121</td>\n      <td>20.231172</td>\n      <td>0.0</td>\n      <td>14.280000</td>\n      <td>21.640000</td>\n      <td>29.880000</td>\n      <td>3.746400e+02</td>\n    </tr>\n    <tr>\n      <th>margin_net_pow_ele</th>\n      <td>14606.0</td>\n      <td>24.562517</td>\n      <td>20.230280</td>\n      <td>0.0</td>\n      <td>14.280000</td>\n      <td>21.640000</td>\n      <td>29.880000</td>\n      <td>3.746400e+02</td>\n    </tr>\n    <tr>\n      <th>nb_prod_act</th>\n      <td>14606.0</td>\n      <td>1.292346</td>\n      <td>0.709774</td>\n      <td>1.0</td>\n      <td>1.000000</td>\n      <td>1.000000</td>\n      <td>1.000000</td>\n      <td>3.200000e+01</td>\n    </tr>\n    <tr>\n      <th>net_margin</th>\n      <td>14606.0</td>\n      <td>189.264522</td>\n      <td>311.798130</td>\n      <td>0.0</td>\n      <td>50.712500</td>\n      <td>112.530000</td>\n      <td>243.097500</td>\n      <td>2.457065e+04</td>\n    </tr>\n    <tr>\n      <th>num_years_antig</th>\n      <td>14606.0</td>\n      <td>4.997809</td>\n      <td>1.611749</td>\n      <td>1.0</td>\n      <td>4.000000</td>\n      <td>5.000000</td>\n      <td>6.000000</td>\n      <td>1.300000e+01</td>\n    </tr>\n    <tr>\n      <th>pow_max</th>\n      <td>14606.0</td>\n      <td>18.135136</td>\n      <td>13.534743</td>\n      <td>3.3</td>\n      <td>12.500000</td>\n      <td>13.856000</td>\n      <td>19.172500</td>\n      <td>3.200000e+02</td>\n    </tr>\n    <tr>\n      <th>churn</th>\n      <td>14606.0</td>\n      <td>0.097152</td>\n      <td>0.296175</td>\n      <td>0.0</td>\n      <td>0.000000</td>\n      <td>0.000000</td>\n      <td>0.000000</td>\n      <td>1.000000e+00</td>\n    </tr>\n  </tbody>\n</table>\n</div>"
     },
     "execution_count": 59,
     "metadata": {},
     "output_type": "execute_result"
    }
   ],
   "source": [
    "df.describe().transpose()"
   ],
   "metadata": {
    "collapsed": false,
    "pycharm": {
     "name": "#%%\n"
    }
   }
  },
  {
   "cell_type": "code",
   "execution_count": 60,
   "outputs": [
    {
     "data": {
      "text/plain": "id                                3.505409\nchannel_sales                     3.505409\ncons_12m                          3.505409\ncons_gas_12m                      3.505409\ncons_last_month                   3.505409\ndate_activ                        3.505409\ndate_end                          3.505409\ndate_modif_prod                   3.505409\ndate_renewal                      3.505409\nforecast_cons_12m                 3.505409\nforecast_cons_year                3.505409\nforecast_discount_energy          3.505409\nforecast_meter_rent_12m           3.505409\nforecast_price_energy_off_peak    3.505409\nforecast_price_energy_peak        3.505409\nforecast_price_pow_off_peak       3.505409\nhas_gas                           3.505409\nimp_cons                          3.505409\nmargin_gross_pow_ele              3.505409\nmargin_net_pow_ele                3.505409\nnb_prod_act                       3.505409\nnet_margin                        3.505409\nnum_years_antig                   3.505409\norigin_up                         3.505409\npow_max                           3.505409\nchurn                             3.505409\ndtype: float64"
     },
     "execution_count": 60,
     "metadata": {},
     "output_type": "execute_result"
    }
   ],
   "source": [
    "(df[df['forecast_discount_energy'] != 0].count()  / len(df)) * 100"
   ],
   "metadata": {
    "collapsed": false,
    "pycharm": {
     "name": "#%%\n"
    }
   }
  },
  {
   "cell_type": "markdown",
   "source": [
    "There is only 3% of data available in forecast_discount_energy column that is not 0. I will likely drop it."
   ],
   "metadata": {
    "collapsed": false,
    "pycharm": {
     "name": "#%% md\n"
    }
   }
  },
  {
   "cell_type": "code",
   "execution_count": 61,
   "outputs": [
    {
     "data": {
      "text/plain": "id                                21.737642\nchannel_sales                     21.737642\ncons_12m                          21.737642\ncons_gas_12m                      21.737642\ncons_last_month                   21.737642\ndate_activ                        21.737642\ndate_end                          21.737642\ndate_modif_prod                   21.737642\ndate_renewal                      21.737642\nforecast_cons_12m                 21.737642\nforecast_cons_year                21.737642\nforecast_discount_energy          21.737642\nforecast_meter_rent_12m           21.737642\nforecast_price_energy_off_peak    21.737642\nforecast_price_energy_peak        21.737642\nforecast_price_pow_off_peak       21.737642\nhas_gas                           21.737642\nimp_cons                          21.737642\nmargin_gross_pow_ele              21.737642\nmargin_net_pow_ele                21.737642\nnb_prod_act                       21.737642\nnet_margin                        21.737642\nnum_years_antig                   21.737642\norigin_up                         21.737642\npow_max                           21.737642\nchurn                             21.737642\ndtype: float64"
     },
     "execution_count": 61,
     "metadata": {},
     "output_type": "execute_result"
    }
   ],
   "source": [
    "(df[df['nb_prod_act'] != 1].count()  / len(df)) * 100"
   ],
   "metadata": {
    "collapsed": false,
    "pycharm": {
     "name": "#%%\n"
    }
   }
  },
  {
   "cell_type": "markdown",
   "source": [
    "78% of the entries in nb_prod_act are 1 but could still be predictive"
   ],
   "metadata": {
    "collapsed": false,
    "pycharm": {
     "name": "#%% md\n"
    }
   }
  },
  {
   "cell_type": "code",
   "execution_count": 62,
   "outputs": [
    {
     "data": {
      "text/plain": "id                                0\nchannel_sales                     0\ncons_12m                          0\ncons_gas_12m                      0\ncons_last_month                   0\ndate_activ                        0\ndate_end                          0\ndate_modif_prod                   0\ndate_renewal                      0\nforecast_cons_12m                 0\nforecast_cons_year                0\nforecast_discount_energy          0\nforecast_meter_rent_12m           0\nforecast_price_energy_off_peak    0\nforecast_price_energy_peak        0\nforecast_price_pow_off_peak       0\nhas_gas                           0\nimp_cons                          0\nmargin_gross_pow_ele              0\nmargin_net_pow_ele                0\nnb_prod_act                       0\nnet_margin                        0\nnum_years_antig                   0\norigin_up                         0\npow_max                           0\nchurn                             0\ndtype: int64"
     },
     "execution_count": 62,
     "metadata": {},
     "output_type": "execute_result"
    }
   ],
   "source": [
    "df.isna().sum()"
   ],
   "metadata": {
    "collapsed": false,
    "pycharm": {
     "name": "#%%\n"
    }
   }
  },
  {
   "cell_type": "code",
   "execution_count": 63,
   "outputs": [
    {
     "data": {
      "text/plain": "id                                0\nchannel_sales                     0\ncons_12m                          0\ncons_gas_12m                      0\ncons_last_month                   0\ndate_activ                        0\ndate_end                          0\ndate_modif_prod                   0\ndate_renewal                      0\nforecast_cons_12m                 0\nforecast_cons_year                0\nforecast_discount_energy          0\nforecast_meter_rent_12m           0\nforecast_price_energy_off_peak    0\nforecast_price_energy_peak        0\nforecast_price_pow_off_peak       0\nhas_gas                           0\nimp_cons                          0\nmargin_gross_pow_ele              0\nmargin_net_pow_ele                0\nnb_prod_act                       0\nnet_margin                        0\nnum_years_antig                   0\norigin_up                         0\npow_max                           0\nchurn                             0\ndtype: int64"
     },
     "execution_count": 63,
     "metadata": {},
     "output_type": "execute_result"
    }
   ],
   "source": [
    "df.isnull().sum()"
   ],
   "metadata": {
    "collapsed": false,
    "pycharm": {
     "name": "#%%\n"
    }
   }
  },
  {
   "cell_type": "markdown",
   "source": [
    "No completely missing values"
   ],
   "metadata": {
    "collapsed": false,
    "pycharm": {
     "name": "#%% md\n"
    }
   }
  },
  {
   "cell_type": "markdown",
   "source": [
    "date_cols = [date_activ, date_end, date_modif_prod, date_renewal]\n",
    "cat_cols = [has_gas, channel_sales, origin_up]"
   ],
   "metadata": {
    "collapsed": false,
    "pycharm": {
     "name": "#%% md\n"
    }
   }
  },
  {
   "cell_type": "code",
   "execution_count": 64,
   "outputs": [],
   "source": [
    "from sklearn.model_selection import train_test_split"
   ],
   "metadata": {
    "collapsed": false,
    "pycharm": {
     "name": "#%%\n"
    }
   }
  },
  {
   "cell_type": "code",
   "execution_count": 65,
   "outputs": [
    {
     "data": {
      "text/plain": "                                                     channel_sales  cons_12m  \\\nid                                                                             \n24011ae4ebbe3035111d65fa7c15bc57  foosdfpfkusacimwkcsosbicdxkicaua         0   \nd29c2c54acc38ff3c0614d0a653813dd                           MISSING      4660   \n764c75f661154dac3a6c254cd082ea7d  foosdfpfkusacimwkcsosbicdxkicaua       544   \nbba03439a292a1e166f80264c16191cb  lmkebamcaaclubfxadlmueccxoimlema      1584   \n149d57cf92fc41cf94415803a877cb4b                           MISSING      4425   \n\n                                  cons_gas_12m  cons_last_month  \\\nid                                                                \n24011ae4ebbe3035111d65fa7c15bc57         54946                0   \nd29c2c54acc38ff3c0614d0a653813dd             0                0   \n764c75f661154dac3a6c254cd082ea7d             0                0   \nbba03439a292a1e166f80264c16191cb             0                0   \n149d57cf92fc41cf94415803a877cb4b             0              526   \n\n                                  forecast_cons_12m  forecast_cons_year  \\\nid                                                                        \n24011ae4ebbe3035111d65fa7c15bc57               0.00                   0   \nd29c2c54acc38ff3c0614d0a653813dd             189.95                   0   \n764c75f661154dac3a6c254cd082ea7d              47.96                   0   \nbba03439a292a1e166f80264c16191cb             240.04                   0   \n149d57cf92fc41cf94415803a877cb4b             445.75                 526   \n\n                                  forecast_meter_rent_12m  \\\nid                                                          \n24011ae4ebbe3035111d65fa7c15bc57                     1.78   \nd29c2c54acc38ff3c0614d0a653813dd                    16.27   \n764c75f661154dac3a6c254cd082ea7d                    38.72   \nbba03439a292a1e166f80264c16191cb                    19.83   \n149d57cf92fc41cf94415803a877cb4b                   131.73   \n\n                                  forecast_price_energy_off_peak  \\\nid                                                                 \n24011ae4ebbe3035111d65fa7c15bc57                        0.114481   \nd29c2c54acc38ff3c0614d0a653813dd                        0.145711   \n764c75f661154dac3a6c254cd082ea7d                        0.165794   \nbba03439a292a1e166f80264c16191cb                        0.146694   \n149d57cf92fc41cf94415803a877cb4b                        0.116900   \n\n                                  forecast_price_energy_peak  \\\nid                                                             \n24011ae4ebbe3035111d65fa7c15bc57                    0.098142   \nd29c2c54acc38ff3c0614d0a653813dd                    0.000000   \n764c75f661154dac3a6c254cd082ea7d                    0.087899   \nbba03439a292a1e166f80264c16191cb                    0.000000   \n149d57cf92fc41cf94415803a877cb4b                    0.100015   \n\n                                  forecast_price_pow_off_peak has_gas  \\\nid                                                                      \n24011ae4ebbe3035111d65fa7c15bc57                    40.606701       t   \nd29c2c54acc38ff3c0614d0a653813dd                    44.311378       f   \n764c75f661154dac3a6c254cd082ea7d                    44.311378       f   \nbba03439a292a1e166f80264c16191cb                    44.311378       f   \n149d57cf92fc41cf94415803a877cb4b                    40.606701       f   \n\n                                  imp_cons  margin_gross_pow_ele  \\\nid                                                                 \n24011ae4ebbe3035111d65fa7c15bc57      0.00                 25.44   \nd29c2c54acc38ff3c0614d0a653813dd      0.00                 16.38   \n764c75f661154dac3a6c254cd082ea7d      0.00                 28.60   \nbba03439a292a1e166f80264c16191cb      0.00                 30.22   \n149d57cf92fc41cf94415803a877cb4b     52.32                 44.91   \n\n                                  margin_net_pow_ele  nb_prod_act  net_margin  \\\nid                                                                              \n24011ae4ebbe3035111d65fa7c15bc57               25.44            2      678.99   \nd29c2c54acc38ff3c0614d0a653813dd               16.38            1       18.89   \n764c75f661154dac3a6c254cd082ea7d               28.60            1        6.60   \nbba03439a292a1e166f80264c16191cb               30.22            1       25.46   \n149d57cf92fc41cf94415803a877cb4b               44.91            1       47.98   \n\n                                  num_years_antig  \\\nid                                                  \n24011ae4ebbe3035111d65fa7c15bc57                3   \nd29c2c54acc38ff3c0614d0a653813dd                6   \n764c75f661154dac3a6c254cd082ea7d                6   \nbba03439a292a1e166f80264c16191cb                6   \n149d57cf92fc41cf94415803a877cb4b                6   \n\n                                                         origin_up  pow_max  \\\nid                                                                            \n24011ae4ebbe3035111d65fa7c15bc57  lxidpiddsbxsbosboudacockeimpuepw   43.648   \nd29c2c54acc38ff3c0614d0a653813dd  kamkkxfxxuwbdslkwifmmcsiusiuosws   13.800   \n764c75f661154dac3a6c254cd082ea7d  kamkkxfxxuwbdslkwifmmcsiusiuosws   13.856   \nbba03439a292a1e166f80264c16191cb  kamkkxfxxuwbdslkwifmmcsiusiuosws   13.200   \n149d57cf92fc41cf94415803a877cb4b  kamkkxfxxuwbdslkwifmmcsiusiuosws   19.800   \n\n                                  churn  \nid                                       \n24011ae4ebbe3035111d65fa7c15bc57      1  \nd29c2c54acc38ff3c0614d0a653813dd      0  \n764c75f661154dac3a6c254cd082ea7d      0  \nbba03439a292a1e166f80264c16191cb      0  \n149d57cf92fc41cf94415803a877cb4b      0  ",
      "text/html": "<div>\n<style scoped>\n    .dataframe tbody tr th:only-of-type {\n        vertical-align: middle;\n    }\n\n    .dataframe tbody tr th {\n        vertical-align: top;\n    }\n\n    .dataframe thead th {\n        text-align: right;\n    }\n</style>\n<table border=\"1\" class=\"dataframe\">\n  <thead>\n    <tr style=\"text-align: right;\">\n      <th></th>\n      <th>channel_sales</th>\n      <th>cons_12m</th>\n      <th>cons_gas_12m</th>\n      <th>cons_last_month</th>\n      <th>forecast_cons_12m</th>\n      <th>forecast_cons_year</th>\n      <th>forecast_meter_rent_12m</th>\n      <th>forecast_price_energy_off_peak</th>\n      <th>forecast_price_energy_peak</th>\n      <th>forecast_price_pow_off_peak</th>\n      <th>has_gas</th>\n      <th>imp_cons</th>\n      <th>margin_gross_pow_ele</th>\n      <th>margin_net_pow_ele</th>\n      <th>nb_prod_act</th>\n      <th>net_margin</th>\n      <th>num_years_antig</th>\n      <th>origin_up</th>\n      <th>pow_max</th>\n      <th>churn</th>\n    </tr>\n    <tr>\n      <th>id</th>\n      <th></th>\n      <th></th>\n      <th></th>\n      <th></th>\n      <th></th>\n      <th></th>\n      <th></th>\n      <th></th>\n      <th></th>\n      <th></th>\n      <th></th>\n      <th></th>\n      <th></th>\n      <th></th>\n      <th></th>\n      <th></th>\n      <th></th>\n      <th></th>\n      <th></th>\n      <th></th>\n    </tr>\n  </thead>\n  <tbody>\n    <tr>\n      <th>24011ae4ebbe3035111d65fa7c15bc57</th>\n      <td>foosdfpfkusacimwkcsosbicdxkicaua</td>\n      <td>0</td>\n      <td>54946</td>\n      <td>0</td>\n      <td>0.00</td>\n      <td>0</td>\n      <td>1.78</td>\n      <td>0.114481</td>\n      <td>0.098142</td>\n      <td>40.606701</td>\n      <td>t</td>\n      <td>0.00</td>\n      <td>25.44</td>\n      <td>25.44</td>\n      <td>2</td>\n      <td>678.99</td>\n      <td>3</td>\n      <td>lxidpiddsbxsbosboudacockeimpuepw</td>\n      <td>43.648</td>\n      <td>1</td>\n    </tr>\n    <tr>\n      <th>d29c2c54acc38ff3c0614d0a653813dd</th>\n      <td>MISSING</td>\n      <td>4660</td>\n      <td>0</td>\n      <td>0</td>\n      <td>189.95</td>\n      <td>0</td>\n      <td>16.27</td>\n      <td>0.145711</td>\n      <td>0.000000</td>\n      <td>44.311378</td>\n      <td>f</td>\n      <td>0.00</td>\n      <td>16.38</td>\n      <td>16.38</td>\n      <td>1</td>\n      <td>18.89</td>\n      <td>6</td>\n      <td>kamkkxfxxuwbdslkwifmmcsiusiuosws</td>\n      <td>13.800</td>\n      <td>0</td>\n    </tr>\n    <tr>\n      <th>764c75f661154dac3a6c254cd082ea7d</th>\n      <td>foosdfpfkusacimwkcsosbicdxkicaua</td>\n      <td>544</td>\n      <td>0</td>\n      <td>0</td>\n      <td>47.96</td>\n      <td>0</td>\n      <td>38.72</td>\n      <td>0.165794</td>\n      <td>0.087899</td>\n      <td>44.311378</td>\n      <td>f</td>\n      <td>0.00</td>\n      <td>28.60</td>\n      <td>28.60</td>\n      <td>1</td>\n      <td>6.60</td>\n      <td>6</td>\n      <td>kamkkxfxxuwbdslkwifmmcsiusiuosws</td>\n      <td>13.856</td>\n      <td>0</td>\n    </tr>\n    <tr>\n      <th>bba03439a292a1e166f80264c16191cb</th>\n      <td>lmkebamcaaclubfxadlmueccxoimlema</td>\n      <td>1584</td>\n      <td>0</td>\n      <td>0</td>\n      <td>240.04</td>\n      <td>0</td>\n      <td>19.83</td>\n      <td>0.146694</td>\n      <td>0.000000</td>\n      <td>44.311378</td>\n      <td>f</td>\n      <td>0.00</td>\n      <td>30.22</td>\n      <td>30.22</td>\n      <td>1</td>\n      <td>25.46</td>\n      <td>6</td>\n      <td>kamkkxfxxuwbdslkwifmmcsiusiuosws</td>\n      <td>13.200</td>\n      <td>0</td>\n    </tr>\n    <tr>\n      <th>149d57cf92fc41cf94415803a877cb4b</th>\n      <td>MISSING</td>\n      <td>4425</td>\n      <td>0</td>\n      <td>526</td>\n      <td>445.75</td>\n      <td>526</td>\n      <td>131.73</td>\n      <td>0.116900</td>\n      <td>0.100015</td>\n      <td>40.606701</td>\n      <td>f</td>\n      <td>52.32</td>\n      <td>44.91</td>\n      <td>44.91</td>\n      <td>1</td>\n      <td>47.98</td>\n      <td>6</td>\n      <td>kamkkxfxxuwbdslkwifmmcsiusiuosws</td>\n      <td>19.800</td>\n      <td>0</td>\n    </tr>\n  </tbody>\n</table>\n</div>"
     },
     "execution_count": 65,
     "metadata": {},
     "output_type": "execute_result"
    }
   ],
   "source": [
    "new_data = df.drop(['forecast_discount_energy', 'date_activ', 'date_end', 'date_modif_prod', 'date_renewal'], axis=1)\n",
    "new_data.set_index('id', inplace=True)\n",
    "new_data.head()"
   ],
   "metadata": {
    "collapsed": false,
    "pycharm": {
     "name": "#%%\n"
    }
   }
  },
  {
   "cell_type": "code",
   "execution_count": 66,
   "outputs": [],
   "source": [
    "new_data = pd.get_dummies(new_data, drop_first=True)"
   ],
   "metadata": {
    "collapsed": false,
    "pycharm": {
     "name": "#%%\n"
    }
   }
  },
  {
   "cell_type": "code",
   "execution_count": 67,
   "outputs": [],
   "source": [
    "X = new_data.drop('churn', axis=1)\n",
    "y = new_data['churn']"
   ],
   "metadata": {
    "collapsed": false,
    "pycharm": {
     "name": "#%%\n"
    }
   }
  },
  {
   "cell_type": "code",
   "execution_count": 68,
   "outputs": [],
   "source": [
    "X_train, X_test, y_train, y_test = train_test_split(X, y, random_state=1, test_size=0.3)"
   ],
   "metadata": {
    "collapsed": false,
    "pycharm": {
     "name": "#%%\n"
    }
   }
  },
  {
   "cell_type": "code",
   "execution_count": 69,
   "outputs": [
    {
     "name": "stdout",
     "output_type": "stream",
     "text": [
      "4382\n"
     ]
    }
   ],
   "source": [
    "print(len(X_test))"
   ],
   "metadata": {
    "collapsed": false,
    "pycharm": {
     "name": "#%%\n"
    }
   }
  },
  {
   "cell_type": "code",
   "execution_count": 70,
   "outputs": [
    {
     "data": {
      "text/plain": "                                  cons_12m  cons_gas_12m  cons_last_month  \\\nid                                                                          \n90b5ecb31ae7d12c76ff9095c5fabf2d      7558             0                0   \n81bc2d17afe2e5f54b502ab82a4e0a03      8388             0                0   \n7198c5abbec106629c7391aa1c884aed    118619             0                0   \n5fd314ca29d97914fd0260c862763297    338402             0            12445   \na5f0362398eacbf6d40570635d5db857     41600             0             3700   \n\n                                  forecast_cons_12m  forecast_cons_year  \\\nid                                                                        \n90b5ecb31ae7d12c76ff9095c5fabf2d            1135.04                   0   \n81bc2d17afe2e5f54b502ab82a4e0a03            1212.53                   0   \n7198c5abbec106629c7391aa1c884aed            7434.96                   0   \n5fd314ca29d97914fd0260c862763297             828.77                   0   \na5f0362398eacbf6d40570635d5db857            4438.65                3700   \n\n                                  forecast_meter_rent_12m  \\\nid                                                          \n90b5ecb31ae7d12c76ff9095c5fabf2d                    15.97   \n81bc2d17afe2e5f54b502ab82a4e0a03                     5.37   \n7198c5abbec106629c7391aa1c884aed                     0.00   \n5fd314ca29d97914fd0260c862763297                     0.00   \na5f0362398eacbf6d40570635d5db857                   131.35   \n\n                                  forecast_price_energy_off_peak  \\\nid                                                                 \n90b5ecb31ae7d12c76ff9095c5fabf2d                        0.144902   \n81bc2d17afe2e5f54b502ab82a4e0a03                        0.166950   \n7198c5abbec106629c7391aa1c884aed                        0.142065   \n5fd314ca29d97914fd0260c862763297                        0.138765   \na5f0362398eacbf6d40570635d5db857                        0.116902   \n\n                                  forecast_price_energy_peak  \\\nid                                                             \n90b5ecb31ae7d12c76ff9095c5fabf2d                    0.000000   \n81bc2d17afe2e5f54b502ab82a4e0a03                    0.089695   \n7198c5abbec106629c7391aa1c884aed                    0.000000   \n5fd314ca29d97914fd0260c862763297                    0.000000   \na5f0362398eacbf6d40570635d5db857                    0.100015   \n\n                                  forecast_price_pow_off_peak  imp_cons  ...  \\\nid                                                                       ...   \n90b5ecb31ae7d12c76ff9095c5fabf2d                    44.311378      0.00  ...   \n81bc2d17afe2e5f54b502ab82a4e0a03                    44.311378      0.00  ...   \n7198c5abbec106629c7391aa1c884aed                    44.311378      0.00  ...   \n5fd314ca29d97914fd0260c862763297                    44.444710      0.00  ...   \na5f0362398eacbf6d40570635d5db857                    40.606701    380.44  ...   \n\n                                  channel_sales_foosdfpfkusacimwkcsosbicdxkicaua  \\\nid                                                                                 \n90b5ecb31ae7d12c76ff9095c5fabf2d                                               0   \n81bc2d17afe2e5f54b502ab82a4e0a03                                               0   \n7198c5abbec106629c7391aa1c884aed                                               0   \n5fd314ca29d97914fd0260c862763297                                               1   \na5f0362398eacbf6d40570635d5db857                                               0   \n\n                                  channel_sales_lmkebamcaaclubfxadlmueccxoimlema  \\\nid                                                                                 \n90b5ecb31ae7d12c76ff9095c5fabf2d                                               0   \n81bc2d17afe2e5f54b502ab82a4e0a03                                               0   \n7198c5abbec106629c7391aa1c884aed                                               1   \n5fd314ca29d97914fd0260c862763297                                               0   \na5f0362398eacbf6d40570635d5db857                                               0   \n\n                                  channel_sales_sddiedcslfslkckwlfkdpoeeailfpeds  \\\nid                                                                                 \n90b5ecb31ae7d12c76ff9095c5fabf2d                                               0   \n81bc2d17afe2e5f54b502ab82a4e0a03                                               0   \n7198c5abbec106629c7391aa1c884aed                                               0   \n5fd314ca29d97914fd0260c862763297                                               0   \na5f0362398eacbf6d40570635d5db857                                               0   \n\n                                  channel_sales_usilxuppasemubllopkaafesmlibmsdf  \\\nid                                                                                 \n90b5ecb31ae7d12c76ff9095c5fabf2d                                               0   \n81bc2d17afe2e5f54b502ab82a4e0a03                                               1   \n7198c5abbec106629c7391aa1c884aed                                               0   \n5fd314ca29d97914fd0260c862763297                                               0   \na5f0362398eacbf6d40570635d5db857                                               0   \n\n                                  has_gas_t  \\\nid                                            \n90b5ecb31ae7d12c76ff9095c5fabf2d          0   \n81bc2d17afe2e5f54b502ab82a4e0a03          0   \n7198c5abbec106629c7391aa1c884aed          0   \n5fd314ca29d97914fd0260c862763297          0   \na5f0362398eacbf6d40570635d5db857          0   \n\n                                  origin_up_ewxeelcelemmiwuafmddpobolfuxioce  \\\nid                                                                             \n90b5ecb31ae7d12c76ff9095c5fabf2d                                           0   \n81bc2d17afe2e5f54b502ab82a4e0a03                                           0   \n7198c5abbec106629c7391aa1c884aed                                           0   \n5fd314ca29d97914fd0260c862763297                                           0   \na5f0362398eacbf6d40570635d5db857                                           0   \n\n                                  origin_up_kamkkxfxxuwbdslkwifmmcsiusiuosws  \\\nid                                                                             \n90b5ecb31ae7d12c76ff9095c5fabf2d                                           0   \n81bc2d17afe2e5f54b502ab82a4e0a03                                           0   \n7198c5abbec106629c7391aa1c884aed                                           1   \n5fd314ca29d97914fd0260c862763297                                           0   \na5f0362398eacbf6d40570635d5db857                                           0   \n\n                                  origin_up_ldkssxwpmemidmecebumciepifcamkci  \\\nid                                                                             \n90b5ecb31ae7d12c76ff9095c5fabf2d                                           1   \n81bc2d17afe2e5f54b502ab82a4e0a03                                           0   \n7198c5abbec106629c7391aa1c884aed                                           0   \n5fd314ca29d97914fd0260c862763297                                           0   \na5f0362398eacbf6d40570635d5db857                                           1   \n\n                                  origin_up_lxidpiddsbxsbosboudacockeimpuepw  \\\nid                                                                             \n90b5ecb31ae7d12c76ff9095c5fabf2d                                           0   \n81bc2d17afe2e5f54b502ab82a4e0a03                                           1   \n7198c5abbec106629c7391aa1c884aed                                           0   \n5fd314ca29d97914fd0260c862763297                                           1   \na5f0362398eacbf6d40570635d5db857                                           0   \n\n                                  origin_up_usapbepcfoloekilkwsdiboslwaxobdp  \nid                                                                            \n90b5ecb31ae7d12c76ff9095c5fabf2d                                           0  \n81bc2d17afe2e5f54b502ab82a4e0a03                                           0  \n7198c5abbec106629c7391aa1c884aed                                           0  \n5fd314ca29d97914fd0260c862763297                                           0  \na5f0362398eacbf6d40570635d5db857                                           0  \n\n[5 rows x 29 columns]",
      "text/html": "<div>\n<style scoped>\n    .dataframe tbody tr th:only-of-type {\n        vertical-align: middle;\n    }\n\n    .dataframe tbody tr th {\n        vertical-align: top;\n    }\n\n    .dataframe thead th {\n        text-align: right;\n    }\n</style>\n<table border=\"1\" class=\"dataframe\">\n  <thead>\n    <tr style=\"text-align: right;\">\n      <th></th>\n      <th>cons_12m</th>\n      <th>cons_gas_12m</th>\n      <th>cons_last_month</th>\n      <th>forecast_cons_12m</th>\n      <th>forecast_cons_year</th>\n      <th>forecast_meter_rent_12m</th>\n      <th>forecast_price_energy_off_peak</th>\n      <th>forecast_price_energy_peak</th>\n      <th>forecast_price_pow_off_peak</th>\n      <th>imp_cons</th>\n      <th>...</th>\n      <th>channel_sales_foosdfpfkusacimwkcsosbicdxkicaua</th>\n      <th>channel_sales_lmkebamcaaclubfxadlmueccxoimlema</th>\n      <th>channel_sales_sddiedcslfslkckwlfkdpoeeailfpeds</th>\n      <th>channel_sales_usilxuppasemubllopkaafesmlibmsdf</th>\n      <th>has_gas_t</th>\n      <th>origin_up_ewxeelcelemmiwuafmddpobolfuxioce</th>\n      <th>origin_up_kamkkxfxxuwbdslkwifmmcsiusiuosws</th>\n      <th>origin_up_ldkssxwpmemidmecebumciepifcamkci</th>\n      <th>origin_up_lxidpiddsbxsbosboudacockeimpuepw</th>\n      <th>origin_up_usapbepcfoloekilkwsdiboslwaxobdp</th>\n    </tr>\n    <tr>\n      <th>id</th>\n      <th></th>\n      <th></th>\n      <th></th>\n      <th></th>\n      <th></th>\n      <th></th>\n      <th></th>\n      <th></th>\n      <th></th>\n      <th></th>\n      <th></th>\n      <th></th>\n      <th></th>\n      <th></th>\n      <th></th>\n      <th></th>\n      <th></th>\n      <th></th>\n      <th></th>\n      <th></th>\n      <th></th>\n    </tr>\n  </thead>\n  <tbody>\n    <tr>\n      <th>90b5ecb31ae7d12c76ff9095c5fabf2d</th>\n      <td>7558</td>\n      <td>0</td>\n      <td>0</td>\n      <td>1135.04</td>\n      <td>0</td>\n      <td>15.97</td>\n      <td>0.144902</td>\n      <td>0.000000</td>\n      <td>44.311378</td>\n      <td>0.00</td>\n      <td>...</td>\n      <td>0</td>\n      <td>0</td>\n      <td>0</td>\n      <td>0</td>\n      <td>0</td>\n      <td>0</td>\n      <td>0</td>\n      <td>1</td>\n      <td>0</td>\n      <td>0</td>\n    </tr>\n    <tr>\n      <th>81bc2d17afe2e5f54b502ab82a4e0a03</th>\n      <td>8388</td>\n      <td>0</td>\n      <td>0</td>\n      <td>1212.53</td>\n      <td>0</td>\n      <td>5.37</td>\n      <td>0.166950</td>\n      <td>0.089695</td>\n      <td>44.311378</td>\n      <td>0.00</td>\n      <td>...</td>\n      <td>0</td>\n      <td>0</td>\n      <td>0</td>\n      <td>1</td>\n      <td>0</td>\n      <td>0</td>\n      <td>0</td>\n      <td>0</td>\n      <td>1</td>\n      <td>0</td>\n    </tr>\n    <tr>\n      <th>7198c5abbec106629c7391aa1c884aed</th>\n      <td>118619</td>\n      <td>0</td>\n      <td>0</td>\n      <td>7434.96</td>\n      <td>0</td>\n      <td>0.00</td>\n      <td>0.142065</td>\n      <td>0.000000</td>\n      <td>44.311378</td>\n      <td>0.00</td>\n      <td>...</td>\n      <td>0</td>\n      <td>1</td>\n      <td>0</td>\n      <td>0</td>\n      <td>0</td>\n      <td>0</td>\n      <td>1</td>\n      <td>0</td>\n      <td>0</td>\n      <td>0</td>\n    </tr>\n    <tr>\n      <th>5fd314ca29d97914fd0260c862763297</th>\n      <td>338402</td>\n      <td>0</td>\n      <td>12445</td>\n      <td>828.77</td>\n      <td>0</td>\n      <td>0.00</td>\n      <td>0.138765</td>\n      <td>0.000000</td>\n      <td>44.444710</td>\n      <td>0.00</td>\n      <td>...</td>\n      <td>1</td>\n      <td>0</td>\n      <td>0</td>\n      <td>0</td>\n      <td>0</td>\n      <td>0</td>\n      <td>0</td>\n      <td>0</td>\n      <td>1</td>\n      <td>0</td>\n    </tr>\n    <tr>\n      <th>a5f0362398eacbf6d40570635d5db857</th>\n      <td>41600</td>\n      <td>0</td>\n      <td>3700</td>\n      <td>4438.65</td>\n      <td>3700</td>\n      <td>131.35</td>\n      <td>0.116902</td>\n      <td>0.100015</td>\n      <td>40.606701</td>\n      <td>380.44</td>\n      <td>...</td>\n      <td>0</td>\n      <td>0</td>\n      <td>0</td>\n      <td>0</td>\n      <td>0</td>\n      <td>0</td>\n      <td>0</td>\n      <td>1</td>\n      <td>0</td>\n      <td>0</td>\n    </tr>\n  </tbody>\n</table>\n<p>5 rows × 29 columns</p>\n</div>"
     },
     "execution_count": 70,
     "metadata": {},
     "output_type": "execute_result"
    }
   ],
   "source": [
    "X_test.head()"
   ],
   "metadata": {
    "collapsed": false,
    "pycharm": {
     "name": "#%%\n"
    }
   }
  },
  {
   "cell_type": "code",
   "execution_count": 71,
   "outputs": [],
   "source": [
    "from sklearn.tree import DecisionTreeClassifier"
   ],
   "metadata": {
    "collapsed": false,
    "pycharm": {
     "name": "#%%\n"
    }
   }
  },
  {
   "cell_type": "code",
   "execution_count": 168,
   "outputs": [],
   "source": [
    "tree_model = DecisionTreeClassifier()"
   ],
   "metadata": {
    "collapsed": false,
    "pycharm": {
     "name": "#%%\n"
    }
   }
  },
  {
   "cell_type": "code",
   "execution_count": 169,
   "outputs": [
    {
     "data": {
      "text/plain": "DecisionTreeClassifier()"
     },
     "execution_count": 169,
     "metadata": {},
     "output_type": "execute_result"
    }
   ],
   "source": [
    "tree_model.fit(X_train,y_train)"
   ],
   "metadata": {
    "collapsed": false,
    "pycharm": {
     "name": "#%%\n"
    }
   }
  },
  {
   "cell_type": "code",
   "execution_count": 170,
   "outputs": [],
   "source": [
    "tree_pred = tree_model.predict(X_test)"
   ],
   "metadata": {
    "collapsed": false,
    "pycharm": {
     "name": "#%%\n"
    }
   }
  },
  {
   "cell_type": "code",
   "execution_count": 171,
   "outputs": [],
   "source": [
    "from sklearn.metrics import classification_report, confusion_matrix"
   ],
   "metadata": {
    "collapsed": false,
    "pycharm": {
     "name": "#%%\n"
    }
   }
  },
  {
   "cell_type": "code",
   "execution_count": 172,
   "outputs": [
    {
     "name": "stdout",
     "output_type": "stream",
     "text": [
      "              precision    recall  f1-score   support\n",
      "\n",
      "           0       0.91      0.90      0.90      3943\n",
      "           1       0.17      0.19      0.18       439\n",
      "\n",
      "    accuracy                           0.83      4382\n",
      "   macro avg       0.54      0.54      0.54      4382\n",
      "weighted avg       0.84      0.83      0.83      4382\n",
      "\n"
     ]
    }
   ],
   "source": [
    "print(classification_report(y_test, tree_pred))"
   ],
   "metadata": {
    "collapsed": false,
    "pycharm": {
     "name": "#%%\n"
    }
   }
  },
  {
   "cell_type": "markdown",
   "source": [
    "Poor performance on label 1"
   ],
   "metadata": {
    "collapsed": false,
    "pycharm": {
     "name": "#%% md\n"
    }
   }
  },
  {
   "cell_type": "markdown",
   "source": [
    "Retrain Model"
   ],
   "metadata": {
    "collapsed": false,
    "pycharm": {
     "name": "#%% md\n"
    }
   }
  },
  {
   "cell_type": "code",
   "execution_count": 173,
   "outputs": [
    {
     "data": {
      "text/plain": "                                Feature Importance\nnet_margin                                0.127184\ncons_12m                                  0.127115\nforecast_meter_rent_12m                   0.109270\nforecast_cons_12m                         0.087277\npow_max                                   0.074667\nforecast_price_energy_off_peak            0.072499\ncons_last_month                           0.066891\nmargin_net_pow_ele                        0.057123\nmargin_gross_pow_ele                      0.052402\nforecast_cons_year                        0.049409\nnum_years_antig                           0.045443\nimp_cons                                  0.044047\nforecast_price_energy_peak                0.037284\ncons_gas_12m                              0.023832\nforecast_price_pow_off_peak               0.015338\nnb_prod_act                               0.010220",
      "text/html": "<div>\n<style scoped>\n    .dataframe tbody tr th:only-of-type {\n        vertical-align: middle;\n    }\n\n    .dataframe tbody tr th {\n        vertical-align: top;\n    }\n\n    .dataframe thead th {\n        text-align: right;\n    }\n</style>\n<table border=\"1\" class=\"dataframe\">\n  <thead>\n    <tr style=\"text-align: right;\">\n      <th></th>\n      <th>Feature Importance</th>\n    </tr>\n  </thead>\n  <tbody>\n    <tr>\n      <th>net_margin</th>\n      <td>0.127184</td>\n    </tr>\n    <tr>\n      <th>cons_12m</th>\n      <td>0.127115</td>\n    </tr>\n    <tr>\n      <th>forecast_meter_rent_12m</th>\n      <td>0.109270</td>\n    </tr>\n    <tr>\n      <th>forecast_cons_12m</th>\n      <td>0.087277</td>\n    </tr>\n    <tr>\n      <th>pow_max</th>\n      <td>0.074667</td>\n    </tr>\n    <tr>\n      <th>forecast_price_energy_off_peak</th>\n      <td>0.072499</td>\n    </tr>\n    <tr>\n      <th>cons_last_month</th>\n      <td>0.066891</td>\n    </tr>\n    <tr>\n      <th>margin_net_pow_ele</th>\n      <td>0.057123</td>\n    </tr>\n    <tr>\n      <th>margin_gross_pow_ele</th>\n      <td>0.052402</td>\n    </tr>\n    <tr>\n      <th>forecast_cons_year</th>\n      <td>0.049409</td>\n    </tr>\n    <tr>\n      <th>num_years_antig</th>\n      <td>0.045443</td>\n    </tr>\n    <tr>\n      <th>imp_cons</th>\n      <td>0.044047</td>\n    </tr>\n    <tr>\n      <th>forecast_price_energy_peak</th>\n      <td>0.037284</td>\n    </tr>\n    <tr>\n      <th>cons_gas_12m</th>\n      <td>0.023832</td>\n    </tr>\n    <tr>\n      <th>forecast_price_pow_off_peak</th>\n      <td>0.015338</td>\n    </tr>\n    <tr>\n      <th>nb_prod_act</th>\n      <td>0.010220</td>\n    </tr>\n  </tbody>\n</table>\n</div>"
     },
     "execution_count": 173,
     "metadata": {},
     "output_type": "execute_result"
    }
   ],
   "source": [
    "imp = pd.DataFrame(index=X_train.columns, data=tree_model.feature_importances_,\n",
    "                   columns=['Feature Importance']).sort_values('Feature Importance', ascending=False)\n",
    "imp"
   ],
   "metadata": {
    "collapsed": false,
    "pycharm": {
     "name": "#%%\n"
    }
   }
  },
  {
   "cell_type": "markdown",
   "source": [
    "Drop origin up, channels sales, has gas"
   ],
   "metadata": {
    "collapsed": false,
    "pycharm": {
     "name": "#%% md\n"
    }
   }
  },
  {
   "cell_type": "code",
   "execution_count": 174,
   "outputs": [],
   "source": [
    "new_data_1 = df.drop(['forecast_discount_energy', 'date_activ', 'date_end', 'date_modif_prod', 'date_renewal',\n",
    "                    'origin_up', 'channel_sales', 'has_gas'], axis=1)\n",
    "new_data_1.set_index('id', inplace=True)"
   ],
   "metadata": {
    "collapsed": false,
    "pycharm": {
     "name": "#%%\n"
    }
   }
  },
  {
   "cell_type": "code",
   "execution_count": 175,
   "outputs": [],
   "source": [
    "X = new_data_1.drop('churn', axis=1)\n",
    "y = new_data_1['churn']"
   ],
   "metadata": {
    "collapsed": false,
    "pycharm": {
     "name": "#%%\n"
    }
   }
  },
  {
   "cell_type": "code",
   "execution_count": 176,
   "outputs": [],
   "source": [
    "X = pd.get_dummies(X)"
   ],
   "metadata": {
    "collapsed": false,
    "pycharm": {
     "name": "#%%\n"
    }
   }
  },
  {
   "cell_type": "code",
   "execution_count": 177,
   "outputs": [],
   "source": [
    "X_train, X_test, y_train, y_test = train_test_split(X, y, random_state=1, test_size=0.3)"
   ],
   "metadata": {
    "collapsed": false,
    "pycharm": {
     "name": "#%%\n"
    }
   }
  },
  {
   "cell_type": "code",
   "execution_count": 178,
   "outputs": [
    {
     "data": {
      "text/plain": "DecisionTreeClassifier()"
     },
     "execution_count": 178,
     "metadata": {},
     "output_type": "execute_result"
    }
   ],
   "source": [
    "tree_model.fit(X_train, y_train)"
   ],
   "metadata": {
    "collapsed": false,
    "pycharm": {
     "name": "#%%\n"
    }
   }
  },
  {
   "cell_type": "code",
   "execution_count": 179,
   "outputs": [],
   "source": [
    "tree_2_pred = tree_model.predict(X_test)"
   ],
   "metadata": {
    "collapsed": false,
    "pycharm": {
     "name": "#%%\n"
    }
   }
  },
  {
   "cell_type": "code",
   "execution_count": 180,
   "outputs": [
    {
     "name": "stdout",
     "output_type": "stream",
     "text": [
      "              precision    recall  f1-score   support\n",
      "\n",
      "           0       0.91      0.90      0.90      3943\n",
      "           1       0.17      0.19      0.18       439\n",
      "\n",
      "    accuracy                           0.83      4382\n",
      "   macro avg       0.54      0.54      0.54      4382\n",
      "weighted avg       0.84      0.83      0.83      4382\n",
      "\n"
     ]
    }
   ],
   "source": [
    "print(classification_report(y_test, tree_pred))"
   ],
   "metadata": {
    "collapsed": false,
    "pycharm": {
     "name": "#%%\n"
    }
   }
  },
  {
   "cell_type": "code",
   "execution_count": 181,
   "outputs": [
    {
     "data": {
      "text/plain": "                                Feature Importance\ncons_12m                                  0.124151\nnet_margin                                0.117614\nforecast_meter_rent_12m                   0.109024\nforecast_cons_12m                         0.108088\nforecast_price_energy_off_peak            0.074570\npow_max                                   0.070571\nmargin_net_pow_ele                        0.058886\ncons_last_month                           0.054035\nimp_cons                                  0.052055\nmargin_gross_pow_ele                      0.049433\nforecast_cons_year                        0.048184\nnum_years_antig                           0.040193\nforecast_price_energy_peak                0.036653\ncons_gas_12m                              0.028743\nforecast_price_pow_off_peak               0.017030\nnb_prod_act                               0.010770",
      "text/html": "<div>\n<style scoped>\n    .dataframe tbody tr th:only-of-type {\n        vertical-align: middle;\n    }\n\n    .dataframe tbody tr th {\n        vertical-align: top;\n    }\n\n    .dataframe thead th {\n        text-align: right;\n    }\n</style>\n<table border=\"1\" class=\"dataframe\">\n  <thead>\n    <tr style=\"text-align: right;\">\n      <th></th>\n      <th>Feature Importance</th>\n    </tr>\n  </thead>\n  <tbody>\n    <tr>\n      <th>cons_12m</th>\n      <td>0.124151</td>\n    </tr>\n    <tr>\n      <th>net_margin</th>\n      <td>0.117614</td>\n    </tr>\n    <tr>\n      <th>forecast_meter_rent_12m</th>\n      <td>0.109024</td>\n    </tr>\n    <tr>\n      <th>forecast_cons_12m</th>\n      <td>0.108088</td>\n    </tr>\n    <tr>\n      <th>forecast_price_energy_off_peak</th>\n      <td>0.074570</td>\n    </tr>\n    <tr>\n      <th>pow_max</th>\n      <td>0.070571</td>\n    </tr>\n    <tr>\n      <th>margin_net_pow_ele</th>\n      <td>0.058886</td>\n    </tr>\n    <tr>\n      <th>cons_last_month</th>\n      <td>0.054035</td>\n    </tr>\n    <tr>\n      <th>imp_cons</th>\n      <td>0.052055</td>\n    </tr>\n    <tr>\n      <th>margin_gross_pow_ele</th>\n      <td>0.049433</td>\n    </tr>\n    <tr>\n      <th>forecast_cons_year</th>\n      <td>0.048184</td>\n    </tr>\n    <tr>\n      <th>num_years_antig</th>\n      <td>0.040193</td>\n    </tr>\n    <tr>\n      <th>forecast_price_energy_peak</th>\n      <td>0.036653</td>\n    </tr>\n    <tr>\n      <th>cons_gas_12m</th>\n      <td>0.028743</td>\n    </tr>\n    <tr>\n      <th>forecast_price_pow_off_peak</th>\n      <td>0.017030</td>\n    </tr>\n    <tr>\n      <th>nb_prod_act</th>\n      <td>0.010770</td>\n    </tr>\n  </tbody>\n</table>\n</div>"
     },
     "execution_count": 181,
     "metadata": {},
     "output_type": "execute_result"
    }
   ],
   "source": [
    "imp_2 = pd.DataFrame(index=X_train.columns, data=tree_model.feature_importances_,\n",
    "                   columns=['Feature Importance']).sort_values('Feature Importance', ascending=False)\n",
    "imp_2"
   ],
   "metadata": {
    "collapsed": false,
    "pycharm": {
     "name": "#%%\n"
    }
   }
  },
  {
   "cell_type": "code",
   "execution_count": 189,
   "outputs": [],
   "source": [
    "from  sklearn.model_selection import GridSearchCV"
   ],
   "metadata": {
    "collapsed": false,
    "pycharm": {
     "name": "#%%\n"
    }
   }
  },
  {
   "cell_type": "code",
   "execution_count": 206,
   "outputs": [],
   "source": [
    "param_grid = {'criterion':['gini', 'entropy'], 'max_depth':[2, 3, 4]}"
   ],
   "metadata": {
    "collapsed": false,
    "pycharm": {
     "name": "#%%\n"
    }
   }
  },
  {
   "cell_type": "code",
   "execution_count": 207,
   "outputs": [],
   "source": [
    "grid = GridSearchCV(tree_model, param_grid=param_grid, cv=5)"
   ],
   "metadata": {
    "collapsed": false,
    "pycharm": {
     "name": "#%%\n"
    }
   }
  },
  {
   "cell_type": "code",
   "execution_count": 208,
   "outputs": [
    {
     "data": {
      "text/plain": "GridSearchCV(cv=5, estimator=DecisionTreeClassifier(),\n             param_grid={'criterion': ['gini', 'entropy'],\n                         'max_depth': [2, 3, 4]})"
     },
     "execution_count": 208,
     "metadata": {},
     "output_type": "execute_result"
    }
   ],
   "source": [
    "grid.fit(X_train,y_train)"
   ],
   "metadata": {
    "collapsed": false,
    "pycharm": {
     "name": "#%%\n"
    }
   }
  },
  {
   "cell_type": "code",
   "execution_count": 209,
   "outputs": [
    {
     "data": {
      "text/plain": "{'criterion': 'entropy', 'max_depth': 4}"
     },
     "execution_count": 209,
     "metadata": {},
     "output_type": "execute_result"
    }
   ],
   "source": [
    "grid.best_params_"
   ],
   "metadata": {
    "collapsed": false,
    "pycharm": {
     "name": "#%%\n"
    }
   }
  },
  {
   "cell_type": "code",
   "execution_count": 211,
   "outputs": [],
   "source": [
    "grid_pred = grid.predict(X_test)"
   ],
   "metadata": {
    "collapsed": false,
    "pycharm": {
     "name": "#%%\n"
    }
   }
  },
  {
   "cell_type": "code",
   "execution_count": 212,
   "outputs": [
    {
     "name": "stdout",
     "output_type": "stream",
     "text": [
      "              precision    recall  f1-score   support\n",
      "\n",
      "           0       0.90      1.00      0.95      3943\n",
      "           1       1.00      0.00      0.01       439\n",
      "\n",
      "    accuracy                           0.90      4382\n",
      "   macro avg       0.95      0.50      0.48      4382\n",
      "weighted avg       0.91      0.90      0.85      4382\n",
      "\n"
     ]
    }
   ],
   "source": [
    "print(classification_report(y_test, grid_pred))"
   ],
   "metadata": {
    "collapsed": false,
    "pycharm": {
     "name": "#%%\n"
    }
   }
  },
  {
   "cell_type": "markdown",
   "source": [
    "Its not improving yet"
   ],
   "metadata": {
    "collapsed": false,
    "pycharm": {
     "name": "#%% md\n"
    }
   }
  },
  {
   "cell_type": "code",
   "execution_count": 213,
   "outputs": [],
   "source": [
    "from sklearn.tree import plot_tree"
   ],
   "metadata": {
    "collapsed": false,
    "pycharm": {
     "name": "#%%\n"
    }
   }
  },
  {
   "cell_type": "code",
   "execution_count": null,
   "outputs": [
    {
     "data": {
      "text/plain": "[Text(217.7092076854666, 214.5016216216216, 'X[11] <= 31.18\\ngini = 0.173\\nsamples = 10224\\nvalue = [9244, 980]'),\n Text(144.2086444367535, 208.62486486486486, 'X[11] <= 22.545\\ngini = 0.144\\nsamples = 7953\\nvalue = [7332, 621]'),\n Text(119.20493062017651, 202.7481081081081, 'X[13] <= 1894.665\\ngini = 0.126\\nsamples = 5419\\nvalue = [5054, 365]'),\n Text(113.05623414364842, 196.87135135135134, 'X[5] <= 142.68\\ngini = 0.125\\nsamples = 5414\\nvalue = [5052, 362]'),\n Text(101.9145070122847, 190.9945945945946, 'X[1] <= 51434.5\\ngini = 0.117\\nsamples = 4961\\nvalue = [4652, 309]'),\n Text(93.24624071137161, 185.11783783783784, 'X[1] <= 51224.0\\ngini = 0.122\\nsamples = 4705\\nvalue = [4399, 306]'),\n Text(92.86101877080746, 179.24108108108106, 'X[13] <= 911.66\\ngini = 0.12\\nsamples = 4699\\nvalue = [4399, 300]'),\n Text(77.25798490151999, 173.36432432432431, 'X[6] <= 0.184\\ngini = 0.118\\nsamples = 4678\\nvalue = [4383, 295]'),\n Text(47.97802686576583, 167.48756756756757, 'X[13] <= 28.15\\ngini = 0.117\\nsamples = 4657\\nvalue = [4367, 290]'),\n Text(12.28496844830376, 161.6108108108108, 'X[0] <= 32330.5\\ngini = 0.164\\nsamples = 555\\nvalue = [505, 50]'),\n Text(8.823990076047679, 155.73405405405404, 'X[4] <= 23.0\\ngini = 0.125\\nsamples = 478\\nvalue = [446, 32]'),\n Text(5.56164176689499, 149.8572972972973, 'X[9] <= 2.825\\ngini = 0.156\\nsamples = 316\\nvalue = [289, 27]'),\n Text(5.176419826330835, 143.98054054054052, 'X[14] <= 5.5\\ngini = 0.151\\nsamples = 315\\nvalue = [289, 26]'),\n Text(2.696553583949086, 138.1037837837838, 'X[10] <= 12.45\\ngini = 0.074\\nsamples = 156\\nvalue = [150, 6]'),\n Text(1.9261097028207756, 132.22702702702702, 'X[5] <= 28.765\\ngini = 0.184\\nsamples = 39\\nvalue = [35, 4]'),\n Text(1.5408877622566206, 126.35027027027026, 'X[0] <= 4555.5\\ngini = 0.145\\nsamples = 38\\nvalue = [35, 3]'),\n Text(0.7704438811283103, 120.47351351351351, 'X[14] <= 4.5\\ngini = 0.059\\nsamples = 33\\nvalue = [32, 1]'),\n Text(0.38522194056415515, 114.59675675675675, 'gini = 0.0\\nsamples = 23\\nvalue = [23, 0]'),\n Text(1.1556658216924656, 114.59675675675675, 'X[13] <= 9.775\\ngini = 0.18\\nsamples = 10\\nvalue = [9, 1]'),\n Text(0.7704438811283103, 108.71999999999998, 'X[13] <= 2.985\\ngini = 0.5\\nsamples = 2\\nvalue = [1, 1]'),\n Text(0.38522194056415515, 102.84324324324324, 'gini = 0.0\\nsamples = 1\\nvalue = [1, 0]'),\n Text(1.1556658216924656, 102.84324324324324, 'gini = 0.0\\nsamples = 1\\nvalue = [0, 1]'),\n Text(1.5408877622566206, 108.71999999999998, 'gini = 0.0\\nsamples = 8\\nvalue = [8, 0]'),\n Text(2.311331643384931, 120.47351351351351, 'X[0] <= 6385.5\\ngini = 0.48\\nsamples = 5\\nvalue = [3, 2]'),\n Text(1.9261097028207756, 114.59675675675675, 'gini = 0.0\\nsamples = 2\\nvalue = [0, 2]'),\n Text(2.696553583949086, 114.59675675675675, 'gini = 0.0\\nsamples = 3\\nvalue = [3, 0]'),\n Text(2.311331643384931, 126.35027027027026, 'gini = 0.0\\nsamples = 1\\nvalue = [0, 1]'),\n Text(3.4669974650773963, 132.22702702702702, 'X[10] <= 21.03\\ngini = 0.034\\nsamples = 117\\nvalue = [115, 2]'),\n Text(3.081775524513241, 126.35027027027026, 'gini = 0.0\\nsamples = 75\\nvalue = [75, 0]'),\n Text(3.8522194056415513, 126.35027027027026, 'X[13] <= 17.285\\ngini = 0.091\\nsamples = 42\\nvalue = [40, 2]'),\n Text(3.4669974650773963, 120.47351351351351, 'gini = 0.0\\nsamples = 25\\nvalue = [25, 0]'),\n Text(4.237441346205706, 120.47351351351351, 'X[13] <= 17.965\\ngini = 0.208\\nsamples = 17\\nvalue = [15, 2]'),\n Text(3.8522194056415513, 114.59675675675675, 'gini = 0.0\\nsamples = 1\\nvalue = [0, 1]'),\n Text(4.622663286769862, 114.59675675675675, 'X[3] <= 259.885\\ngini = 0.117\\nsamples = 16\\nvalue = [15, 1]'),\n Text(4.237441346205706, 108.71999999999998, 'gini = 0.0\\nsamples = 11\\nvalue = [11, 0]'),\n Text(5.007885227334017, 108.71999999999998, 'X[13] <= 25.99\\ngini = 0.32\\nsamples = 5\\nvalue = [4, 1]'),\n Text(4.622663286769862, 102.84324324324324, 'gini = 0.0\\nsamples = 1\\nvalue = [0, 1]'),\n Text(5.393107167898172, 102.84324324324324, 'gini = 0.0\\nsamples = 4\\nvalue = [4, 0]'),\n Text(7.656286068712584, 138.1037837837838, 'X[6] <= 0.142\\ngini = 0.22\\nsamples = 159\\nvalue = [139, 20]'),\n Text(7.271064128148429, 132.22702702702702, 'gini = 0.0\\nsamples = 36\\nvalue = [36, 0]'),\n Text(8.041508009276738, 132.22702702702702, 'X[6] <= 0.143\\ngini = 0.272\\nsamples = 123\\nvalue = [103, 20]'),\n Text(7.271064128148429, 126.35027027027026, 'X[0] <= 2387.5\\ngini = 0.48\\nsamples = 5\\nvalue = [2, 3]'),\n Text(6.885842187584274, 120.47351351351351, 'gini = 0.0\\nsamples = 3\\nvalue = [0, 3]'),\n Text(7.656286068712584, 120.47351351351351, 'gini = 0.0\\nsamples = 2\\nvalue = [2, 0]'),\n Text(8.81195189040505, 126.35027027027026, 'X[14] <= 8.5\\ngini = 0.247\\nsamples = 118\\nvalue = [101, 17]'),\n Text(8.426729949840894, 120.47351351351351, 'X[5] <= 52.1\\ngini = 0.236\\nsamples = 117\\nvalue = [101, 16]'),\n Text(8.041508009276738, 114.59675675675675, 'X[10] <= 8.22\\ngini = 0.225\\nsamples = 116\\nvalue = [101, 15]'),\n Text(6.5487729895906375, 108.71999999999998, 'X[7] <= 0.044\\ngini = 0.5\\nsamples = 4\\nvalue = [2, 2]'),\n Text(6.163551049026482, 102.84324324324324, 'gini = 0.0\\nsamples = 2\\nvalue = [2, 0]'),\n Text(6.9339949301547925, 102.84324324324324, 'gini = 0.0\\nsamples = 2\\nvalue = [0, 2]'),\n Text(9.53424302896284, 108.71999999999998, 'X[0] <= 5238.0\\ngini = 0.205\\nsamples = 112\\nvalue = [99, 13]'),\n Text(7.704438811283103, 102.84324324324324, 'X[13] <= 25.865\\ngini = 0.157\\nsamples = 93\\nvalue = [85, 8]'),\n Text(6.35616201930856, 96.96648648648647, 'X[9] <= 0.21\\ngini = 0.113\\nsamples = 83\\nvalue = [78, 5]'),\n Text(5.585718138180249, 91.08972972972973, 'X[5] <= 16.285\\ngini = 0.094\\nsamples = 81\\nvalue = [77, 4]'),\n Text(5.200496197616094, 85.21297297297295, 'gini = 0.0\\nsamples = 36\\nvalue = [36, 0]'),\n Text(5.9709400787444045, 85.21297297297295, 'X[5] <= 16.33\\ngini = 0.162\\nsamples = 45\\nvalue = [41, 4]'),\n Text(5.200496197616094, 79.3362162162162, 'X[0] <= 1502.5\\ngini = 0.5\\nsamples = 2\\nvalue = [1, 1]'),\n Text(4.815274257051939, 73.45945945945945, 'gini = 0.0\\nsamples = 1\\nvalue = [0, 1]'),\n Text(5.585718138180249, 73.45945945945945, 'gini = 0.0\\nsamples = 1\\nvalue = [1, 0]'),\n Text(6.741383959872715, 79.3362162162162, 'X[13] <= 20.0\\ngini = 0.13\\nsamples = 43\\nvalue = [40, 3]'),\n Text(6.35616201930856, 73.45945945945945, 'gini = 0.0\\nsamples = 27\\nvalue = [27, 0]'),\n Text(7.1266059004368705, 73.45945945945945, 'X[13] <= 22.28\\ngini = 0.305\\nsamples = 16\\nvalue = [13, 3]'),\n Text(6.741383959872715, 67.5827027027027, 'X[6] <= 0.145\\ngini = 0.5\\nsamples = 6\\nvalue = [3, 3]'),\n Text(6.35616201930856, 61.70594594594593, 'gini = 0.0\\nsamples = 3\\nvalue = [3, 0]'),\n Text(7.1266059004368705, 61.70594594594593, 'gini = 0.0\\nsamples = 3\\nvalue = [0, 3]'),\n Text(7.5118278410010255, 67.5827027027027, 'gini = 0.0\\nsamples = 10\\nvalue = [10, 0]'),\n Text(7.1266059004368705, 91.08972972972973, 'X[1] <= 7073.5\\ngini = 0.5\\nsamples = 2\\nvalue = [1, 1]'),\n Text(6.741383959872715, 85.21297297297295, 'gini = 0.0\\nsamples = 1\\nvalue = [0, 1]'),\n Text(7.5118278410010255, 85.21297297297295, 'gini = 0.0\\nsamples = 1\\nvalue = [1, 0]'),\n Text(9.052715603257646, 96.96648648648647, 'X[14] <= 6.5\\ngini = 0.42\\nsamples = 10\\nvalue = [7, 3]'),\n Text(8.667493662693492, 91.08972972972973, 'X[3] <= 331.265\\ngini = 0.219\\nsamples = 8\\nvalue = [7, 1]'),\n Text(8.282271722129336, 85.21297297297295, 'gini = 0.0\\nsamples = 7\\nvalue = [7, 0]'),\n Text(9.052715603257646, 85.21297297297295, 'gini = 0.0\\nsamples = 1\\nvalue = [0, 1]'),\n Text(9.437937543821802, 91.08972972972973, 'gini = 0.0\\nsamples = 2\\nvalue = [0, 2]'),\n Text(11.364047246642578, 102.84324324324324, 'X[0] <= 6269.5\\ngini = 0.388\\nsamples = 19\\nvalue = [14, 5]'),\n Text(10.593603365514266, 96.96648648648647, 'X[3] <= 146.58\\ngini = 0.48\\nsamples = 5\\nvalue = [2, 3]'),\n Text(10.208381424950112, 91.08972972972973, 'X[12] <= 1.5\\ngini = 0.444\\nsamples = 3\\nvalue = [2, 1]'),\n Text(9.823159484385956, 85.21297297297295, 'gini = 0.0\\nsamples = 2\\nvalue = [2, 0]'),\n Text(10.593603365514266, 85.21297297297295, 'gini = 0.0\\nsamples = 1\\nvalue = [0, 1]'),\n Text(10.978825306078422, 91.08972972972973, 'gini = 0.0\\nsamples = 2\\nvalue = [0, 2]'),\n Text(12.134491127770888, 96.96648648648647, 'X[5] <= 12.905\\ngini = 0.245\\nsamples = 14\\nvalue = [12, 2]'),\n Text(11.749269187206732, 91.08972972972973, 'X[0] <= 11322.5\\ngini = 0.5\\nsamples = 4\\nvalue = [2, 2]'),\n Text(11.364047246642578, 85.21297297297295, 'gini = 0.0\\nsamples = 2\\nvalue = [2, 0]'),\n Text(12.134491127770888, 85.21297297297295, 'gini = 0.0\\nsamples = 2\\nvalue = [0, 2]'),\n Text(12.519713068335042, 91.08972972972973, 'gini = 0.0\\nsamples = 10\\nvalue = [10, 0]'),\n Text(8.81195189040505, 114.59675675675675, 'gini = 0.0\\nsamples = 1\\nvalue = [0, 1]'),\n Text(9.197173830969204, 120.47351351351351, 'gini = 0.0\\nsamples = 1\\nvalue = [0, 1]'),\n Text(5.946863707459145, 143.98054054054052, 'gini = 0.0\\nsamples = 1\\nvalue = [0, 1]'),\n Text(12.086338385200367, 149.8572972972973, 'X[5] <= 133.35\\ngini = 0.06\\nsamples = 162\\nvalue = [157, 5]'),\n Text(11.701116444636213, 143.98054054054052, 'X[11] <= 21.5\\ngini = 0.048\\nsamples = 161\\nvalue = [157, 4]'),\n Text(10.738061593225824, 138.1037837837838, 'X[1] <= 12680.0\\ngini = 0.027\\nsamples = 147\\nvalue = [145, 2]'),\n Text(9.967617712097514, 132.22702702702702, 'X[3] <= 329.46\\ngini = 0.014\\nsamples = 142\\nvalue = [141, 1]'),\n Text(9.58239577153336, 126.35027027027026, 'gini = 0.0\\nsamples = 130\\nvalue = [130, 0]'),\n Text(10.35283965266167, 126.35027027027026, 'X[3] <= 332.685\\ngini = 0.153\\nsamples = 12\\nvalue = [11, 1]'),\n Text(9.967617712097514, 120.47351351351351, 'gini = 0.0\\nsamples = 1\\nvalue = [0, 1]'),\n Text(10.738061593225824, 120.47351351351351, 'gini = 0.0\\nsamples = 11\\nvalue = [11, 0]'),\n Text(11.508505474354136, 132.22702702702702, 'X[10] <= 15.02\\ngini = 0.32\\nsamples = 5\\nvalue = [4, 1]'),\n Text(11.12328353378998, 126.35027027027026, 'gini = 0.0\\nsamples = 4\\nvalue = [4, 0]'),\n Text(11.89372741491829, 126.35027027027026, 'gini = 0.0\\nsamples = 1\\nvalue = [0, 1]'),\n Text(12.6641712960466, 138.1037837837838, 'X[13] <= 25.835\\ngini = 0.245\\nsamples = 14\\nvalue = [12, 2]'),\n Text(12.278949355482446, 132.22702702702702, 'gini = 0.0\\nsamples = 11\\nvalue = [11, 0]'),\n Text(13.049393236610756, 132.22702702702702, 'X[0] <= 2227.5\\ngini = 0.444\\nsamples = 3\\nvalue = [1, 2]'),\n Text(12.6641712960466, 126.35027027027026, 'gini = 0.0\\nsamples = 1\\nvalue = [1, 0]'),\n Text(13.43461517717491, 126.35027027027026, 'gini = 0.0\\nsamples = 2\\nvalue = [0, 2]'),\n Text(12.471560325764523, 143.98054054054052, 'gini = 0.0\\nsamples = 1\\nvalue = [0, 1]'),\n Text(15.745946820559842, 155.73405405405404, 'X[2] <= 181.5\\ngini = 0.358\\nsamples = 77\\nvalue = [59, 18]'),\n Text(14.975502939431532, 149.8572972972973, 'X[0] <= 59978.5\\ngini = 0.42\\nsamples = 20\\nvalue = [6, 14]'),\n Text(14.590280998867376, 143.98054054054052, 'X[0] <= 43633.0\\ngini = 0.291\\nsamples = 17\\nvalue = [3, 14]'),\n Text(14.20505905830322, 138.1037837837838, 'X[0] <= 38036.5\\ngini = 0.5\\nsamples = 6\\nvalue = [3, 3]'),\n Text(13.819837117739066, 132.22702702702702, 'gini = 0.0\\nsamples = 3\\nvalue = [0, 3]'),\n Text(14.590280998867376, 132.22702702702702, 'gini = 0.0\\nsamples = 3\\nvalue = [3, 0]'),\n Text(14.975502939431532, 138.1037837837838, 'gini = 0.0\\nsamples = 11\\nvalue = [0, 11]'),\n Text(15.360724879995686, 143.98054054054052, 'gini = 0.0\\nsamples = 3\\nvalue = [3, 0]'),\n Text(16.516390701688152, 149.8572972972973, 'X[10] <= 22.08\\ngini = 0.131\\nsamples = 57\\nvalue = [53, 4]'),\n Text(16.131168761123998, 143.98054054054052, 'X[3] <= 1678.095\\ngini = 0.101\\nsamples = 56\\nvalue = [53, 3]'),\n Text(15.745946820559842, 138.1037837837838, 'X[13] <= 27.945\\ngini = 0.07\\nsamples = 55\\nvalue = [53, 2]'),\n Text(15.360724879995686, 132.22702702702702, 'X[8] <= 52.739\\ngini = 0.036\\nsamples = 54\\nvalue = [53, 1]'),\n Text(14.975502939431532, 126.35027027027026, 'gini = 0.0\\nsamples = 50\\nvalue = [50, 0]'),\n Text(15.745946820559842, 126.35027027027026, 'X[2] <= 4777.5\\ngini = 0.375\\nsamples = 4\\nvalue = [3, 1]'),\n Text(15.360724879995686, 120.47351351351351, 'gini = 0.0\\nsamples = 1\\nvalue = [0, 1]'),\n Text(16.131168761123998, 120.47351351351351, 'gini = 0.0\\nsamples = 3\\nvalue = [3, 0]'),\n Text(16.131168761123998, 132.22702702702702, 'gini = 0.0\\nsamples = 1\\nvalue = [0, 1]'),\n Text(16.516390701688152, 138.1037837837838, 'gini = 0.0\\nsamples = 1\\nvalue = [0, 1]'),\n Text(16.901612642252307, 143.98054054054052, 'gini = 0.0\\nsamples = 1\\nvalue = [0, 1]'),\n Text(83.67108528322788, 161.6108108108108, 'X[10] <= 21.1\\ngini = 0.11\\nsamples = 4102\\nvalue = [3862, 240]'),\n Text(66.29364028222082, 155.73405405405404, 'X[11] <= 14.695\\ngini = 0.118\\nsamples = 3646\\nvalue = [3416, 230]'),\n Text(52.06794790304259, 149.8572972972973, 'X[0] <= 941369.5\\ngini = 0.098\\nsamples = 2065\\nvalue = [1958, 107]'),\n Text(47.724957884721704, 143.98054054054052, 'X[3] <= 14898.05\\ngini = 0.092\\nsamples = 1995\\nvalue = [1899, 96]'),\n Text(42.12075337259318, 138.1037837837838, 'X[0] <= 64017.5\\ngini = 0.091\\nsamples = 1993\\nvalue = [1898, 95]'),\n Text(32.068010170028586, 132.22702702702702, 'X[0] <= 63860.0\\ngini = 0.099\\nsamples = 1724\\nvalue = [1634, 90]'),\n Text(31.682788229464432, 126.35027027027026, 'X[2] <= 12610.5\\ngini = 0.098\\nsamples = 1723\\nvalue = [1634, 89]'),\n Text(28.112031949463354, 120.47351351351351, 'X[0] <= 14523.5\\ngini = 0.096\\nsamples = 1718\\nvalue = [1631, 87]'),\n Text(22.12618521115366, 114.59675675675675, 'X[5] <= 19.825\\ngini = 0.072\\nsamples = 877\\nvalue = [844, 33]'),\n Text(18.827722345073084, 108.71999999999998, 'X[13] <= 84.41\\ngini = 0.052\\nsamples = 706\\nvalue = [687, 19]'),\n Text(16.853459899681788, 102.84324324324324, 'X[13] <= 84.23\\ngini = 0.075\\nsamples = 411\\nvalue = [395, 16]'),\n Text(16.468237959117634, 96.96648648648647, 'X[4] <= 2592.0\\ngini = 0.07\\nsamples = 410\\nvalue = [395, 15]'),\n Text(14.638433741437895, 91.08972972972973, 'X[13] <= 73.02\\ngini = 0.062\\nsamples = 405\\nvalue = [392, 13]'),\n Text(12.904935008899198, 85.21297297297295, 'X[5] <= 16.575\\ngini = 0.041\\nsamples = 331\\nvalue = [324, 7]'),\n Text(11.941880157488809, 79.3362162162162, 'X[5] <= 0.045\\ngini = 0.01\\nsamples = 202\\nvalue = [201, 1]'),\n Text(11.556658216924655, 73.45945945945945, 'X[6] <= 0.143\\ngini = 0.245\\nsamples = 7\\nvalue = [6, 1]'),\n Text(11.171436276360499, 67.5827027027027, 'gini = 0.0\\nsamples = 1\\nvalue = [0, 1]'),\n Text(11.941880157488809, 67.5827027027027, 'gini = 0.0\\nsamples = 6\\nvalue = [6, 0]'),\n Text(12.327102098052965, 73.45945945945945, 'gini = 0.0\\nsamples = 195\\nvalue = [195, 0]'),\n Text(13.867989860309585, 79.3362162162162, 'X[8] <= 44.81\\ngini = 0.089\\nsamples = 129\\nvalue = [123, 6]'),\n Text(13.48276791974543, 73.45945945945945, 'X[13] <= 29.65\\ngini = 0.075\\nsamples = 128\\nvalue = [123, 5]'),\n Text(12.71232403861712, 67.5827027027027, 'X[5] <= 16.635\\ngini = 0.375\\nsamples = 4\\nvalue = [3, 1]'),\n Text(12.327102098052965, 61.70594594594593, 'gini = 0.0\\nsamples = 1\\nvalue = [0, 1]'),\n Text(13.097545979181275, 61.70594594594593, 'gini = 0.0\\nsamples = 3\\nvalue = [3, 0]'),\n Text(14.253211800873741, 67.5827027027027, 'X[15] <= 11.415\\ngini = 0.062\\nsamples = 124\\nvalue = [120, 4]'),\n Text(13.867989860309585, 61.70594594594593, 'gini = 0.0\\nsamples = 63\\nvalue = [63, 0]'),\n Text(14.638433741437895, 61.70594594594593, 'X[15] <= 11.965\\ngini = 0.123\\nsamples = 61\\nvalue = [57, 4]'),\n Text(14.253211800873741, 55.82918918918918, 'gini = 0.0\\nsamples = 1\\nvalue = [0, 1]'),\n Text(15.023655682002051, 55.82918918918918, 'X[6] <= 0.164\\ngini = 0.095\\nsamples = 60\\nvalue = [57, 3]'),\n Text(14.253211800873741, 49.95243243243243, 'X[5] <= 18.49\\ngini = 0.069\\nsamples = 56\\nvalue = [54, 2]'),\n Text(13.867989860309585, 44.075675675675654, 'gini = 0.0\\nsamples = 41\\nvalue = [41, 0]'),\n Text(14.638433741437895, 44.075675675675654, 'X[5] <= 18.555\\ngini = 0.231\\nsamples = 15\\nvalue = [13, 2]'),\n Text(14.253211800873741, 38.198918918918906, 'gini = 0.0\\nsamples = 1\\nvalue = [0, 1]'),\n Text(15.023655682002051, 38.198918918918906, 'X[10] <= 13.11\\ngini = 0.133\\nsamples = 14\\nvalue = [13, 1]'),\n Text(14.638433741437895, 32.32216216216216, 'gini = 0.0\\nsamples = 12\\nvalue = [12, 0]'),\n Text(15.408877622566205, 32.32216216216216, 'X[4] <= 196.0\\ngini = 0.5\\nsamples = 2\\nvalue = [1, 1]'),\n Text(15.023655682002051, 26.44540540540538, 'gini = 0.0\\nsamples = 1\\nvalue = [0, 1]'),\n Text(15.794099563130361, 26.44540540540538, 'gini = 0.0\\nsamples = 1\\nvalue = [1, 0]'),\n Text(15.794099563130361, 49.95243243243243, 'X[3] <= 625.745\\ngini = 0.375\\nsamples = 4\\nvalue = [3, 1]'),\n Text(15.408877622566205, 44.075675675675654, 'gini = 0.0\\nsamples = 1\\nvalue = [0, 1]'),\n Text(16.179321503694517, 44.075675675675654, 'gini = 0.0\\nsamples = 3\\nvalue = [3, 0]'),\n Text(14.253211800873741, 73.45945945945945, 'gini = 0.0\\nsamples = 1\\nvalue = [0, 1]'),\n Text(16.371932473976592, 85.21297297297295, 'X[13] <= 73.125\\ngini = 0.149\\nsamples = 74\\nvalue = [68, 6]'),\n Text(15.986710533412438, 79.3362162162162, 'gini = 0.0\\nsamples = 1\\nvalue = [0, 1]'),\n Text(16.75715441454075, 79.3362162162162, 'X[10] <= 9.975\\ngini = 0.128\\nsamples = 73\\nvalue = [68, 5]'),\n Text(15.408877622566205, 73.45945945945945, 'X[10] <= 8.955\\ngini = 0.32\\nsamples = 15\\nvalue = [12, 3]'),\n Text(15.023655682002051, 67.5827027027027, 'gini = 0.0\\nsamples = 9\\nvalue = [9, 0]'),\n Text(15.794099563130361, 67.5827027027027, 'X[6] <= 0.143\\ngini = 0.5\\nsamples = 6\\nvalue = [3, 3]'),\n Text(15.408877622566205, 61.70594594594593, 'gini = 0.0\\nsamples = 2\\nvalue = [2, 0]'),\n Text(16.179321503694517, 61.70594594594593, 'X[0] <= 5802.5\\ngini = 0.375\\nsamples = 4\\nvalue = [1, 3]'),\n Text(15.794099563130361, 55.82918918918918, 'gini = 0.0\\nsamples = 1\\nvalue = [1, 0]'),\n Text(16.56454344425867, 55.82918918918918, 'gini = 0.0\\nsamples = 3\\nvalue = [0, 3]'),\n Text(18.10543120651529, 73.45945945945945, 'X[6] <= 0.142\\ngini = 0.067\\nsamples = 58\\nvalue = [56, 2]'),\n Text(17.334987325386983, 67.5827027027027, 'X[5] <= 13.735\\ngini = 0.444\\nsamples = 3\\nvalue = [2, 1]'),\n Text(16.949765384822825, 61.70594594594593, 'gini = 0.0\\nsamples = 1\\nvalue = [0, 1]'),\n Text(17.720209265951137, 61.70594594594593, 'gini = 0.0\\nsamples = 2\\nvalue = [2, 0]'),\n Text(18.875875087643603, 67.5827027027027, 'X[0] <= 4931.5\\ngini = 0.036\\nsamples = 55\\nvalue = [54, 1]'),\n Text(18.49065314707945, 61.70594594594593, 'X[1] <= 1847.0\\ngini = 0.32\\nsamples = 5\\nvalue = [4, 1]'),\n Text(18.10543120651529, 55.82918918918918, 'gini = 0.0\\nsamples = 4\\nvalue = [4, 0]'),\n Text(18.875875087643603, 55.82918918918918, 'gini = 0.0\\nsamples = 1\\nvalue = [0, 1]'),\n Text(19.261097028207757, 61.70594594594593, 'gini = 0.0\\nsamples = 50\\nvalue = [50, 0]'),\n Text(18.29804217679737, 91.08972972972973, 'X[9] <= 321.965\\ngini = 0.48\\nsamples = 5\\nvalue = [3, 2]'),\n Text(17.912820236233216, 85.21297297297295, 'X[10] <= 11.465\\ngini = 0.444\\nsamples = 3\\nvalue = [1, 2]'),\n Text(17.52759829566906, 79.3362162162162, 'gini = 0.0\\nsamples = 1\\nvalue = [1, 0]'),\n Text(18.29804217679737, 79.3362162162162, 'gini = 0.0\\nsamples = 2\\nvalue = [0, 2]'),\n Text(18.683264117361524, 85.21297297297295, 'gini = 0.0\\nsamples = 2\\nvalue = [2, 0]'),\n Text(17.238681840245942, 96.96648648648647, 'gini = 0.0\\nsamples = 1\\nvalue = [0, 1]'),\n Text(20.801984790464378, 102.84324324324324, 'X[6] <= 0.141\\ngini = 0.02\\nsamples = 295\\nvalue = [292, 3]'),\n Text(19.453707998489836, 96.96648648648647, 'X[3] <= 1589.755\\ngini = 0.142\\nsamples = 13\\nvalue = [12, 1]'),\n Text(19.06848605792568, 91.08972972972973, 'gini = 0.0\\nsamples = 11\\nvalue = [11, 0]'),\n Text(19.83892993905399, 91.08972972972973, 'X[5] <= 14.235\\ngini = 0.5\\nsamples = 2\\nvalue = [1, 1]'),\n Text(19.453707998489836, 85.21297297297295, 'gini = 0.0\\nsamples = 1\\nvalue = [0, 1]'),\n Text(20.224151879618145, 85.21297297297295, 'gini = 0.0\\nsamples = 1\\nvalue = [1, 0]'),\n Text(22.150261582438922, 96.96648648648647, 'X[11] <= 3.58\\ngini = 0.014\\nsamples = 282\\nvalue = [280, 2]'),\n Text(21.37981770131061, 91.08972972972973, 'X[14] <= 3.5\\ngini = 0.124\\nsamples = 15\\nvalue = [14, 1]'),\n Text(20.994595760746456, 85.21297297297295, 'X[0] <= 12345.5\\ngini = 0.444\\nsamples = 3\\nvalue = [2, 1]'),\n Text(20.609373820182302, 79.3362162162162, 'gini = 0.0\\nsamples = 2\\nvalue = [2, 0]'),\n Text(21.37981770131061, 79.3362162162162, 'gini = 0.0\\nsamples = 1\\nvalue = [0, 1]'),\n Text(21.765039641874765, 85.21297297297295, 'gini = 0.0\\nsamples = 12\\nvalue = [12, 0]'),\n Text(22.92070546356723, 91.08972972972973, 'X[0] <= 6790.0\\ngini = 0.007\\nsamples = 267\\nvalue = [266, 1]'),\n Text(22.535483523003077, 85.21297297297295, 'X[0] <= 6765.5\\ngini = 0.059\\nsamples = 33\\nvalue = [32, 1]'),\n Text(22.150261582438922, 79.3362162162162, 'gini = 0.0\\nsamples = 32\\nvalue = [32, 0]'),\n Text(22.92070546356723, 79.3362162162162, 'gini = 0.0\\nsamples = 1\\nvalue = [0, 1]'),\n Text(23.30592740413139, 85.21297297297295, 'gini = 0.0\\nsamples = 234\\nvalue = [234, 0]'),\n Text(25.42464807723424, 108.71999999999998, 'X[13] <= 44.425\\ngini = 0.15\\nsamples = 171\\nvalue = [157, 14]'),\n Text(24.46159322582385, 102.84324324324324, 'X[4] <= 363.5\\ngini = 0.43\\nsamples = 16\\nvalue = [11, 5]'),\n Text(24.076371285259697, 96.96648648648647, 'X[1] <= 2463.0\\ngini = 0.153\\nsamples = 12\\nvalue = [11, 1]'),\n Text(23.691149344695543, 91.08972972972973, 'gini = 0.0\\nsamples = 11\\nvalue = [11, 0]'),\n Text(24.46159322582385, 91.08972972972973, 'gini = 0.0\\nsamples = 1\\nvalue = [0, 1]'),\n Text(24.84681516638801, 96.96648648648647, 'gini = 0.0\\nsamples = 4\\nvalue = [0, 4]'),\n Text(26.38770292864463, 102.84324324324324, 'X[0] <= 8519.0\\ngini = 0.109\\nsamples = 155\\nvalue = [146, 9]'),\n Text(25.617259047516317, 96.96648648648647, 'X[9] <= 194.175\\ngini = 0.231\\nsamples = 45\\nvalue = [39, 6]'),\n Text(25.232037106952163, 91.08972972972973, 'X[7] <= 0.101\\ngini = 0.169\\nsamples = 43\\nvalue = [39, 4]'),\n Text(24.84681516638801, 85.21297297297295, 'X[0] <= 8339.0\\ngini = 0.133\\nsamples = 42\\nvalue = [39, 3]'),\n Text(24.46159322582385, 79.3362162162162, 'X[0] <= 7333.0\\ngini = 0.093\\nsamples = 41\\nvalue = [39, 2]'),\n Text(24.076371285259697, 73.45945945945945, 'gini = 0.0\\nsamples = 32\\nvalue = [32, 0]'),\n Text(24.84681516638801, 73.45945945945945, 'X[0] <= 7416.0\\ngini = 0.346\\nsamples = 9\\nvalue = [7, 2]'),\n Text(24.46159322582385, 67.5827027027027, 'gini = 0.0\\nsamples = 1\\nvalue = [0, 1]'),\n Text(25.232037106952163, 67.5827027027027, 'X[1] <= 909.5\\ngini = 0.219\\nsamples = 8\\nvalue = [7, 1]'),\n Text(24.84681516638801, 61.70594594594593, 'gini = 0.0\\nsamples = 6\\nvalue = [6, 0]'),\n Text(25.617259047516317, 61.70594594594593, 'X[3] <= 799.56\\ngini = 0.5\\nsamples = 2\\nvalue = [1, 1]'),\n Text(25.232037106952163, 55.82918918918918, 'gini = 0.0\\nsamples = 1\\nvalue = [0, 1]'),\n Text(26.00248098808047, 55.82918918918918, 'gini = 0.0\\nsamples = 1\\nvalue = [1, 0]'),\n Text(25.232037106952163, 79.3362162162162, 'gini = 0.0\\nsamples = 1\\nvalue = [0, 1]'),\n Text(25.617259047516317, 85.21297297297295, 'gini = 0.0\\nsamples = 1\\nvalue = [0, 1]'),\n Text(26.00248098808047, 91.08972972972973, 'gini = 0.0\\nsamples = 2\\nvalue = [0, 2]'),\n Text(27.158146809772937, 96.96648648648647, 'X[2] <= 64.5\\ngini = 0.053\\nsamples = 110\\nvalue = [107, 3]'),\n Text(26.772924869208783, 91.08972972972973, 'X[2] <= 50.0\\ngini = 0.157\\nsamples = 35\\nvalue = [32, 3]'),\n Text(26.38770292864463, 85.21297297297295, 'X[15] <= 13.525\\ngini = 0.111\\nsamples = 34\\nvalue = [32, 2]'),\n Text(26.00248098808047, 79.3362162162162, 'gini = 0.0\\nsamples = 18\\nvalue = [18, 0]'),\n Text(26.772924869208783, 79.3362162162162, 'X[15] <= 13.853\\ngini = 0.219\\nsamples = 16\\nvalue = [14, 2]'),\n Text(26.38770292864463, 73.45945945945945, 'gini = 0.0\\nsamples = 1\\nvalue = [0, 1]'),\n Text(27.158146809772937, 73.45945945945945, 'X[5] <= 120.475\\ngini = 0.124\\nsamples = 15\\nvalue = [14, 1]'),\n Text(26.772924869208783, 67.5827027027027, 'X[5] <= 120.265\\ngini = 0.278\\nsamples = 6\\nvalue = [5, 1]'),\n Text(26.38770292864463, 61.70594594594593, 'gini = 0.0\\nsamples = 5\\nvalue = [5, 0]'),\n Text(27.158146809772937, 61.70594594594593, 'gini = 0.0\\nsamples = 1\\nvalue = [0, 1]'),\n Text(27.543368750337095, 67.5827027027027, 'gini = 0.0\\nsamples = 9\\nvalue = [9, 0]'),\n Text(27.158146809772937, 85.21297297297295, 'gini = 0.0\\nsamples = 1\\nvalue = [0, 1]'),\n Text(27.543368750337095, 91.08972972972973, 'gini = 0.0\\nsamples = 75\\nvalue = [75, 0]'),\n Text(34.09787868777305, 114.59675675675675, 'X[0] <= 14555.0\\ngini = 0.12\\nsamples = 841\\nvalue = [787, 54]'),\n Text(28.891645542311636, 108.71999999999998, 'X[14] <= 3.5\\ngini = 0.444\\nsamples = 3\\nvalue = [1, 2]'),\n Text(28.506423601747482, 102.84324324324324, 'gini = 0.0\\nsamples = 1\\nvalue = [1, 0]'),\n Text(29.27686748287579, 102.84324324324324, 'gini = 0.0\\nsamples = 2\\nvalue = [0, 2]'),\n Text(39.30411183323446, 108.71999999999998, 'X[5] <= 15.705\\ngini = 0.116\\nsamples = 838\\nvalue = [786, 52]'),\n Text(30.047311364004102, 102.84324324324324, 'X[5] <= 7.1\\ngini = 0.227\\nsamples = 138\\nvalue = [120, 18]'),\n Text(28.699034572029557, 96.96648648648647, 'X[15] <= 18.105\\ngini = 0.032\\nsamples = 61\\nvalue = [60, 1]'),\n Text(28.313812631465403, 91.08972972972973, 'gini = 0.0\\nsamples = 55\\nvalue = [55, 0]'),\n Text(29.084256512593715, 91.08972972972973, 'X[15] <= 20.205\\ngini = 0.278\\nsamples = 6\\nvalue = [5, 1]'),\n Text(28.699034572029557, 85.21297297297295, 'gini = 0.0\\nsamples = 1\\nvalue = [0, 1]'),\n Text(29.46947845315787, 85.21297297297295, 'gini = 0.0\\nsamples = 5\\nvalue = [5, 0]'),\n Text(31.395588155978643, 96.96648648648647, 'X[5] <= 9.15\\ngini = 0.344\\nsamples = 77\\nvalue = [60, 17]'),\n Text(30.625144274850335, 91.08972972972973, 'X[3] <= 3743.785\\ngini = 0.32\\nsamples = 5\\nvalue = [1, 4]'),\n Text(30.23992233428618, 85.21297297297295, 'gini = 0.0\\nsamples = 4\\nvalue = [0, 4]'),\n Text(31.01036621541449, 85.21297297297295, 'gini = 0.0\\nsamples = 1\\nvalue = [1, 0]'),\n Text(32.16603203710695, 91.08972972972973, 'X[2] <= 6098.5\\ngini = 0.296\\nsamples = 72\\nvalue = [59, 13]'),\n Text(31.7808100965428, 85.21297297297295, 'X[15] <= 13.175\\ngini = 0.265\\nsamples = 70\\nvalue = [59, 11]'),\n Text(29.951005878863064, 79.3362162162162, 'X[10] <= 4.98\\ngini = 0.4\\nsamples = 29\\nvalue = [21, 8]'),\n Text(28.987951027452674, 73.45945945945945, 'X[7] <= 0.043\\ngini = 0.375\\nsamples = 4\\nvalue = [1, 3]'),\n Text(28.60272908688852, 67.5827027027027, 'gini = 0.0\\nsamples = 3\\nvalue = [0, 3]'),\n Text(29.37317296801683, 67.5827027027027, 'gini = 0.0\\nsamples = 1\\nvalue = [1, 0]'),\n Text(30.91406073027345, 73.45945945945945, 'X[15] <= 12.3\\ngini = 0.32\\nsamples = 25\\nvalue = [20, 5]'),\n Text(30.14361684914514, 67.5827027027027, 'X[9] <= 532.22\\ngini = 0.188\\nsamples = 19\\nvalue = [17, 2]'),\n Text(29.758394908580986, 61.70594594594593, 'X[5] <= 15.215\\ngini = 0.105\\nsamples = 18\\nvalue = [17, 1]'),\n Text(29.37317296801683, 55.82918918918918, 'gini = 0.0\\nsamples = 14\\nvalue = [14, 0]'),\n Text(30.14361684914514, 55.82918918918918, 'X[13] <= 227.055\\ngini = 0.375\\nsamples = 4\\nvalue = [3, 1]'),\n Text(29.758394908580986, 49.95243243243243, 'gini = 0.0\\nsamples = 1\\nvalue = [0, 1]'),\n Text(30.528838789709297, 49.95243243243243, 'gini = 0.0\\nsamples = 3\\nvalue = [3, 0]'),\n Text(30.528838789709297, 61.70594594594593, 'gini = 0.0\\nsamples = 1\\nvalue = [0, 1]'),\n Text(31.68450461140176, 67.5827027027027, 'X[9] <= 270.075\\ngini = 0.5\\nsamples = 6\\nvalue = [3, 3]'),\n Text(31.299282670837606, 61.70594594594593, 'X[0] <= 18584.5\\ngini = 0.375\\nsamples = 4\\nvalue = [1, 3]'),\n Text(30.91406073027345, 55.82918918918918, 'gini = 0.0\\nsamples = 1\\nvalue = [1, 0]'),\n Text(31.68450461140176, 55.82918918918918, 'gini = 0.0\\nsamples = 3\\nvalue = [0, 3]'),\n Text(32.069726551965914, 61.70594594594593, 'gini = 0.0\\nsamples = 2\\nvalue = [2, 0]'),\n Text(33.61061431422254, 79.3362162162162, 'X[0] <= 16077.0\\ngini = 0.136\\nsamples = 41\\nvalue = [38, 3]'),\n Text(33.22539237365838, 73.45945945945945, 'gini = 0.0\\nsamples = 1\\nvalue = [0, 1]'),\n Text(33.995836254786695, 73.45945945945945, 'X[13] <= 117.23\\ngini = 0.095\\nsamples = 40\\nvalue = [38, 2]'),\n Text(33.22539237365838, 67.5827027027027, 'X[11] <= 6.96\\ngini = 0.5\\nsamples = 2\\nvalue = [1, 1]'),\n Text(32.84017043309423, 61.70594594594593, 'gini = 0.0\\nsamples = 1\\nvalue = [0, 1]'),\n Text(33.61061431422254, 61.70594594594593, 'gini = 0.0\\nsamples = 1\\nvalue = [1, 0]'),\n Text(34.766280135915004, 67.5827027027027, 'X[11] <= 13.51\\ngini = 0.051\\nsamples = 38\\nvalue = [37, 1]'),\n Text(34.381058195350846, 61.70594594594593, 'gini = 0.0\\nsamples = 34\\nvalue = [34, 0]'),\n Text(35.151502076479154, 61.70594594594593, 'X[13] <= 371.065\\ngini = 0.375\\nsamples = 4\\nvalue = [3, 1]'),\n Text(34.766280135915004, 55.82918918918918, 'gini = 0.0\\nsamples = 3\\nvalue = [3, 0]'),\n Text(35.53672401704331, 55.82918918918918, 'gini = 0.0\\nsamples = 1\\nvalue = [0, 1]'),\n Text(32.55125397767111, 85.21297297297295, 'gini = 0.0\\nsamples = 2\\nvalue = [0, 2]'),\n Text(48.560912302464814, 102.84324324324324, 'X[4] <= 1891.0\\ngini = 0.092\\nsamples = 700\\nvalue = [666, 34]'),\n Text(46.87443773259264, 96.96648648648647, 'X[4] <= 1887.0\\ngini = 0.131\\nsamples = 384\\nvalue = [357, 27]'),\n Text(46.48921579202848, 91.08972972972973, 'X[2] <= 5074.5\\ngini = 0.127\\nsamples = 383\\nvalue = [357, 26]'),\n Text(44.65715441454075, 85.21297297297295, 'X[11] <= 14.42\\ngini = 0.115\\nsamples = 375\\nvalue = [352, 23]'),\n Text(42.148697481257756, 79.3362162162162, 'X[5] <= 133.875\\ngini = 0.101\\nsamples = 357\\nvalue = [338, 19]'),\n Text(40.21355913920501, 73.45945945945945, 'X[9] <= 247.75\\ngini = 0.089\\nsamples = 344\\nvalue = [328, 16]'),\n Text(38.654614098484444, 67.5827027027027, 'X[0] <= 15392.5\\ngini = 0.084\\nsamples = 342\\nvalue = [327, 15]'),\n Text(36.69238983873578, 61.70594594594593, 'X[3] <= 2243.005\\ngini = 0.252\\nsamples = 27\\nvalue = [23, 4]'),\n Text(36.30716789817162, 55.82918918918918, 'X[0] <= 15320.0\\ngini = 0.147\\nsamples = 25\\nvalue = [23, 2]'),\n Text(35.92194595760747, 49.95243243243243, 'X[2] <= 1485.5\\ngini = 0.08\\nsamples = 24\\nvalue = [23, 1]'),\n Text(35.53672401704331, 44.075675675675654, 'gini = 0.0\\nsamples = 21\\nvalue = [21, 0]'),\n Text(36.30716789817162, 44.075675675675654, 'X[0] <= 14801.5\\ngini = 0.444\\nsamples = 3\\nvalue = [2, 1]'),\n Text(35.92194595760747, 38.198918918918906, 'gini = 0.0\\nsamples = 1\\nvalue = [0, 1]'),\n Text(36.69238983873578, 38.198918918918906, 'gini = 0.0\\nsamples = 2\\nvalue = [2, 0]'),\n Text(36.69238983873578, 49.95243243243243, 'gini = 0.0\\nsamples = 1\\nvalue = [0, 1]'),\n Text(37.077611779299936, 55.82918918918918, 'gini = 0.0\\nsamples = 2\\nvalue = [0, 2]'),\n Text(40.61683835823311, 61.70594594594593, 'X[3] <= 6962.06\\ngini = 0.067\\nsamples = 315\\nvalue = [304, 11]'),\n Text(39.24448519497331, 55.82918918918918, 'X[6] <= 0.111\\ngini = 0.062\\nsamples = 312\\nvalue = [302, 10]'),\n Text(37.65544469014617, 49.95243243243243, 'X[7] <= 0.095\\ngini = 0.375\\nsamples = 4\\nvalue = [3, 1]'),\n Text(37.27022274958201, 44.075675675675654, 'gini = 0.0\\nsamples = 3\\nvalue = [3, 0]'),\n Text(38.04066663071032, 44.075675675675654, 'gini = 0.0\\nsamples = 1\\nvalue = [0, 1]'),\n Text(40.83352569980045, 49.95243243243243, 'X[6] <= 0.165\\ngini = 0.057\\nsamples = 308\\nvalue = [299, 9]'),\n Text(38.811110511838635, 44.075675675675654, 'X[14] <= 3.5\\ngini = 0.046\\nsamples = 294\\nvalue = [287, 7]'),\n Text(37.462833719864086, 38.198918918918906, 'X[3] <= 2433.36\\ngini = 0.108\\nsamples = 70\\nvalue = [66, 4]'),\n Text(37.077611779299936, 32.32216216216216, 'gini = 0.0\\nsamples = 37\\nvalue = [37, 0]'),\n Text(37.848055660428244, 32.32216216216216, 'X[15] <= 10.391\\ngini = 0.213\\nsamples = 33\\nvalue = [29, 4]'),\n Text(37.462833719864086, 26.44540540540538, 'gini = 0.0\\nsamples = 1\\nvalue = [0, 1]'),\n Text(38.2332776009924, 26.44540540540538, 'X[15] <= 28.25\\ngini = 0.17\\nsamples = 32\\nvalue = [29, 3]'),\n Text(37.848055660428244, 20.568648648648633, 'X[1] <= 3326.5\\ngini = 0.121\\nsamples = 31\\nvalue = [29, 2]'),\n Text(37.462833719864086, 14.691891891891885, 'X[7] <= 0.101\\ngini = 0.064\\nsamples = 30\\nvalue = [29, 1]'),\n Text(37.077611779299936, 8.815135135135108, 'gini = 0.0\\nsamples = 26\\nvalue = [26, 0]'),\n Text(37.848055660428244, 8.815135135135108, 'X[3] <= 2616.135\\ngini = 0.375\\nsamples = 4\\nvalue = [3, 1]'),\n Text(37.462833719864086, 2.93837837837836, 'gini = 0.0\\nsamples = 1\\nvalue = [0, 1]'),\n Text(38.2332776009924, 2.93837837837836, 'gini = 0.0\\nsamples = 3\\nvalue = [3, 0]'),\n Text(38.2332776009924, 14.691891891891885, 'gini = 0.0\\nsamples = 1\\nvalue = [0, 1]'),\n Text(38.61849954155655, 20.568648648648633, 'gini = 0.0\\nsamples = 1\\nvalue = [0, 1]'),\n Text(40.159387303813176, 38.198918918918906, 'X[3] <= 742.055\\ngini = 0.026\\nsamples = 224\\nvalue = [221, 3]'),\n Text(39.38894342268487, 32.32216216216216, 'X[13] <= 62.365\\ngini = 0.198\\nsamples = 9\\nvalue = [8, 1]'),\n Text(39.00372148212071, 26.44540540540538, 'gini = 0.0\\nsamples = 8\\nvalue = [8, 0]'),\n Text(39.77416536324902, 26.44540540540538, 'gini = 0.0\\nsamples = 1\\nvalue = [0, 1]'),\n Text(40.929831184941484, 32.32216216216216, 'X[7] <= 0.1\\ngini = 0.018\\nsamples = 215\\nvalue = [213, 2]'),\n Text(40.54460924437733, 26.44540540540538, 'gini = 0.0\\nsamples = 181\\nvalue = [181, 0]'),\n Text(41.31505312550564, 26.44540540540538, 'X[2] <= 754.5\\ngini = 0.111\\nsamples = 34\\nvalue = [32, 2]'),\n Text(40.929831184941484, 20.568648648648633, 'X[4] <= 489.0\\ngini = 0.26\\nsamples = 13\\nvalue = [11, 2]'),\n Text(40.54460924437733, 14.691891891891885, 'X[1] <= 10331.5\\ngini = 0.153\\nsamples = 12\\nvalue = [11, 1]'),\n Text(40.159387303813176, 8.815135135135108, 'gini = 0.0\\nsamples = 10\\nvalue = [10, 0]'),\n Text(40.929831184941484, 8.815135135135108, 'X[7] <= 0.101\\ngini = 0.5\\nsamples = 2\\nvalue = [1, 1]'),\n Text(40.54460924437733, 2.93837837837836, 'gini = 0.0\\nsamples = 1\\nvalue = [1, 0]'),\n Text(41.31505312550564, 2.93837837837836, 'gini = 0.0\\nsamples = 1\\nvalue = [0, 1]'),\n Text(41.31505312550564, 14.691891891891885, 'gini = 0.0\\nsamples = 1\\nvalue = [0, 1]'),\n Text(41.70027506606979, 20.568648648648633, 'gini = 0.0\\nsamples = 21\\nvalue = [21, 0]'),\n Text(42.85594088776226, 44.075675675675654, 'X[15] <= 11.766\\ngini = 0.245\\nsamples = 14\\nvalue = [12, 2]'),\n Text(42.08549700663395, 38.198918918918906, 'X[10] <= 2.79\\ngini = 0.5\\nsamples = 2\\nvalue = [1, 1]'),\n Text(41.70027506606979, 32.32216216216216, 'gini = 0.0\\nsamples = 1\\nvalue = [1, 0]'),\n Text(42.47071894719811, 32.32216216216216, 'gini = 0.0\\nsamples = 1\\nvalue = [0, 1]'),\n Text(43.626384768890574, 38.198918918918906, 'X[3] <= 2566.04\\ngini = 0.153\\nsamples = 12\\nvalue = [11, 1]'),\n Text(43.241162828326416, 32.32216216216216, 'gini = 0.0\\nsamples = 9\\nvalue = [9, 0]'),\n Text(44.011606709454725, 32.32216216216216, 'X[5] <= 26.655\\ngini = 0.444\\nsamples = 3\\nvalue = [2, 1]'),\n Text(43.626384768890574, 26.44540540540538, 'gini = 0.0\\nsamples = 2\\nvalue = [2, 0]'),\n Text(44.39682865001888, 26.44540540540538, 'gini = 0.0\\nsamples = 1\\nvalue = [0, 1]'),\n Text(41.98919152149291, 55.82918918918918, 'X[14] <= 4.0\\ngini = 0.444\\nsamples = 3\\nvalue = [2, 1]'),\n Text(41.603969580928755, 49.95243243243243, 'gini = 0.0\\nsamples = 1\\nvalue = [0, 1]'),\n Text(42.37441346205706, 49.95243243243243, 'gini = 0.0\\nsamples = 2\\nvalue = [2, 0]'),\n Text(41.772504179925576, 67.5827027027027, 'X[14] <= 4.5\\ngini = 0.5\\nsamples = 2\\nvalue = [1, 1]'),\n Text(41.38728223936142, 61.70594594594593, 'gini = 0.0\\nsamples = 1\\nvalue = [0, 1]'),\n Text(42.15772612048973, 61.70594594594593, 'gini = 0.0\\nsamples = 1\\nvalue = [1, 0]'),\n Text(44.08383582331051, 73.45945945945945, 'X[15] <= 19.1\\ngini = 0.355\\nsamples = 13\\nvalue = [10, 3]'),\n Text(43.31339194218219, 67.5827027027027, 'X[14] <= 3.0\\ngini = 0.444\\nsamples = 3\\nvalue = [1, 2]'),\n Text(42.92817000161804, 61.70594594594593, 'gini = 0.0\\nsamples = 1\\nvalue = [1, 0]'),\n Text(43.69861388274635, 61.70594594594593, 'gini = 0.0\\nsamples = 2\\nvalue = [0, 2]'),\n Text(44.85427970443882, 67.5827027027027, 'X[7] <= 0.101\\ngini = 0.18\\nsamples = 10\\nvalue = [9, 1]'),\n Text(44.46905776387466, 61.70594594594593, 'gini = 0.0\\nsamples = 8\\nvalue = [8, 0]'),\n Text(45.23950164500297, 61.70594594594593, 'X[5] <= 138.4\\ngini = 0.5\\nsamples = 2\\nvalue = [1, 1]'),\n Text(44.85427970443882, 55.82918918918918, 'gini = 0.0\\nsamples = 1\\nvalue = [0, 1]'),\n Text(45.624723585567125, 55.82918918918918, 'gini = 0.0\\nsamples = 1\\nvalue = [1, 0]'),\n Text(47.16561134782375, 79.3362162162162, 'X[0] <= 21576.0\\ngini = 0.346\\nsamples = 18\\nvalue = [14, 4]'),\n Text(46.78038940725959, 73.45945945945945, 'gini = 0.0\\nsamples = 9\\nvalue = [9, 0]'),\n Text(47.5508332883879, 73.45945945945945, 'X[0] <= 36694.0\\ngini = 0.494\\nsamples = 9\\nvalue = [5, 4]'),\n Text(47.16561134782375, 67.5827027027027, 'X[15] <= 14.4\\ngini = 0.444\\nsamples = 6\\nvalue = [2, 4]'),\n Text(46.78038940725959, 61.70594594594593, 'X[3] <= 1035.385\\ngini = 0.444\\nsamples = 3\\nvalue = [2, 1]'),\n Text(46.39516746669543, 55.82918918918918, 'gini = 0.0\\nsamples = 1\\nvalue = [0, 1]'),\n Text(47.16561134782375, 55.82918918918918, 'gini = 0.0\\nsamples = 2\\nvalue = [2, 0]'),\n Text(47.5508332883879, 61.70594594594593, 'gini = 0.0\\nsamples = 3\\nvalue = [0, 3]'),\n Text(47.93605522895206, 67.5827027027027, 'gini = 0.0\\nsamples = 3\\nvalue = [3, 0]'),\n Text(48.321277169516215, 85.21297297297295, 'X[2] <= 5521.5\\ngini = 0.469\\nsamples = 8\\nvalue = [5, 3]'),\n Text(47.93605522895206, 79.3362162162162, 'gini = 0.0\\nsamples = 3\\nvalue = [0, 3]'),\n Text(48.706499110080365, 79.3362162162162, 'gini = 0.0\\nsamples = 5\\nvalue = [5, 0]'),\n Text(47.25965967315679, 91.08972972972973, 'gini = 0.0\\nsamples = 1\\nvalue = [0, 1]'),\n Text(50.24738687233699, 96.96648648648647, 'X[5] <= 16.115\\ngini = 0.043\\nsamples = 316\\nvalue = [309, 7]'),\n Text(49.47694299120868, 91.08972972972973, 'X[2] <= 5326.5\\ngini = 0.444\\nsamples = 3\\nvalue = [2, 1]'),\n Text(49.09172105064452, 85.21297297297295, 'gini = 0.0\\nsamples = 2\\nvalue = [2, 0]'),\n Text(49.86216493177283, 85.21297297297295, 'gini = 0.0\\nsamples = 1\\nvalue = [0, 1]'),\n Text(51.0178307534653, 91.08972972972973, 'X[7] <= 0.099\\ngini = 0.038\\nsamples = 313\\nvalue = [307, 6]'),\n Text(50.63260881290114, 85.21297297297295, 'gini = 0.0\\nsamples = 168\\nvalue = [168, 0]'),\n Text(51.403052694029455, 85.21297297297295, 'X[10] <= 12.02\\ngini = 0.079\\nsamples = 145\\nvalue = [139, 6]'),\n Text(49.86216493177283, 79.3362162162162, 'X[5] <= 132.44\\ngini = 0.048\\nsamples = 121\\nvalue = [118, 3]'),\n Text(49.09172105064452, 73.45945945945945, 'X[13] <= 551.37\\ngini = 0.019\\nsamples = 103\\nvalue = [102, 1]'),\n Text(48.706499110080365, 67.5827027027027, 'gini = 0.0\\nsamples = 96\\nvalue = [96, 0]'),\n Text(49.47694299120868, 67.5827027027027, 'X[9] <= 329.535\\ngini = 0.245\\nsamples = 7\\nvalue = [6, 1]'),\n Text(49.09172105064452, 61.70594594594593, 'gini = 0.0\\nsamples = 1\\nvalue = [0, 1]'),\n Text(49.86216493177283, 61.70594594594593, 'gini = 0.0\\nsamples = 6\\nvalue = [6, 0]'),\n Text(50.63260881290114, 73.45945945945945, 'X[5] <= 132.51\\ngini = 0.198\\nsamples = 18\\nvalue = [16, 2]'),\n Text(50.24738687233699, 67.5827027027027, 'gini = 0.0\\nsamples = 1\\nvalue = [0, 1]'),\n Text(51.0178307534653, 67.5827027027027, 'X[3] <= 2606.145\\ngini = 0.111\\nsamples = 17\\nvalue = [16, 1]'),\n Text(50.63260881290114, 61.70594594594593, 'gini = 0.0\\nsamples = 1\\nvalue = [0, 1]'),\n Text(51.403052694029455, 61.70594594594593, 'gini = 0.0\\nsamples = 16\\nvalue = [16, 0]'),\n Text(52.94394045628607, 79.3362162162162, 'X[11] <= 12.17\\ngini = 0.219\\nsamples = 24\\nvalue = [21, 3]'),\n Text(52.17349657515776, 73.45945945945945, 'X[13] <= 317.21\\ngini = 0.444\\nsamples = 3\\nvalue = [1, 2]'),\n Text(51.788274634593606, 67.5827027027027, 'gini = 0.0\\nsamples = 1\\nvalue = [1, 0]'),\n Text(52.55871851572192, 67.5827027027027, 'gini = 0.0\\nsamples = 2\\nvalue = [0, 2]'),\n Text(53.71438433741439, 73.45945945945945, 'X[7] <= 0.101\\ngini = 0.091\\nsamples = 21\\nvalue = [20, 1]'),\n Text(53.32916239685023, 67.5827027027027, 'gini = 0.0\\nsamples = 19\\nvalue = [19, 0]'),\n Text(54.09960627797854, 67.5827027027027, 'X[15] <= 24.05\\ngini = 0.5\\nsamples = 2\\nvalue = [1, 1]'),\n Text(53.71438433741439, 61.70594594594593, 'gini = 0.0\\nsamples = 1\\nvalue = [0, 1]'),\n Text(54.484828218542695, 61.70594594594593, 'gini = 0.0\\nsamples = 1\\nvalue = [1, 0]'),\n Text(35.25354450946551, 120.47351351351351, 'X[4] <= 12971.5\\ngini = 0.48\\nsamples = 5\\nvalue = [3, 2]'),\n Text(34.868322568901355, 114.59675675675675, 'gini = 0.0\\nsamples = 2\\nvalue = [0, 2]'),\n Text(35.63876645002967, 114.59675675675675, 'gini = 0.0\\nsamples = 3\\nvalue = [3, 0]'),\n Text(32.453232110592744, 126.35027027027026, 'gini = 0.0\\nsamples = 1\\nvalue = [0, 1]'),\n Text(52.17349657515776, 132.22702702702702, 'X[12] <= 2.5\\ngini = 0.036\\nsamples = 269\\nvalue = [264, 5]'),\n Text(51.0178307534653, 126.35027027027026, 'X[0] <= 201236.5\\ngini = 0.023\\nsamples = 257\\nvalue = [254, 3]'),\n Text(50.63260881290114, 120.47351351351351, 'gini = 0.0\\nsamples = 169\\nvalue = [169, 0]'),\n Text(51.403052694029455, 120.47351351351351, 'X[0] <= 206768.5\\ngini = 0.066\\nsamples = 88\\nvalue = [85, 3]'),\n Text(51.0178307534653, 114.59675675675675, 'gini = 0.0\\nsamples = 1\\nvalue = [0, 1]'),\n Text(51.788274634593606, 114.59675675675675, 'X[0] <= 220990.5\\ngini = 0.045\\nsamples = 87\\nvalue = [85, 2]'),\n Text(51.0178307534653, 108.71999999999998, 'X[12] <= 1.5\\ngini = 0.219\\nsamples = 8\\nvalue = [7, 1]'),\n Text(50.63260881290114, 102.84324324324324, 'gini = 0.0\\nsamples = 6\\nvalue = [6, 0]'),\n Text(51.403052694029455, 102.84324324324324, 'X[15] <= 29.324\\ngini = 0.5\\nsamples = 2\\nvalue = [1, 1]'),\n Text(51.0178307534653, 96.96648648648647, 'gini = 0.0\\nsamples = 1\\nvalue = [0, 1]'),\n Text(51.788274634593606, 96.96648648648647, 'gini = 0.0\\nsamples = 1\\nvalue = [1, 0]'),\n Text(52.55871851572192, 108.71999999999998, 'X[15] <= 31.5\\ngini = 0.025\\nsamples = 79\\nvalue = [78, 1]'),\n Text(52.17349657515776, 102.84324324324324, 'gini = 0.0\\nsamples = 69\\nvalue = [69, 0]'),\n Text(52.94394045628607, 102.84324324324324, 'X[11] <= 1.77\\ngini = 0.18\\nsamples = 10\\nvalue = [9, 1]'),\n Text(52.55871851572192, 96.96648648648647, 'X[7] <= 0.096\\ngini = 0.5\\nsamples = 2\\nvalue = [1, 1]'),\n Text(52.17349657515776, 91.08972972972973, 'gini = 0.0\\nsamples = 1\\nvalue = [1, 0]'),\n Text(52.94394045628607, 91.08972972972973, 'gini = 0.0\\nsamples = 1\\nvalue = [0, 1]'),\n Text(53.32916239685023, 96.96648648648647, 'gini = 0.0\\nsamples = 8\\nvalue = [8, 0]'),\n Text(53.32916239685023, 126.35027027027026, 'X[7] <= 0.101\\ngini = 0.278\\nsamples = 12\\nvalue = [10, 2]'),\n Text(52.94394045628607, 120.47351351351351, 'X[10] <= 14.46\\ngini = 0.165\\nsamples = 11\\nvalue = [10, 1]'),\n Text(52.55871851572192, 114.59675675675675, 'gini = 0.0\\nsamples = 10\\nvalue = [10, 0]'),\n Text(53.32916239685023, 114.59675675675675, 'gini = 0.0\\nsamples = 1\\nvalue = [0, 1]'),\n Text(53.71438433741439, 120.47351351351351, 'gini = 0.0\\nsamples = 1\\nvalue = [0, 1]'),\n Text(53.32916239685023, 138.1037837837838, 'X[14] <= 5.0\\ngini = 0.5\\nsamples = 2\\nvalue = [1, 1]'),\n Text(52.94394045628607, 132.22702702702702, 'gini = 0.0\\nsamples = 1\\nvalue = [1, 0]'),\n Text(53.71438433741439, 132.22702702702702, 'gini = 0.0\\nsamples = 1\\nvalue = [0, 1]'),\n Text(56.41093792136347, 143.98054054054052, 'X[7] <= 0.101\\ngini = 0.265\\nsamples = 70\\nvalue = [59, 11]'),\n Text(56.02571598079931, 138.1037837837838, 'X[9] <= 974.335\\ngini = 0.19\\nsamples = 66\\nvalue = [59, 7]'),\n Text(55.64049404023516, 132.22702702702702, 'X[15] <= 13.157\\ngini = 0.144\\nsamples = 64\\nvalue = [59, 5]'),\n Text(54.870050159106846, 126.35027027027026, 'X[14] <= 4.5\\ngini = 0.444\\nsamples = 12\\nvalue = [8, 4]'),\n Text(54.484828218542695, 120.47351351351351, 'X[2] <= 94756.0\\ngini = 0.5\\nsamples = 8\\nvalue = [4, 4]'),\n Text(54.09960627797854, 114.59675675675675, 'gini = 0.0\\nsamples = 2\\nvalue = [0, 2]'),\n Text(54.870050159106846, 114.59675675675675, 'X[7] <= 0.039\\ngini = 0.444\\nsamples = 6\\nvalue = [4, 2]'),\n Text(54.484828218542695, 108.71999999999998, 'gini = 0.0\\nsamples = 3\\nvalue = [3, 0]'),\n Text(55.255272099671004, 108.71999999999998, 'X[4] <= 4181.0\\ngini = 0.444\\nsamples = 3\\nvalue = [1, 2]'),\n Text(54.870050159106846, 102.84324324324324, 'gini = 0.0\\nsamples = 2\\nvalue = [0, 2]'),\n Text(55.64049404023516, 102.84324324324324, 'gini = 0.0\\nsamples = 1\\nvalue = [1, 0]'),\n Text(55.255272099671004, 120.47351351351351, 'gini = 0.0\\nsamples = 4\\nvalue = [4, 0]'),\n Text(56.41093792136347, 126.35027027027026, 'X[0] <= 963665.5\\ngini = 0.038\\nsamples = 52\\nvalue = [51, 1]'),\n Text(56.02571598079931, 120.47351351351351, 'X[13] <= 385.89\\ngini = 0.5\\nsamples = 2\\nvalue = [1, 1]'),\n Text(55.64049404023516, 114.59675675675675, 'gini = 0.0\\nsamples = 1\\nvalue = [0, 1]'),\n Text(56.41093792136347, 114.59675675675675, 'gini = 0.0\\nsamples = 1\\nvalue = [1, 0]'),\n Text(56.79615986192763, 120.47351351351351, 'gini = 0.0\\nsamples = 50\\nvalue = [50, 0]'),\n Text(56.41093792136347, 132.22702702702702, 'gini = 0.0\\nsamples = 2\\nvalue = [0, 2]'),\n Text(56.79615986192763, 138.1037837837838, 'gini = 0.0\\nsamples = 4\\nvalue = [0, 4]'),\n Text(80.51933266139906, 149.8572972972973, 'X[15] <= 11.043\\ngini = 0.143\\nsamples = 1581\\nvalue = [1458, 123]'),\n Text(70.86202739873794, 143.98054054054052, 'X[3] <= 470.745\\ngini = 0.188\\nsamples = 448\\nvalue = [401, 47]'),\n Text(68.68085863761394, 138.1037837837838, 'X[0] <= 2318.5\\ngini = 0.104\\nsamples = 109\\nvalue = [103, 6]'),\n Text(67.91041475648564, 132.22702702702702, 'X[9] <= 38.895\\ngini = 0.351\\nsamples = 22\\nvalue = [17, 5]'),\n Text(67.52519281592147, 126.35027027027026, 'X[5] <= 9.585\\ngini = 0.255\\nsamples = 20\\nvalue = [17, 3]'),\n Text(67.13997087535732, 120.47351351351351, 'gini = 0.0\\nsamples = 2\\nvalue = [0, 2]'),\n Text(67.91041475648564, 120.47351351351351, 'X[5] <= 15.29\\ngini = 0.105\\nsamples = 18\\nvalue = [17, 1]'),\n Text(67.52519281592147, 114.59675675675675, 'X[5] <= 15.225\\ngini = 0.375\\nsamples = 4\\nvalue = [3, 1]'),\n Text(67.13997087535732, 108.71999999999998, 'gini = 0.0\\nsamples = 3\\nvalue = [3, 0]'),\n Text(67.91041475648564, 108.71999999999998, 'gini = 0.0\\nsamples = 1\\nvalue = [0, 1]'),\n Text(68.29563669704979, 114.59675675675675, 'gini = 0.0\\nsamples = 14\\nvalue = [14, 0]'),\n Text(68.29563669704979, 126.35027027027026, 'gini = 0.0\\nsamples = 2\\nvalue = [0, 2]'),\n Text(69.45130251874225, 132.22702702702702, 'X[10] <= 21.03\\ngini = 0.023\\nsamples = 87\\nvalue = [86, 1]'),\n Text(69.0660805781781, 126.35027027027026, 'gini = 0.0\\nsamples = 76\\nvalue = [76, 0]'),\n Text(69.8365244593064, 126.35027027027026, 'X[3] <= 375.94\\ngini = 0.165\\nsamples = 11\\nvalue = [10, 1]'),\n Text(69.45130251874225, 120.47351351351351, 'X[5] <= 16.605\\ngini = 0.444\\nsamples = 3\\nvalue = [2, 1]'),\n Text(69.0660805781781, 114.59675675675675, 'gini = 0.0\\nsamples = 1\\nvalue = [0, 1]'),\n Text(69.8365244593064, 114.59675675675675, 'gini = 0.0\\nsamples = 2\\nvalue = [2, 0]'),\n Text(70.22174639987057, 120.47351351351351, 'gini = 0.0\\nsamples = 8\\nvalue = [8, 0]'),\n Text(73.04319615986194, 138.1037837837838, 'X[8] <= 46.058\\ngini = 0.213\\nsamples = 339\\nvalue = [298, 41]'),\n Text(72.27275227873362, 132.22702702702702, 'X[6] <= 0.14\\ngini = 0.205\\nsamples = 336\\nvalue = [297, 39]'),\n Text(71.88753033816947, 126.35027027027026, 'gini = 0.0\\nsamples = 1\\nvalue = [0, 1]'),\n Text(72.65797421929778, 126.35027027027026, 'X[13] <= 122.155\\ngini = 0.201\\nsamples = 335\\nvalue = [297, 38]'),\n Text(70.99219028099887, 120.47351351351351, 'X[13] <= 121.53\\ngini = 0.243\\nsamples = 219\\nvalue = [188, 31]'),\n Text(70.60696834043472, 114.59675675675675, 'X[9] <= 247.08\\ngini = 0.237\\nsamples = 218\\nvalue = [188, 30]'),\n Text(68.81628822609353, 108.71999999999998, 'X[2] <= 123577.0\\ngini = 0.227\\nsamples = 214\\nvalue = [186, 28]'),\n Text(66.39059381910361, 102.84324324324324, 'X[5] <= 18.5\\ngini = 0.217\\nsamples = 210\\nvalue = [184, 26]'),\n Text(62.69487082681625, 96.96648648648647, 'X[5] <= 16.41\\ngini = 0.188\\nsamples = 171\\nvalue = [153, 18]'),\n Text(59.54086618844723, 91.08972972972973, 'X[5] <= 16.27\\ngini = 0.251\\nsamples = 102\\nvalue = [87, 15]'),\n Text(56.892465347068665, 85.21297297297295, 'X[0] <= 3880.0\\ngini = 0.169\\nsamples = 86\\nvalue = [78, 8]'),\n Text(55.64049404023516, 79.3362162162162, 'X[2] <= 441.0\\ngini = 0.444\\nsamples = 12\\nvalue = [8, 4]'),\n Text(55.255272099671004, 73.45945945945945, 'X[13] <= 54.875\\ngini = 0.32\\nsamples = 10\\nvalue = [8, 2]'),\n Text(54.870050159106846, 67.5827027027027, 'gini = 0.0\\nsamples = 7\\nvalue = [7, 0]'),\n Text(55.64049404023516, 67.5827027027027, 'X[3] <= 503.555\\ngini = 0.444\\nsamples = 3\\nvalue = [1, 2]'),\n Text(55.255272099671004, 61.70594594594593, 'gini = 0.0\\nsamples = 1\\nvalue = [1, 0]'),\n Text(56.02571598079931, 61.70594594594593, 'gini = 0.0\\nsamples = 2\\nvalue = [0, 2]'),\n Text(56.02571598079931, 73.45945945945945, 'gini = 0.0\\nsamples = 2\\nvalue = [0, 2]'),\n Text(58.14443665390217, 79.3362162162162, 'X[14] <= 3.5\\ngini = 0.102\\nsamples = 74\\nvalue = [70, 4]'),\n Text(56.79615986192763, 73.45945945945945, 'X[3] <= 524.25\\ngini = 0.375\\nsamples = 8\\nvalue = [6, 2]'),\n Text(56.41093792136347, 67.5827027027027, 'gini = 0.0\\nsamples = 1\\nvalue = [0, 1]'),\n Text(57.18138180249178, 67.5827027027027, 'X[5] <= 5.765\\ngini = 0.245\\nsamples = 7\\nvalue = [6, 1]'),\n Text(56.79615986192763, 61.70594594594593, 'gini = 0.0\\nsamples = 1\\nvalue = [0, 1]'),\n Text(57.566603743055936, 61.70594594594593, 'gini = 0.0\\nsamples = 6\\nvalue = [6, 0]'),\n Text(59.49271344587671, 73.45945945945945, 'X[12] <= 2.5\\ngini = 0.059\\nsamples = 66\\nvalue = [64, 2]'),\n Text(58.7222695647484, 67.5827027027027, 'X[5] <= 16.21\\ngini = 0.031\\nsamples = 63\\nvalue = [62, 1]'),\n Text(58.337047624184244, 61.70594594594593, 'gini = 0.0\\nsamples = 56\\nvalue = [56, 0]'),\n Text(59.10749150531256, 61.70594594594593, 'X[3] <= 1048.56\\ngini = 0.245\\nsamples = 7\\nvalue = [6, 1]'),\n Text(58.7222695647484, 55.82918918918918, 'gini = 0.0\\nsamples = 6\\nvalue = [6, 0]'),\n Text(59.49271344587671, 55.82918918918918, 'gini = 0.0\\nsamples = 1\\nvalue = [0, 1]'),\n Text(60.26315732700502, 67.5827027027027, 'X[1] <= 9248.5\\ngini = 0.444\\nsamples = 3\\nvalue = [2, 1]'),\n Text(59.87793538644087, 61.70594594594593, 'gini = 0.0\\nsamples = 2\\nvalue = [2, 0]'),\n Text(60.648379267569176, 61.70594594594593, 'gini = 0.0\\nsamples = 1\\nvalue = [0, 1]'),\n Text(62.1892670298258, 85.21297297297295, 'X[2] <= 2495.5\\ngini = 0.492\\nsamples = 16\\nvalue = [9, 7]'),\n Text(61.80404508926164, 79.3362162162162, 'X[5] <= 16.285\\ngini = 0.426\\nsamples = 13\\nvalue = [9, 4]'),\n Text(61.418823148697484, 73.45945945945945, 'gini = 0.0\\nsamples = 2\\nvalue = [0, 2]'),\n Text(62.1892670298258, 73.45945945945945, 'X[0] <= 5870.5\\ngini = 0.298\\nsamples = 11\\nvalue = [9, 2]'),\n Text(61.80404508926164, 67.5827027027027, 'X[0] <= 5158.5\\ngini = 0.444\\nsamples = 6\\nvalue = [4, 2]'),\n Text(61.418823148697484, 61.70594594594593, 'gini = 0.0\\nsamples = 4\\nvalue = [4, 0]'),\n Text(62.1892670298258, 61.70594594594593, 'gini = 0.0\\nsamples = 2\\nvalue = [0, 2]'),\n Text(62.57448897038995, 67.5827027027027, 'gini = 0.0\\nsamples = 5\\nvalue = [5, 0]'),\n Text(62.57448897038995, 79.3362162162162, 'gini = 0.0\\nsamples = 3\\nvalue = [0, 3]'),\n Text(65.84887546518527, 91.08972972972973, 'X[15] <= 10.75\\ngini = 0.083\\nsamples = 69\\nvalue = [66, 3]'),\n Text(64.88582061377488, 85.21297297297295, 'X[4] <= 1551.5\\ngini = 0.058\\nsamples = 67\\nvalue = [65, 2]'),\n Text(64.11537673264657, 79.3362162162162, 'X[6] <= 0.143\\ngini = 0.031\\nsamples = 64\\nvalue = [63, 1]'),\n Text(63.730154792082416, 73.45945945945945, 'X[0] <= 4460.5\\ngini = 0.32\\nsamples = 5\\nvalue = [4, 1]'),\n Text(63.344932851518266, 67.5827027027027, 'gini = 0.0\\nsamples = 1\\nvalue = [0, 1]'),\n Text(64.11537673264657, 67.5827027027027, 'gini = 0.0\\nsamples = 4\\nvalue = [4, 0]'),\n Text(64.50059867321073, 73.45945945945945, 'gini = 0.0\\nsamples = 59\\nvalue = [59, 0]'),\n Text(65.6562644949032, 79.3362162162162, 'X[6] <= 0.163\\ngini = 0.444\\nsamples = 3\\nvalue = [2, 1]'),\n Text(65.27104255433903, 73.45945945945945, 'gini = 0.0\\nsamples = 1\\nvalue = [0, 1]'),\n Text(66.04148643546735, 73.45945945945945, 'gini = 0.0\\nsamples = 2\\nvalue = [2, 0]'),\n Text(66.81193031659566, 85.21297297297295, 'X[1] <= 25319.5\\ngini = 0.5\\nsamples = 2\\nvalue = [1, 1]'),\n Text(66.4267083760315, 79.3362162162162, 'gini = 0.0\\nsamples = 1\\nvalue = [0, 1]'),\n Text(67.19715225715981, 79.3362162162162, 'gini = 0.0\\nsamples = 1\\nvalue = [1, 0]'),\n Text(70.08631681139097, 96.96648648648647, 'X[6] <= 0.145\\ngini = 0.326\\nsamples = 39\\nvalue = [31, 8]'),\n Text(69.1232619599806, 91.08972972972973, 'X[2] <= 1073.5\\ngini = 0.475\\nsamples = 18\\nvalue = [11, 7]'),\n Text(68.35281807885228, 85.21297297297295, 'X[10] <= 18.32\\ngini = 0.444\\nsamples = 9\\nvalue = [3, 6]'),\n Text(67.96759613828813, 79.3362162162162, 'X[3] <= 785.33\\ngini = 0.5\\nsamples = 6\\nvalue = [3, 3]'),\n Text(67.58237419772396, 73.45945945945945, 'X[13] <= 43.565\\ngini = 0.375\\nsamples = 4\\nvalue = [1, 3]'),\n Text(67.19715225715981, 67.5827027027027, 'gini = 0.0\\nsamples = 1\\nvalue = [1, 0]'),\n Text(67.96759613828813, 67.5827027027027, 'gini = 0.0\\nsamples = 3\\nvalue = [0, 3]'),\n Text(68.35281807885228, 73.45945945945945, 'gini = 0.0\\nsamples = 2\\nvalue = [2, 0]'),\n Text(68.73804001941643, 79.3362162162162, 'gini = 0.0\\nsamples = 3\\nvalue = [0, 3]'),\n Text(69.8937058411089, 85.21297297297295, 'X[3] <= 1164.86\\ngini = 0.198\\nsamples = 9\\nvalue = [8, 1]'),\n Text(69.50848390054475, 79.3362162162162, 'gini = 0.0\\nsamples = 7\\nvalue = [7, 0]'),\n Text(70.27892778167306, 79.3362162162162, 'X[0] <= 70777.0\\ngini = 0.5\\nsamples = 2\\nvalue = [1, 1]'),\n Text(69.8937058411089, 73.45945945945945, 'gini = 0.0\\nsamples = 1\\nvalue = [1, 0]'),\n Text(70.66414972223721, 73.45945945945945, 'gini = 0.0\\nsamples = 1\\nvalue = [0, 1]'),\n Text(71.04937166280136, 91.08972972972973, 'X[6] <= 0.167\\ngini = 0.091\\nsamples = 21\\nvalue = [20, 1]'),\n Text(70.66414972223721, 85.21297297297295, 'gini = 0.0\\nsamples = 20\\nvalue = [20, 0]'),\n Text(71.43459360336553, 85.21297297297295, 'gini = 0.0\\nsamples = 1\\nvalue = [0, 1]'),\n Text(71.24198263308344, 102.84324324324324, 'X[0] <= 1235089.0\\ngini = 0.5\\nsamples = 4\\nvalue = [2, 2]'),\n Text(70.85676069251929, 96.96648648648647, 'gini = 0.0\\nsamples = 2\\nvalue = [0, 2]'),\n Text(71.6272045736476, 96.96648648648647, 'gini = 0.0\\nsamples = 2\\nvalue = [2, 0]'),\n Text(72.3976484547759, 108.71999999999998, 'X[6] <= 0.162\\ngini = 0.5\\nsamples = 4\\nvalue = [2, 2]'),\n Text(72.01242651421175, 102.84324324324324, 'gini = 0.0\\nsamples = 2\\nvalue = [2, 0]'),\n Text(72.78287039534007, 102.84324324324324, 'gini = 0.0\\nsamples = 2\\nvalue = [0, 2]'),\n Text(71.37741222156303, 114.59675675675675, 'gini = 0.0\\nsamples = 1\\nvalue = [0, 1]'),\n Text(74.32375815759669, 120.47351351351351, 'X[15] <= 10.25\\ngini = 0.113\\nsamples = 116\\nvalue = [109, 7]'),\n Text(73.93853621703254, 114.59675675675675, 'gini = 0.0\\nsamples = 1\\nvalue = [0, 1]'),\n Text(74.70898009816084, 114.59675675675675, 'X[12] <= 3.5\\ngini = 0.099\\nsamples = 115\\nvalue = [109, 6]'),\n Text(73.93853621703254, 108.71999999999998, 'X[3] <= 2129.345\\ngini = 0.085\\nsamples = 113\\nvalue = [108, 5]'),\n Text(73.55331427646837, 102.84324324324324, 'gini = 0.0\\nsamples = 48\\nvalue = [48, 0]'),\n Text(74.32375815759669, 102.84324324324324, 'X[3] <= 2145.535\\ngini = 0.142\\nsamples = 65\\nvalue = [60, 5]'),\n Text(73.93853621703254, 96.96648648648647, 'gini = 0.0\\nsamples = 1\\nvalue = [0, 1]'),\n Text(74.70898009816084, 96.96648648648647, 'X[0] <= 50263.5\\ngini = 0.117\\nsamples = 64\\nvalue = [60, 4]'),\n Text(74.32375815759669, 91.08972972972973, 'X[2] <= 4356.0\\ngini = 0.26\\nsamples = 26\\nvalue = [22, 4]'),\n Text(73.55331427646837, 85.21297297297295, 'X[0] <= 40026.5\\ngini = 0.159\\nsamples = 23\\nvalue = [21, 2]'),\n Text(73.16809233590422, 79.3362162162162, 'X[3] <= 3207.015\\ngini = 0.087\\nsamples = 22\\nvalue = [21, 1]'),\n Text(72.78287039534007, 73.45945945945945, 'gini = 0.0\\nsamples = 18\\nvalue = [18, 0]'),\n Text(73.55331427646837, 73.45945945945945, 'X[13] <= 304.705\\ngini = 0.375\\nsamples = 4\\nvalue = [3, 1]'),\n Text(73.16809233590422, 67.5827027027027, 'gini = 0.0\\nsamples = 1\\nvalue = [0, 1]'),\n Text(73.93853621703254, 67.5827027027027, 'gini = 0.0\\nsamples = 3\\nvalue = [3, 0]'),\n Text(73.93853621703254, 79.3362162162162, 'gini = 0.0\\nsamples = 1\\nvalue = [0, 1]'),\n Text(75.094202038725, 85.21297297297295, 'X[11] <= 15.24\\ngini = 0.444\\nsamples = 3\\nvalue = [1, 2]'),\n Text(74.70898009816084, 79.3362162162162, 'gini = 0.0\\nsamples = 1\\nvalue = [1, 0]'),\n Text(75.47942397928915, 79.3362162162162, 'gini = 0.0\\nsamples = 2\\nvalue = [0, 2]'),\n Text(75.094202038725, 91.08972972972973, 'gini = 0.0\\nsamples = 38\\nvalue = [38, 0]'),\n Text(75.47942397928915, 108.71999999999998, 'X[12] <= 4.5\\ngini = 0.5\\nsamples = 2\\nvalue = [1, 1]'),\n Text(75.094202038725, 102.84324324324324, 'gini = 0.0\\nsamples = 1\\nvalue = [0, 1]'),\n Text(75.8646459198533, 102.84324324324324, 'gini = 0.0\\nsamples = 1\\nvalue = [1, 0]'),\n Text(73.81364004099025, 132.22702702702702, 'X[13] <= 35.16\\ngini = 0.444\\nsamples = 3\\nvalue = [1, 2]'),\n Text(73.42841810042609, 126.35027027027026, 'gini = 0.0\\nsamples = 1\\nvalue = [1, 0]'),\n Text(74.1988619815544, 126.35027027027026, 'gini = 0.0\\nsamples = 2\\nvalue = [0, 2]'),\n Text(90.1766379240602, 143.98054054054052, 'X[15] <= 17.32\\ngini = 0.125\\nsamples = 1133\\nvalue = [1057, 76]'),\n Text(85.68498395447926, 138.1037837837838, 'X[2] <= 3864.0\\ngini = 0.105\\nsamples = 897\\nvalue = [847, 50]'),\n Text(81.82994309907772, 132.22702702702702, 'X[0] <= 172824.5\\ngini = 0.093\\nsamples = 761\\nvalue = [724, 37]'),\n Text(81.44472115851357, 126.35027027027026, 'X[1] <= 42244.0\\ngini = 0.09\\nsamples = 760\\nvalue = [724, 36]'),\n Text(80.26234561242651, 120.47351351351351, 'X[13] <= 164.88\\ngini = 0.088\\nsamples = 758\\nvalue = [723, 35]'),\n Text(79.05326034194489, 114.59675675675675, 'X[13] <= 163.585\\ngini = 0.105\\nsamples = 611\\nvalue = [577, 34]'),\n Text(78.66803840138073, 108.71999999999998, 'X[5] <= 13.735\\ngini = 0.1\\nsamples = 609\\nvalue = [577, 32]'),\n Text(76.63508980098162, 102.84324324324324, 'X[13] <= 36.59\\ngini = 0.017\\nsamples = 115\\nvalue = [114, 1]'),\n Text(76.24986786041747, 96.96648648648647, 'X[5] <= 8.93\\ngini = 0.444\\nsamples = 3\\nvalue = [2, 1]'),\n Text(75.8646459198533, 91.08972972972973, 'gini = 0.0\\nsamples = 1\\nvalue = [0, 1]'),\n Text(76.63508980098162, 91.08972972972973, 'gini = 0.0\\nsamples = 2\\nvalue = [2, 0]'),\n Text(77.02031174154577, 96.96648648648647, 'gini = 0.0\\nsamples = 112\\nvalue = [112, 0]'),\n Text(80.70098700177985, 102.84324324324324, 'X[5] <= 14.92\\ngini = 0.118\\nsamples = 494\\nvalue = [463, 31]'),\n Text(77.79075562267408, 96.96648648648647, 'X[5] <= 14.8\\ngini = 0.383\\nsamples = 31\\nvalue = [23, 8]'),\n Text(77.40553368210992, 91.08972972972973, 'X[15] <= 14.428\\ngini = 0.293\\nsamples = 28\\nvalue = [23, 5]'),\n Text(76.63508980098162, 85.21297297297295, 'X[3] <= 903.87\\ngini = 0.211\\nsamples = 25\\nvalue = [22, 3]'),\n Text(76.24986786041747, 79.3362162162162, 'X[9] <= 88.93\\ngini = 0.42\\nsamples = 10\\nvalue = [7, 3]'),\n Text(75.8646459198533, 73.45945945945945, 'X[10] <= 16.08\\ngini = 0.219\\nsamples = 8\\nvalue = [7, 1]'),\n Text(75.47942397928915, 67.5827027027027, 'gini = 0.0\\nsamples = 1\\nvalue = [0, 1]'),\n Text(76.24986786041747, 67.5827027027027, 'gini = 0.0\\nsamples = 7\\nvalue = [7, 0]'),\n Text(76.63508980098162, 73.45945945945945, 'gini = 0.0\\nsamples = 2\\nvalue = [0, 2]'),\n Text(77.02031174154577, 79.3362162162162, 'gini = 0.0\\nsamples = 15\\nvalue = [15, 0]'),\n Text(78.17597756323823, 85.21297297297295, 'X[2] <= 568.0\\ngini = 0.444\\nsamples = 3\\nvalue = [1, 2]'),\n Text(77.79075562267408, 79.3362162162162, 'gini = 0.0\\nsamples = 1\\nvalue = [1, 0]'),\n Text(78.56119950380238, 79.3362162162162, 'gini = 0.0\\nsamples = 2\\nvalue = [0, 2]'),\n Text(78.17597756323823, 91.08972972972973, 'gini = 0.0\\nsamples = 3\\nvalue = [0, 3]'),\n Text(83.61121838088562, 96.96648648648647, 'X[6] <= 0.114\\ngini = 0.094\\nsamples = 463\\nvalue = [440, 23]'),\n Text(81.95596785502401, 91.08972972972973, 'X[3] <= 1044.1\\ngini = 0.408\\nsamples = 7\\nvalue = [5, 2]'),\n Text(81.57074591445985, 85.21297297297295, 'gini = 0.0\\nsamples = 5\\nvalue = [5, 0]'),\n Text(82.34118979558816, 85.21297297297295, 'gini = 0.0\\nsamples = 2\\nvalue = [0, 2]'),\n Text(85.26646890674722, 91.08972972972973, 'X[6] <= 0.164\\ngini = 0.088\\nsamples = 456\\nvalue = [435, 21]'),\n Text(83.11163367671648, 85.21297297297295, 'X[13] <= 160.76\\ngini = 0.072\\nsamples = 402\\nvalue = [387, 15]'),\n Text(81.11329486003991, 79.3362162162162, 'X[9] <= 68.23\\ngini = 0.068\\nsamples = 400\\nvalue = [386, 14]'),\n Text(78.27228304837928, 73.45945945945945, 'X[8] <= 45.31\\ngini = 0.041\\nsamples = 286\\nvalue = [280, 6]'),\n Text(77.02031174154577, 67.5827027027027, 'X[1] <= 18880.5\\ngini = 0.023\\nsamples = 256\\nvalue = [253, 3]'),\n Text(76.05725689013538, 61.70594594594593, 'X[0] <= 30800.0\\ngini = 0.016\\nsamples = 250\\nvalue = [248, 2]'),\n Text(75.28681300900708, 55.82918918918918, 'X[0] <= 3281.0\\ngini = 0.008\\nsamples = 236\\nvalue = [235, 1]'),\n Text(74.90159106844291, 49.95243243243243, 'X[0] <= 3267.5\\ngini = 0.087\\nsamples = 22\\nvalue = [21, 1]'),\n Text(74.51636912787876, 44.075675675675654, 'gini = 0.0\\nsamples = 21\\nvalue = [21, 0]'),\n Text(75.28681300900708, 44.075675675675654, 'gini = 0.0\\nsamples = 1\\nvalue = [0, 1]'),\n Text(75.67203494957123, 49.95243243243243, 'gini = 0.0\\nsamples = 214\\nvalue = [214, 0]'),\n Text(76.8277007712637, 55.82918918918918, 'X[0] <= 31822.0\\ngini = 0.133\\nsamples = 14\\nvalue = [13, 1]'),\n Text(76.44247883069954, 49.95243243243243, 'gini = 0.0\\nsamples = 1\\nvalue = [0, 1]'),\n Text(77.21292271182784, 49.95243243243243, 'gini = 0.0\\nsamples = 13\\nvalue = [13, 0]'),\n Text(77.98336659295616, 61.70594594594593, 'X[10] <= 17.85\\ngini = 0.278\\nsamples = 6\\nvalue = [5, 1]'),\n Text(77.59814465239201, 55.82918918918918, 'gini = 0.0\\nsamples = 5\\nvalue = [5, 0]'),\n Text(78.36858853352031, 55.82918918918918, 'gini = 0.0\\nsamples = 1\\nvalue = [0, 1]'),\n Text(79.52425435521278, 67.5827027027027, 'X[10] <= 16.77\\ngini = 0.18\\nsamples = 30\\nvalue = [27, 3]'),\n Text(79.13903241464863, 61.70594594594593, 'gini = 0.0\\nsamples = 1\\nvalue = [0, 1]'),\n Text(79.90947629577694, 61.70594594594593, 'X[0] <= 2752.0\\ngini = 0.128\\nsamples = 29\\nvalue = [27, 2]'),\n Text(79.13903241464863, 55.82918918918918, 'X[3] <= 388.155\\ngini = 0.5\\nsamples = 2\\nvalue = [1, 1]'),\n Text(78.75381047408447, 49.95243243243243, 'gini = 0.0\\nsamples = 1\\nvalue = [1, 0]'),\n Text(79.52425435521278, 49.95243243243243, 'gini = 0.0\\nsamples = 1\\nvalue = [0, 1]'),\n Text(80.67992017690524, 55.82918918918918, 'X[0] <= 20992.0\\ngini = 0.071\\nsamples = 27\\nvalue = [26, 1]'),\n Text(80.29469823634109, 49.95243243243243, 'gini = 0.0\\nsamples = 24\\nvalue = [24, 0]'),\n Text(81.0651421174694, 49.95243243243243, 'X[3] <= 602.58\\ngini = 0.444\\nsamples = 3\\nvalue = [2, 1]'),\n Text(80.67992017690524, 44.075675675675654, 'gini = 0.0\\nsamples = 2\\nvalue = [2, 0]'),\n Text(81.45036405803356, 44.075675675675654, 'gini = 0.0\\nsamples = 1\\nvalue = [0, 1]'),\n Text(83.95430667170056, 73.45945945945945, 'X[4] <= 471.0\\ngini = 0.131\\nsamples = 114\\nvalue = [106, 8]'),\n Text(83.56908473113641, 67.5827027027027, 'gini = 0.0\\nsamples = 1\\nvalue = [0, 1]'),\n Text(84.33952861226471, 67.5827027027027, 'X[10] <= 15.79\\ngini = 0.116\\nsamples = 113\\nvalue = [106, 7]'),\n Text(83.37647376085432, 61.70594594594593, 'X[2] <= 1292.0\\ngini = 0.287\\nsamples = 23\\nvalue = [19, 4]'),\n Text(82.99125182029017, 55.82918918918918, 'X[4] <= 1103.5\\ngini = 0.426\\nsamples = 13\\nvalue = [9, 4]'),\n Text(82.60602987972602, 49.95243243243243, 'X[13] <= 129.115\\ngini = 0.298\\nsamples = 11\\nvalue = [9, 2]'),\n Text(82.22080793916186, 44.075675675675654, 'X[4] <= 707.5\\ngini = 0.18\\nsamples = 10\\nvalue = [9, 1]'),\n Text(81.83558599859771, 38.198918918918906, 'X[13] <= 81.515\\ngini = 0.5\\nsamples = 2\\nvalue = [1, 1]'),\n Text(81.45036405803356, 32.32216216216216, 'gini = 0.0\\nsamples = 1\\nvalue = [0, 1]'),\n Text(82.22080793916186, 32.32216216216216, 'gini = 0.0\\nsamples = 1\\nvalue = [1, 0]'),\n Text(82.60602987972602, 38.198918918918906, 'gini = 0.0\\nsamples = 8\\nvalue = [8, 0]'),\n Text(82.99125182029017, 44.075675675675654, 'gini = 0.0\\nsamples = 1\\nvalue = [0, 1]'),\n Text(83.37647376085432, 49.95243243243243, 'gini = 0.0\\nsamples = 2\\nvalue = [0, 2]'),\n Text(83.76169570141849, 55.82918918918918, 'gini = 0.0\\nsamples = 10\\nvalue = [10, 0]'),\n Text(85.3025834636751, 61.70594594594593, 'X[2] <= 742.0\\ngini = 0.064\\nsamples = 90\\nvalue = [87, 3]'),\n Text(84.53213958254679, 55.82918918918918, 'X[2] <= 734.0\\ngini = 0.245\\nsamples = 14\\nvalue = [12, 2]'),\n Text(84.14691764198264, 49.95243243243243, 'X[14] <= 4.5\\ngini = 0.142\\nsamples = 13\\nvalue = [12, 1]'),\n Text(83.76169570141849, 44.075675675675654, 'X[2] <= 627.0\\ngini = 0.444\\nsamples = 3\\nvalue = [2, 1]'),\n Text(83.37647376085432, 38.198918918918906, 'gini = 0.0\\nsamples = 1\\nvalue = [0, 1]'),\n Text(84.14691764198264, 38.198918918918906, 'gini = 0.0\\nsamples = 2\\nvalue = [2, 0]'),\n Text(84.53213958254679, 44.075675675675654, 'gini = 0.0\\nsamples = 10\\nvalue = [10, 0]'),\n Text(84.91736152311096, 49.95243243243243, 'gini = 0.0\\nsamples = 1\\nvalue = [0, 1]'),\n Text(86.07302734480342, 55.82918918918918, 'X[7] <= 0.1\\ngini = 0.026\\nsamples = 76\\nvalue = [75, 1]'),\n Text(85.68780540423926, 49.95243243243243, 'gini = 0.0\\nsamples = 66\\nvalue = [66, 0]'),\n Text(86.45824928536757, 49.95243243243243, 'X[5] <= 129.68\\ngini = 0.18\\nsamples = 10\\nvalue = [9, 1]'),\n Text(86.07302734480342, 44.075675675675654, 'X[10] <= 17.065\\ngini = 0.5\\nsamples = 2\\nvalue = [1, 1]'),\n Text(85.68780540423926, 38.198918918918906, 'gini = 0.0\\nsamples = 1\\nvalue = [1, 0]'),\n Text(86.45824928536757, 38.198918918918906, 'gini = 0.0\\nsamples = 1\\nvalue = [0, 1]'),\n Text(86.84347122593172, 44.075675675675654, 'gini = 0.0\\nsamples = 8\\nvalue = [8, 0]'),\n Text(85.10997249339303, 79.3362162162162, 'X[15] <= 13.528\\ngini = 0.5\\nsamples = 2\\nvalue = [1, 1]'),\n Text(84.72475055282888, 73.45945945945945, 'gini = 0.0\\nsamples = 1\\nvalue = [0, 1]'),\n Text(85.49519443395718, 73.45945945945945, 'gini = 0.0\\nsamples = 1\\nvalue = [1, 0]'),\n Text(87.42130413677796, 85.21297297297295, 'X[13] <= 33.495\\ngini = 0.198\\nsamples = 54\\nvalue = [48, 6]'),\n Text(87.0360821962138, 79.3362162162162, 'gini = 0.0\\nsamples = 1\\nvalue = [0, 1]'),\n Text(87.80652607734211, 79.3362162162162, 'X[3] <= 1145.36\\ngini = 0.171\\nsamples = 53\\nvalue = [48, 5]'),\n Text(86.84347122593172, 73.45945945945945, 'X[11] <= 16.41\\ngini = 0.056\\nsamples = 35\\nvalue = [34, 1]'),\n Text(86.45824928536757, 67.5827027027027, 'X[11] <= 16.13\\ngini = 0.219\\nsamples = 8\\nvalue = [7, 1]'),\n Text(86.07302734480342, 61.70594594594593, 'gini = 0.0\\nsamples = 7\\nvalue = [7, 0]'),\n Text(86.84347122593172, 61.70594594594593, 'gini = 0.0\\nsamples = 1\\nvalue = [0, 1]'),\n Text(87.22869316649589, 67.5827027027027, 'gini = 0.0\\nsamples = 27\\nvalue = [27, 0]'),\n Text(88.7695809287525, 73.45945945945945, 'X[3] <= 1170.09\\ngini = 0.346\\nsamples = 18\\nvalue = [14, 4]'),\n Text(87.99913704762419, 67.5827027027027, 'X[13] <= 111.265\\ngini = 0.444\\nsamples = 3\\nvalue = [1, 2]'),\n Text(87.61391510706004, 61.70594594594593, 'gini = 0.0\\nsamples = 1\\nvalue = [1, 0]'),\n Text(88.38435898818835, 61.70594594594593, 'gini = 0.0\\nsamples = 2\\nvalue = [0, 2]'),\n Text(89.54002480988082, 67.5827027027027, 'X[3] <= 1427.6\\ngini = 0.231\\nsamples = 15\\nvalue = [13, 2]'),\n Text(89.15480286931665, 61.70594594594593, 'gini = 0.0\\nsamples = 9\\nvalue = [9, 0]'),\n Text(89.92524675044497, 61.70594594594593, 'X[3] <= 1551.165\\ngini = 0.444\\nsamples = 6\\nvalue = [4, 2]'),\n Text(89.54002480988082, 55.82918918918918, 'X[10] <= 16.44\\ngini = 0.444\\nsamples = 3\\nvalue = [1, 2]'),\n Text(89.15480286931665, 49.95243243243243, 'gini = 0.0\\nsamples = 1\\nvalue = [1, 0]'),\n Text(89.92524675044497, 49.95243243243243, 'gini = 0.0\\nsamples = 2\\nvalue = [0, 2]'),\n Text(90.31046869100912, 55.82918918918918, 'gini = 0.0\\nsamples = 3\\nvalue = [3, 0]'),\n Text(79.43848228250904, 108.71999999999998, 'gini = 0.0\\nsamples = 2\\nvalue = [0, 2]'),\n Text(81.47143088290815, 114.59675675675675, 'X[3] <= 5358.82\\ngini = 0.014\\nsamples = 147\\nvalue = [146, 1]'),\n Text(81.086208942344, 108.71999999999998, 'gini = 0.0\\nsamples = 136\\nvalue = [136, 0]'),\n Text(81.85665282347232, 108.71999999999998, 'X[13] <= 415.785\\ngini = 0.165\\nsamples = 11\\nvalue = [10, 1]'),\n Text(81.47143088290815, 102.84324324324324, 'gini = 0.0\\nsamples = 1\\nvalue = [0, 1]'),\n Text(82.24187476403647, 102.84324324324324, 'gini = 0.0\\nsamples = 10\\nvalue = [10, 0]'),\n Text(82.62709670460062, 120.47351351351351, 'X[6] <= 0.143\\ngini = 0.5\\nsamples = 2\\nvalue = [1, 1]'),\n Text(82.24187476403647, 114.59675675675675, 'gini = 0.0\\nsamples = 1\\nvalue = [1, 0]'),\n Text(83.01231864516478, 114.59675675675675, 'gini = 0.0\\nsamples = 1\\nvalue = [0, 1]'),\n Text(82.21516503964189, 126.35027027027026, 'gini = 0.0\\nsamples = 1\\nvalue = [0, 1]'),\n Text(89.54002480988082, 132.22702702702702, 'X[2] <= 3875.5\\ngini = 0.173\\nsamples = 136\\nvalue = [123, 13]'),\n Text(89.15480286931665, 126.35027027027026, 'gini = 0.0\\nsamples = 2\\nvalue = [0, 2]'),\n Text(89.92524675044497, 126.35027027027026, 'X[14] <= 9.5\\ngini = 0.151\\nsamples = 134\\nvalue = [123, 11]'),\n Text(88.57696995847043, 120.47351351351351, 'X[2] <= 6224.5\\ngini = 0.129\\nsamples = 130\\nvalue = [121, 9]'),\n Text(87.0360821962138, 114.59675675675675, 'X[5] <= 13.685\\ngini = 0.266\\nsamples = 38\\nvalue = [32, 6]'),\n Text(86.2656383150855, 108.71999999999998, 'X[9] <= 525.195\\ngini = 0.48\\nsamples = 5\\nvalue = [2, 3]'),\n Text(85.88041637452135, 102.84324324324324, 'gini = 0.0\\nsamples = 3\\nvalue = [0, 3]'),\n Text(86.65086025564965, 102.84324324324324, 'gini = 0.0\\nsamples = 2\\nvalue = [2, 0]'),\n Text(87.80652607734211, 108.71999999999998, 'X[9] <= 862.195\\ngini = 0.165\\nsamples = 33\\nvalue = [30, 3]'),\n Text(87.42130413677796, 102.84324324324324, 'X[10] <= 14.9\\ngini = 0.117\\nsamples = 32\\nvalue = [30, 2]'),\n Text(86.65086025564965, 96.96648648648647, 'X[13] <= 178.715\\ngini = 0.5\\nsamples = 2\\nvalue = [1, 1]'),\n Text(86.2656383150855, 91.08972972972973, 'gini = 0.0\\nsamples = 1\\nvalue = [1, 0]'),\n Text(87.0360821962138, 91.08972972972973, 'gini = 0.0\\nsamples = 1\\nvalue = [0, 1]'),\n Text(88.19174801790626, 96.96648648648647, 'X[2] <= 5966.5\\ngini = 0.064\\nsamples = 30\\nvalue = [29, 1]'),\n Text(87.80652607734211, 91.08972972972973, 'gini = 0.0\\nsamples = 26\\nvalue = [26, 0]'),\n Text(88.57696995847043, 91.08972972972973, 'X[2] <= 6063.5\\ngini = 0.375\\nsamples = 4\\nvalue = [3, 1]'),\n Text(88.19174801790626, 85.21297297297295, 'gini = 0.0\\nsamples = 1\\nvalue = [0, 1]'),\n Text(88.96219189903458, 85.21297297297295, 'gini = 0.0\\nsamples = 3\\nvalue = [3, 0]'),\n Text(88.19174801790626, 102.84324324324324, 'gini = 0.0\\nsamples = 1\\nvalue = [0, 1]'),\n Text(90.11785772072705, 114.59675675675675, 'X[14] <= 3.5\\ngini = 0.063\\nsamples = 92\\nvalue = [89, 3]'),\n Text(89.34741383959873, 108.71999999999998, 'X[11] <= 14.85\\ngini = 0.32\\nsamples = 5\\nvalue = [4, 1]'),\n Text(88.96219189903458, 102.84324324324324, 'gini = 0.0\\nsamples = 1\\nvalue = [0, 1]'),\n Text(89.7326357801629, 102.84324324324324, 'gini = 0.0\\nsamples = 4\\nvalue = [4, 0]'),\n Text(90.88830160185536, 108.71999999999998, 'X[5] <= 16.33\\ngini = 0.045\\nsamples = 87\\nvalue = [85, 2]'),\n Text(90.5030796612912, 102.84324324324324, 'X[5] <= 16.28\\ngini = 0.124\\nsamples = 30\\nvalue = [28, 2]'),\n Text(90.11785772072705, 96.96648648648647, 'X[11] <= 19.8\\ngini = 0.067\\nsamples = 29\\nvalue = [28, 1]'),\n Text(89.7326357801629, 91.08972972972973, 'gini = 0.0\\nsamples = 25\\nvalue = [25, 0]'),\n Text(90.5030796612912, 91.08972972972973, 'X[3] <= 3058.39\\ngini = 0.375\\nsamples = 4\\nvalue = [3, 1]'),\n Text(90.11785772072705, 85.21297297297295, 'gini = 0.0\\nsamples = 1\\nvalue = [0, 1]'),\n Text(90.88830160185536, 85.21297297297295, 'gini = 0.0\\nsamples = 3\\nvalue = [3, 0]'),\n Text(90.88830160185536, 96.96648648648647, 'gini = 0.0\\nsamples = 1\\nvalue = [0, 1]'),\n Text(91.27352354241951, 102.84324324324324, 'gini = 0.0\\nsamples = 57\\nvalue = [57, 0]'),\n Text(91.27352354241951, 120.47351351351351, 'X[12] <= 1.5\\ngini = 0.5\\nsamples = 4\\nvalue = [2, 2]'),\n Text(90.88830160185536, 114.59675675675675, 'gini = 0.0\\nsamples = 2\\nvalue = [2, 0]'),\n Text(91.65874548298366, 114.59675675675675, 'gini = 0.0\\nsamples = 2\\nvalue = [0, 2]'),\n Text(94.66829189364113, 138.1037837837838, 'X[6] <= 0.111\\ngini = 0.196\\nsamples = 236\\nvalue = [210, 26]'),\n Text(94.28306995307697, 132.22702702702702, 'gini = 0.0\\nsamples = 2\\nvalue = [0, 2]'),\n Text(95.05351383420529, 132.22702702702702, 'X[0] <= 8880.0\\ngini = 0.184\\nsamples = 234\\nvalue = [210, 24]'),\n Text(93.19963324524029, 126.35027027027026, 'X[6] <= 0.117\\ngini = 0.444\\nsamples = 21\\nvalue = [14, 7]'),\n Text(92.81441130467613, 120.47351351351351, 'X[15] <= 19.4\\ngini = 0.346\\nsamples = 18\\nvalue = [14, 4]'),\n Text(92.42918936411198, 114.59675675675675, 'gini = 0.0\\nsamples = 9\\nvalue = [9, 0]'),\n Text(93.19963324524029, 114.59675675675675, 'X[11] <= 18.185\\ngini = 0.494\\nsamples = 9\\nvalue = [5, 4]'),\n Text(92.81441130467613, 108.71999999999998, 'X[4] <= 872.5\\ngini = 0.278\\nsamples = 6\\nvalue = [5, 1]'),\n Text(92.42918936411198, 102.84324324324324, 'gini = 0.0\\nsamples = 5\\nvalue = [5, 0]'),\n Text(93.19963324524029, 102.84324324324324, 'gini = 0.0\\nsamples = 1\\nvalue = [0, 1]'),\n Text(93.58485518580444, 108.71999999999998, 'gini = 0.0\\nsamples = 3\\nvalue = [0, 3]'),\n Text(93.58485518580444, 120.47351351351351, 'gini = 0.0\\nsamples = 3\\nvalue = [0, 3]'),\n Text(96.90739442317027, 126.35027027027026, 'X[15] <= 17.7\\ngini = 0.147\\nsamples = 213\\nvalue = [196, 17]'),\n Text(95.12574294806106, 120.47351351351351, 'X[9] <= 246.635\\ngini = 0.43\\nsamples = 16\\nvalue = [11, 5]'),\n Text(94.74052100749691, 114.59675675675675, 'X[0] <= 15849.5\\ngini = 0.469\\nsamples = 8\\nvalue = [3, 5]'),\n Text(94.35529906693276, 108.71999999999998, 'X[6] <= 0.115\\ngini = 0.375\\nsamples = 4\\nvalue = [3, 1]'),\n Text(93.9700771263686, 102.84324324324324, 'gini = 0.0\\nsamples = 1\\nvalue = [0, 1]'),\n Text(94.74052100749691, 102.84324324324324, 'gini = 0.0\\nsamples = 3\\nvalue = [3, 0]'),\n Text(95.12574294806106, 108.71999999999998, 'gini = 0.0\\nsamples = 4\\nvalue = [0, 4]'),\n Text(95.51096488862522, 114.59675675675675, 'gini = 0.0\\nsamples = 8\\nvalue = [8, 0]'),\n Text(98.6890458982795, 120.47351351351351, 'X[1] <= 33474.0\\ngini = 0.114\\nsamples = 197\\nvalue = [185, 12]'),\n Text(97.62968556172807, 114.59675675675675, 'X[3] <= 9601.245\\ngini = 0.09\\nsamples = 190\\nvalue = [181, 9]'),\n Text(97.24446362116392, 108.71999999999998, 'X[7] <= 0.099\\ngini = 0.081\\nsamples = 189\\nvalue = [181, 8]'),\n Text(95.51096488862522, 102.84324324324324, 'X[10] <= 15.94\\ngini = 0.043\\nsamples = 135\\nvalue = [132, 3]'),\n Text(94.74052100749691, 96.96648648648647, 'X[3] <= 1795.305\\ngini = 0.18\\nsamples = 20\\nvalue = [18, 2]'),\n Text(94.35529906693276, 91.08972972972973, 'gini = 0.0\\nsamples = 1\\nvalue = [0, 1]'),\n Text(95.12574294806106, 91.08972972972973, 'X[5] <= 131.76\\ngini = 0.1\\nsamples = 19\\nvalue = [18, 1]'),\n Text(94.74052100749691, 85.21297297297295, 'gini = 0.0\\nsamples = 17\\nvalue = [17, 0]'),\n Text(95.51096488862522, 85.21297297297295, 'X[10] <= 15.5\\ngini = 0.5\\nsamples = 2\\nvalue = [1, 1]'),\n Text(95.12574294806106, 79.3362162162162, 'gini = 0.0\\nsamples = 1\\nvalue = [1, 0]'),\n Text(95.89618682918938, 79.3362162162162, 'gini = 0.0\\nsamples = 1\\nvalue = [0, 1]'),\n Text(96.28140876975353, 96.96648648648647, 'X[3] <= 7803.835\\ngini = 0.017\\nsamples = 115\\nvalue = [114, 1]'),\n Text(95.89618682918938, 91.08972972972973, 'gini = 0.0\\nsamples = 106\\nvalue = [106, 0]'),\n Text(96.66663071031769, 91.08972972972973, 'X[3] <= 7917.805\\ngini = 0.198\\nsamples = 9\\nvalue = [8, 1]'),\n Text(96.28140876975353, 85.21297297297295, 'gini = 0.0\\nsamples = 1\\nvalue = [0, 1]'),\n Text(97.05185265088184, 85.21297297297295, 'gini = 0.0\\nsamples = 8\\nvalue = [8, 0]'),\n Text(98.97796235370261, 102.84324324324324, 'X[7] <= 0.1\\ngini = 0.168\\nsamples = 54\\nvalue = [49, 5]'),\n Text(98.59274041313846, 96.96648648648647, 'X[9] <= 839.02\\ngini = 0.293\\nsamples = 28\\nvalue = [23, 5]'),\n Text(98.20751847257431, 91.08972972972973, 'X[14] <= 4.5\\ngini = 0.252\\nsamples = 27\\nvalue = [23, 4]'),\n Text(97.82229653201014, 85.21297297297295, 'X[5] <= 129.66\\ngini = 0.375\\nsamples = 16\\nvalue = [12, 4]'),\n Text(97.43707459144599, 79.3362162162162, 'gini = 0.0\\nsamples = 8\\nvalue = [8, 0]'),\n Text(98.20751847257431, 79.3362162162162, 'X[5] <= 130.585\\ngini = 0.5\\nsamples = 8\\nvalue = [4, 4]'),\n Text(97.82229653201014, 73.45945945945945, 'gini = 0.0\\nsamples = 3\\nvalue = [0, 3]'),\n Text(98.59274041313846, 73.45945945945945, 'X[7] <= 0.1\\ngini = 0.32\\nsamples = 5\\nvalue = [4, 1]'),\n Text(98.20751847257431, 67.5827027027027, 'gini = 0.0\\nsamples = 4\\nvalue = [4, 0]'),\n Text(98.97796235370261, 67.5827027027027, 'gini = 0.0\\nsamples = 1\\nvalue = [0, 1]'),\n Text(98.59274041313846, 85.21297297297295, 'gini = 0.0\\nsamples = 11\\nvalue = [11, 0]'),\n Text(98.97796235370261, 91.08972972972973, 'gini = 0.0\\nsamples = 1\\nvalue = [0, 1]'),\n Text(99.36318429426677, 96.96648648648647, 'gini = 0.0\\nsamples = 26\\nvalue = [26, 0]'),\n Text(98.01490750229223, 108.71999999999998, 'gini = 0.0\\nsamples = 1\\nvalue = [0, 1]'),\n Text(99.74840623483092, 114.59675675675675, 'X[1] <= 38595.5\\ngini = 0.49\\nsamples = 7\\nvalue = [4, 3]'),\n Text(99.36318429426677, 108.71999999999998, 'gini = 0.0\\nsamples = 2\\nvalue = [0, 2]'),\n Text(100.13362817539507, 108.71999999999998, 'X[9] <= 325.76\\ngini = 0.32\\nsamples = 5\\nvalue = [4, 1]'),\n Text(99.74840623483092, 102.84324324324324, 'gini = 0.0\\nsamples = 4\\nvalue = [4, 0]'),\n Text(100.51885011595924, 102.84324324324324, 'gini = 0.0\\nsamples = 1\\nvalue = [0, 1]'),\n Text(101.04853028423494, 155.73405405405404, 'X[13] <= 173.525\\ngini = 0.043\\nsamples = 456\\nvalue = [446, 10]'),\n Text(99.02611509627313, 149.8572972972973, 'X[3] <= 445.385\\ngini = 0.028\\nsamples = 356\\nvalue = [351, 5]'),\n Text(98.06306024486274, 143.98054054054052, 'X[3] <= 443.205\\ngini = 0.083\\nsamples = 69\\nvalue = [66, 3]'),\n Text(97.67783830429859, 138.1037837837838, 'X[3] <= 436.16\\ngini = 0.029\\nsamples = 67\\nvalue = [66, 1]'),\n Text(97.29261636373444, 132.22702702702702, 'gini = 0.0\\nsamples = 64\\nvalue = [64, 0]'),\n Text(98.06306024486274, 132.22702702702702, 'X[8] <= 45.059\\ngini = 0.444\\nsamples = 3\\nvalue = [2, 1]'),\n Text(97.67783830429859, 126.35027027027026, 'gini = 0.0\\nsamples = 2\\nvalue = [2, 0]'),\n Text(98.4482821854269, 126.35027027027026, 'gini = 0.0\\nsamples = 1\\nvalue = [0, 1]'),\n Text(98.4482821854269, 138.1037837837838, 'gini = 0.0\\nsamples = 2\\nvalue = [0, 2]'),\n Text(99.98916994768352, 143.98054054054052, 'X[5] <= 1.065\\ngini = 0.014\\nsamples = 287\\nvalue = [285, 2]'),\n Text(99.2187260665552, 138.1037837837838, 'X[5] <= 0.685\\ngini = 0.124\\nsamples = 15\\nvalue = [14, 1]'),\n Text(98.83350412599106, 132.22702702702702, 'gini = 0.0\\nsamples = 14\\nvalue = [14, 0]'),\n Text(99.60394800711937, 132.22702702702702, 'gini = 0.0\\nsamples = 1\\nvalue = [0, 1]'),\n Text(100.75961382881184, 138.1037837837838, 'X[0] <= 3660.5\\ngini = 0.007\\nsamples = 272\\nvalue = [271, 1]'),\n Text(100.37439188824767, 132.22702702702702, 'X[0] <= 3621.0\\ngini = 0.077\\nsamples = 25\\nvalue = [24, 1]'),\n Text(99.98916994768352, 126.35027027027026, 'gini = 0.0\\nsamples = 24\\nvalue = [24, 0]'),\n Text(100.75961382881184, 126.35027027027026, 'gini = 0.0\\nsamples = 1\\nvalue = [0, 1]'),\n Text(101.14483576937599, 132.22702702702702, 'gini = 0.0\\nsamples = 247\\nvalue = [247, 0]'),\n Text(103.07094547219677, 149.8572972972973, 'X[13] <= 184.56\\ngini = 0.095\\nsamples = 100\\nvalue = [95, 5]'),\n Text(101.9152796505043, 143.98054054054052, 'X[6] <= 0.13\\ngini = 0.469\\nsamples = 8\\nvalue = [5, 3]'),\n Text(101.53005770994014, 138.1037837837838, 'gini = 0.0\\nsamples = 2\\nvalue = [0, 2]'),\n Text(102.30050159106845, 138.1037837837838, 'X[14] <= 5.5\\ngini = 0.278\\nsamples = 6\\nvalue = [5, 1]'),\n Text(101.9152796505043, 132.22702702702702, 'gini = 0.0\\nsamples = 5\\nvalue = [5, 0]'),\n Text(102.6857235316326, 132.22702702702702, 'gini = 0.0\\nsamples = 1\\nvalue = [0, 1]'),\n Text(104.22661129388923, 143.98054054054052, 'X[0] <= 26651.0\\ngini = 0.043\\nsamples = 92\\nvalue = [90, 2]'),\n Text(103.84138935332507, 138.1037837837838, 'X[3] <= 3307.01\\ngini = 0.111\\nsamples = 34\\nvalue = [32, 2]'),\n Text(103.45616741276092, 132.22702702702702, 'X[15] <= 22.17\\ngini = 0.059\\nsamples = 33\\nvalue = [32, 1]'),\n Text(103.07094547219677, 126.35027027027026, 'gini = 0.0\\nsamples = 31\\nvalue = [31, 0]'),\n Text(103.84138935332507, 126.35027027027026, 'X[11] <= 21.41\\ngini = 0.5\\nsamples = 2\\nvalue = [1, 1]'),\n Text(103.45616741276092, 120.47351351351351, 'gini = 0.0\\nsamples = 1\\nvalue = [0, 1]'),\n Text(104.22661129388923, 120.47351351351351, 'gini = 0.0\\nsamples = 1\\nvalue = [1, 0]'),\n Text(104.22661129388923, 132.22702702702702, 'gini = 0.0\\nsamples = 1\\nvalue = [0, 1]'),\n Text(104.61183323445339, 138.1037837837838, 'gini = 0.0\\nsamples = 58\\nvalue = [58, 0]'),\n Text(106.53794293727415, 167.48756756756757, 'X[5] <= 16.67\\ngini = 0.363\\nsamples = 21\\nvalue = [16, 5]'),\n Text(106.15272099671, 161.6108108108108, 'X[12] <= 1.5\\ngini = 0.5\\nsamples = 10\\nvalue = [5, 5]'),\n Text(105.76749905614585, 155.73405405405404, 'X[2] <= 2063.5\\ngini = 0.469\\nsamples = 8\\nvalue = [3, 5]'),\n Text(105.3822771155817, 149.8572972972973, 'X[5] <= 3.185\\ngini = 0.278\\nsamples = 6\\nvalue = [1, 5]'),\n Text(104.99705517501754, 143.98054054054052, 'gini = 0.0\\nsamples = 1\\nvalue = [1, 0]'),\n Text(105.76749905614585, 143.98054054054052, 'gini = 0.0\\nsamples = 5\\nvalue = [0, 5]'),\n Text(106.15272099671, 149.8572972972973, 'gini = 0.0\\nsamples = 2\\nvalue = [2, 0]'),\n Text(106.53794293727415, 155.73405405405404, 'gini = 0.0\\nsamples = 2\\nvalue = [2, 0]'),\n Text(106.92316487783832, 161.6108108108108, 'gini = 0.0\\nsamples = 11\\nvalue = [11, 0]'),\n Text(108.46405264009493, 173.36432432432431, 'X[13] <= 944.33\\ngini = 0.363\\nsamples = 21\\nvalue = [16, 5]'),\n Text(108.07883069953078, 167.48756756756757, 'X[9] <= 1113.555\\ngini = 0.408\\nsamples = 7\\nvalue = [2, 5]'),\n Text(107.69360875896662, 161.6108108108108, 'gini = 0.0\\nsamples = 5\\nvalue = [0, 5]'),\n Text(108.46405264009493, 161.6108108108108, 'gini = 0.0\\nsamples = 2\\nvalue = [2, 0]'),\n Text(108.84927458065908, 167.48756756756757, 'gini = 0.0\\nsamples = 14\\nvalue = [14, 0]'),\n Text(93.63146265193578, 179.24108108108106, 'gini = 0.0\\nsamples = 6\\nvalue = [0, 6]'),\n Text(110.58277331319779, 185.11783783783784, 'X[13] <= 12.92\\ngini = 0.023\\nsamples = 256\\nvalue = [253, 3]'),\n Text(109.6197184617874, 179.24108108108106, 'X[9] <= 12.82\\ngini = 0.32\\nsamples = 5\\nvalue = [4, 1]'),\n Text(109.23449652122325, 173.36432432432431, 'gini = 0.0\\nsamples = 4\\nvalue = [4, 0]'),\n Text(110.00494040235155, 173.36432432432431, 'gini = 0.0\\nsamples = 1\\nvalue = [0, 1]'),\n Text(111.54582816460818, 179.24108108108106, 'X[12] <= 1.5\\ngini = 0.016\\nsamples = 251\\nvalue = [249, 2]'),\n Text(110.77538428347987, 173.36432432432431, 'X[5] <= 131.235\\ngini = 0.278\\nsamples = 6\\nvalue = [5, 1]'),\n Text(110.39016234291572, 167.48756756756757, 'gini = 0.0\\nsamples = 5\\nvalue = [5, 0]'),\n Text(111.16060622404402, 167.48756756756757, 'gini = 0.0\\nsamples = 1\\nvalue = [0, 1]'),\n Text(112.31627204573648, 173.36432432432431, 'X[13] <= 854.81\\ngini = 0.008\\nsamples = 245\\nvalue = [244, 1]'),\n Text(111.93105010517233, 167.48756756756757, 'gini = 0.0\\nsamples = 238\\nvalue = [238, 0]'),\n Text(112.70149398630065, 167.48756756756757, 'X[9] <= 654.64\\ngini = 0.245\\nsamples = 7\\nvalue = [6, 1]'),\n Text(112.31627204573648, 161.6108108108108, 'gini = 0.0\\nsamples = 1\\nvalue = [0, 1]'),\n Text(113.0867159268648, 161.6108108108108, 'gini = 0.0\\nsamples = 6\\nvalue = [6, 0]'),\n Text(124.19796127501215, 190.9945945945946, 'X[6] <= 0.113\\ngini = 0.207\\nsamples = 453\\nvalue = [400, 53]'),\n Text(117.66122647106414, 185.11783783783784, 'X[14] <= 5.5\\ngini = 0.337\\nsamples = 107\\nvalue = [84, 23]'),\n Text(116.45740790680115, 179.24108108108106, 'X[4] <= 3277.0\\ngini = 0.475\\nsamples = 49\\nvalue = [30, 19]'),\n Text(115.20543659996765, 173.36432432432431, 'X[7] <= 0.093\\ngini = 0.494\\nsamples = 27\\nvalue = [12, 15]'),\n Text(114.24238174855726, 167.48756756756757, 'X[2] <= 90.5\\ngini = 0.219\\nsamples = 8\\nvalue = [1, 7]'),\n Text(113.85715980799311, 161.6108108108108, 'gini = 0.0\\nsamples = 1\\nvalue = [1, 0]'),\n Text(114.62760368912141, 161.6108108108108, 'gini = 0.0\\nsamples = 7\\nvalue = [0, 7]'),\n Text(116.16849145137803, 167.48756756756757, 'X[3] <= 3337.57\\ngini = 0.488\\nsamples = 19\\nvalue = [11, 8]'),\n Text(115.39804757024973, 161.6108108108108, 'X[0] <= 25589.0\\ngini = 0.408\\nsamples = 14\\nvalue = [10, 4]'),\n Text(115.01282562968558, 155.73405405405404, 'X[13] <= 172.645\\ngini = 0.5\\nsamples = 8\\nvalue = [4, 4]'),\n Text(114.62760368912141, 149.8572972972973, 'gini = 0.0\\nsamples = 2\\nvalue = [2, 0]'),\n Text(115.39804757024973, 149.8572972972973, 'X[15] <= 12.5\\ngini = 0.444\\nsamples = 6\\nvalue = [2, 4]'),\n Text(115.01282562968558, 143.98054054054052, 'gini = 0.0\\nsamples = 2\\nvalue = [2, 0]'),\n Text(115.78326951081388, 143.98054054054052, 'gini = 0.0\\nsamples = 4\\nvalue = [0, 4]'),\n Text(115.78326951081388, 155.73405405405404, 'gini = 0.0\\nsamples = 6\\nvalue = [6, 0]'),\n Text(116.93893533250635, 161.6108108108108, 'X[1] <= 14906.5\\ngini = 0.32\\nsamples = 5\\nvalue = [1, 4]'),\n Text(116.5537133919422, 155.73405405405404, 'gini = 0.0\\nsamples = 4\\nvalue = [0, 4]'),\n Text(117.3241572730705, 155.73405405405404, 'gini = 0.0\\nsamples = 1\\nvalue = [1, 0]'),\n Text(117.70937921363466, 173.36432432432431, 'X[6] <= 0.098\\ngini = 0.298\\nsamples = 22\\nvalue = [18, 4]'),\n Text(117.3241572730705, 167.48756756756757, 'gini = 0.0\\nsamples = 2\\nvalue = [0, 2]'),\n Text(118.09460115419881, 167.48756756756757, 'X[10] <= 0.06\\ngini = 0.18\\nsamples = 20\\nvalue = [18, 2]'),\n Text(117.70937921363466, 161.6108108108108, 'gini = 0.0\\nsamples = 2\\nvalue = [0, 2]'),\n Text(118.47982309476296, 161.6108108108108, 'gini = 0.0\\nsamples = 18\\nvalue = [18, 0]'),\n Text(118.86504503532713, 179.24108108108106, 'X[7] <= 0.092\\ngini = 0.128\\nsamples = 58\\nvalue = [54, 4]'),\n Text(118.47982309476296, 173.36432432432431, 'gini = 0.0\\nsamples = 36\\nvalue = [36, 0]'),\n Text(119.25026697589128, 173.36432432432431, 'X[14] <= 6.5\\ngini = 0.298\\nsamples = 22\\nvalue = [18, 4]'),\n Text(118.86504503532713, 167.48756756756757, 'gini = 0.0\\nsamples = 13\\nvalue = [13, 0]'),\n Text(119.63548891645543, 167.48756756756757, 'X[13] <= 153.855\\ngini = 0.494\\nsamples = 9\\nvalue = [5, 4]'),\n Text(119.25026697589128, 161.6108108108108, 'gini = 0.0\\nsamples = 2\\nvalue = [2, 0]'),\n Text(120.0207108570196, 161.6108108108108, 'X[5] <= 146.74\\ngini = 0.49\\nsamples = 7\\nvalue = [3, 4]'),\n Text(119.63548891645543, 155.73405405405404, 'gini = 0.0\\nsamples = 2\\nvalue = [2, 0]'),\n Text(120.40593279758374, 155.73405405405404, 'X[14] <= 9.0\\ngini = 0.32\\nsamples = 5\\nvalue = [1, 4]'),\n Text(120.0207108570196, 149.8572972972973, 'gini = 0.0\\nsamples = 3\\nvalue = [0, 3]'),\n Text(120.7911547381479, 149.8572972972973, 'X[6] <= 0.102\\ngini = 0.5\\nsamples = 2\\nvalue = [1, 1]'),\n Text(120.40593279758374, 143.98054054054052, 'gini = 0.0\\nsamples = 1\\nvalue = [1, 0]'),\n Text(121.17637667871206, 143.98054054054052, 'gini = 0.0\\nsamples = 1\\nvalue = [0, 1]'),\n Text(130.73469607896016, 185.11783783783784, 'X[5] <= 142.73\\ngini = 0.158\\nsamples = 346\\nvalue = [316, 30]'),\n Text(130.349474138396, 179.24108108108106, 'gini = 0.0\\nsamples = 1\\nvalue = [0, 1]'),\n Text(131.1199180195243, 179.24108108108106, 'X[13] <= 556.195\\ngini = 0.154\\nsamples = 345\\nvalue = [316, 29]'),\n Text(127.0028585297449, 173.36432432432431, 'X[0] <= 19772.0\\ngini = 0.124\\nsamples = 287\\nvalue = [268, 19]'),\n Text(124.2581522032253, 167.48756756756757, 'X[0] <= 19663.0\\ngini = 0.208\\nsamples = 85\\nvalue = [75, 10]'),\n Text(123.87293026266114, 161.6108108108108, 'X[5] <= 142.99\\ngini = 0.191\\nsamples = 84\\nvalue = [75, 9]'),\n Text(123.48770832209699, 155.73405405405404, 'gini = 0.0\\nsamples = 1\\nvalue = [0, 1]'),\n Text(124.2581522032253, 155.73405405405404, 'X[2] <= 816.0\\ngini = 0.174\\nsamples = 83\\nvalue = [75, 8]'),\n Text(122.71726444096868, 149.8572972972973, 'X[9] <= 63.81\\ngini = 0.32\\nsamples = 25\\nvalue = [20, 5]'),\n Text(121.94682055984036, 143.98054054054052, 'X[11] <= 11.865\\ngini = 0.172\\nsamples = 21\\nvalue = [19, 2]'),\n Text(121.56159861927621, 138.1037837837838, 'X[15] <= 18.56\\ngini = 0.48\\nsamples = 5\\nvalue = [3, 2]'),\n Text(121.17637667871206, 132.22702702702702, 'gini = 0.0\\nsamples = 2\\nvalue = [0, 2]'),\n Text(121.94682055984036, 132.22702702702702, 'gini = 0.0\\nsamples = 3\\nvalue = [3, 0]'),\n Text(122.33204250040453, 138.1037837837838, 'gini = 0.0\\nsamples = 16\\nvalue = [16, 0]'),\n Text(123.48770832209699, 143.98054054054052, 'X[14] <= 5.5\\ngini = 0.375\\nsamples = 4\\nvalue = [1, 3]'),\n Text(123.10248638153283, 138.1037837837838, 'gini = 0.0\\nsamples = 3\\nvalue = [0, 3]'),\n Text(123.87293026266114, 138.1037837837838, 'gini = 0.0\\nsamples = 1\\nvalue = [1, 0]'),\n Text(125.79903996548191, 149.8572972972973, 'X[13] <= 127.56\\ngini = 0.098\\nsamples = 58\\nvalue = [55, 3]'),\n Text(125.02859608435361, 143.98054054054052, 'X[13] <= 125.845\\ngini = 0.32\\nsamples = 10\\nvalue = [8, 2]'),\n Text(124.64337414378946, 138.1037837837838, 'X[8] <= 40.773\\ngini = 0.198\\nsamples = 9\\nvalue = [8, 1]'),\n Text(124.2581522032253, 132.22702702702702, 'gini = 0.0\\nsamples = 6\\nvalue = [6, 0]'),\n Text(125.02859608435361, 132.22702702702702, 'X[0] <= 9901.0\\ngini = 0.444\\nsamples = 3\\nvalue = [2, 1]'),\n Text(124.64337414378946, 126.35027027027026, 'gini = 0.0\\nsamples = 2\\nvalue = [2, 0]'),\n Text(125.41381802491776, 126.35027027027026, 'gini = 0.0\\nsamples = 1\\nvalue = [0, 1]'),\n Text(125.41381802491776, 138.1037837837838, 'gini = 0.0\\nsamples = 1\\nvalue = [0, 1]'),\n Text(126.56948384661023, 143.98054054054052, 'X[3] <= 1780.015\\ngini = 0.041\\nsamples = 48\\nvalue = [47, 1]'),\n Text(126.18426190604607, 138.1037837837838, 'gini = 0.0\\nsamples = 37\\nvalue = [37, 0]'),\n Text(126.95470578717438, 138.1037837837838, 'X[3] <= 1807.78\\ngini = 0.165\\nsamples = 11\\nvalue = [10, 1]'),\n Text(126.56948384661023, 132.22702702702702, 'gini = 0.0\\nsamples = 1\\nvalue = [0, 1]'),\n Text(127.33992772773854, 132.22702702702702, 'gini = 0.0\\nsamples = 10\\nvalue = [10, 0]'),\n Text(124.64337414378946, 161.6108108108108, 'gini = 0.0\\nsamples = 1\\nvalue = [0, 1]'),\n Text(129.74756485626452, 167.48756756756757, 'X[3] <= 3081.115\\ngini = 0.085\\nsamples = 202\\nvalue = [193, 9]'),\n Text(128.495593549431, 161.6108108108108, 'X[10] <= 5.16\\ngini = 0.034\\nsamples = 116\\nvalue = [114, 2]'),\n Text(128.11037160886684, 155.73405405405404, 'X[10] <= 5.02\\ngini = 0.133\\nsamples = 28\\nvalue = [26, 2]'),\n Text(127.72514966830269, 149.8572972972973, 'X[11] <= 3.48\\ngini = 0.071\\nsamples = 27\\nvalue = [26, 1]'),\n Text(127.33992772773854, 143.98054054054052, 'gini = 0.0\\nsamples = 20\\nvalue = [20, 0]'),\n Text(128.11037160886684, 143.98054054054052, 'X[5] <= 145.045\\ngini = 0.245\\nsamples = 7\\nvalue = [6, 1]'),\n Text(127.72514966830269, 138.1037837837838, 'gini = 0.0\\nsamples = 5\\nvalue = [5, 0]'),\n Text(128.495593549431, 138.1037837837838, 'X[6] <= 0.116\\ngini = 0.5\\nsamples = 2\\nvalue = [1, 1]'),\n Text(128.11037160886684, 132.22702702702702, 'gini = 0.0\\nsamples = 1\\nvalue = [1, 0]'),\n Text(128.88081548999517, 132.22702702702702, 'gini = 0.0\\nsamples = 1\\nvalue = [0, 1]'),\n Text(128.495593549431, 149.8572972972973, 'gini = 0.0\\nsamples = 1\\nvalue = [0, 1]'),\n Text(128.88081548999517, 155.73405405405404, 'gini = 0.0\\nsamples = 88\\nvalue = [88, 0]'),\n Text(130.999536163098, 161.6108108108108, 'X[3] <= 3385.235\\ngini = 0.15\\nsamples = 86\\nvalue = [79, 7]'),\n Text(129.65125937112347, 155.73405405405404, 'X[5] <= 145.2\\ngini = 0.473\\nsamples = 13\\nvalue = [8, 5]'),\n Text(129.26603743055932, 149.8572972972973, 'gini = 0.0\\nsamples = 6\\nvalue = [6, 0]'),\n Text(130.03648131168762, 149.8572972972973, 'X[4] <= 2553.0\\ngini = 0.408\\nsamples = 7\\nvalue = [2, 5]'),\n Text(129.65125937112347, 143.98054054054052, 'gini = 0.0\\nsamples = 2\\nvalue = [2, 0]'),\n Text(130.42170325225177, 143.98054054054052, 'gini = 0.0\\nsamples = 5\\nvalue = [0, 5]'),\n Text(132.34781295507256, 155.73405405405404, 'X[11] <= 0.77\\ngini = 0.053\\nsamples = 73\\nvalue = [71, 2]'),\n Text(131.57736907394425, 149.8572972972973, 'X[2] <= 218007.5\\ngini = 0.5\\nsamples = 2\\nvalue = [1, 1]'),\n Text(131.19214713338008, 143.98054054054052, 'gini = 0.0\\nsamples = 1\\nvalue = [0, 1]'),\n Text(131.9625910145084, 143.98054054054052, 'gini = 0.0\\nsamples = 1\\nvalue = [1, 0]'),\n Text(133.11825683620086, 149.8572972972973, 'X[3] <= 3942.055\\ngini = 0.028\\nsamples = 71\\nvalue = [70, 1]'),\n Text(132.7330348956367, 143.98054054054052, 'X[3] <= 3904.65\\ngini = 0.105\\nsamples = 18\\nvalue = [17, 1]'),\n Text(132.34781295507256, 138.1037837837838, 'gini = 0.0\\nsamples = 17\\nvalue = [17, 0]'),\n Text(133.11825683620086, 138.1037837837838, 'gini = 0.0\\nsamples = 1\\nvalue = [0, 1]'),\n Text(133.503478776765, 143.98054054054052, 'gini = 0.0\\nsamples = 53\\nvalue = [53, 0]'),\n Text(135.23697750930373, 173.36432432432431, 'X[10] <= 12.24\\ngini = 0.285\\nsamples = 58\\nvalue = [48, 10]'),\n Text(134.27392265789334, 167.48756756756757, 'X[13] <= 587.1\\ngini = 0.057\\nsamples = 34\\nvalue = [33, 1]'),\n Text(133.8887007173292, 161.6108108108108, 'X[13] <= 580.65\\ngini = 0.375\\nsamples = 4\\nvalue = [3, 1]'),\n Text(133.503478776765, 155.73405405405404, 'gini = 0.0\\nsamples = 3\\nvalue = [3, 0]'),\n Text(134.27392265789334, 155.73405405405404, 'gini = 0.0\\nsamples = 1\\nvalue = [0, 1]'),\n Text(134.6591445984575, 161.6108108108108, 'gini = 0.0\\nsamples = 30\\nvalue = [30, 0]'),\n Text(136.20003236071412, 167.48756756756757, 'X[14] <= 3.5\\ngini = 0.469\\nsamples = 24\\nvalue = [15, 9]'),\n Text(135.4295884795858, 161.6108108108108, 'X[0] <= 77745.0\\ngini = 0.42\\nsamples = 10\\nvalue = [3, 7]'),\n Text(135.04436653902164, 155.73405405405404, 'X[7] <= 0.1\\ngini = 0.5\\nsamples = 6\\nvalue = [3, 3]'),\n Text(134.6591445984575, 149.8572972972973, 'X[10] <= 12.69\\ngini = 0.375\\nsamples = 4\\nvalue = [1, 3]'),\n Text(134.27392265789334, 143.98054054054052, 'gini = 0.0\\nsamples = 1\\nvalue = [1, 0]'),\n Text(135.04436653902164, 143.98054054054052, 'gini = 0.0\\nsamples = 3\\nvalue = [0, 3]'),\n Text(135.4295884795858, 149.8572972972973, 'gini = 0.0\\nsamples = 2\\nvalue = [2, 0]'),\n Text(135.81481042014994, 155.73405405405404, 'gini = 0.0\\nsamples = 4\\nvalue = [0, 4]'),\n Text(136.97047624184242, 161.6108108108108, 'X[13] <= 572.87\\ngini = 0.245\\nsamples = 14\\nvalue = [12, 2]'),\n Text(136.58525430127827, 155.73405405405404, 'X[0] <= 2012005.5\\ngini = 0.444\\nsamples = 3\\nvalue = [1, 2]'),\n Text(136.20003236071412, 149.8572972972973, 'gini = 0.0\\nsamples = 2\\nvalue = [0, 2]'),\n Text(136.97047624184242, 149.8572972972973, 'gini = 0.0\\nsamples = 1\\nvalue = [1, 0]'),\n Text(137.35569818240657, 155.73405405405404, 'gini = 0.0\\nsamples = 11\\nvalue = [11, 0]'),\n Text(125.35362709670461, 196.87135135135134, 'X[2] <= 47447.0\\ngini = 0.48\\nsamples = 5\\nvalue = [2, 3]'),\n Text(124.96840515614046, 190.9945945945946, 'gini = 0.0\\nsamples = 3\\nvalue = [0, 3]'),\n Text(125.73884903726876, 190.9945945945946, 'gini = 0.0\\nsamples = 2\\nvalue = [2, 0]'),\n Text(169.21235825333048, 202.7481081081081, 'X[15] <= 10.275\\ngini = 0.182\\nsamples = 2534\\nvalue = [2278, 256]'),\n Text(168.82713631276633, 196.87135135135134, 'gini = 0.0\\nsamples = 2\\nvalue = [0, 2]'),\n Text(169.59758019389463, 196.87135135135134, 'X[15] <= 11.023\\ngini = 0.181\\nsamples = 2532\\nvalue = [2278, 254]'),\n Text(153.2160077665714, 190.9945945945946, 'X[11] <= 25.98\\ngini = 0.253\\nsamples = 492\\nvalue = [419, 73]'),\n Text(147.07051399600886, 185.11783783783784, 'X[14] <= 2.5\\ngini = 0.179\\nsamples = 291\\nvalue = [262, 29]'),\n Text(146.6852920554447, 179.24108108108106, 'gini = 0.0\\nsamples = 1\\nvalue = [0, 1]'),\n Text(147.455735936573, 179.24108108108106, 'X[3] <= 3369.465\\ngini = 0.174\\nsamples = 290\\nvalue = [262, 28]'),\n Text(143.68778383042988, 173.36432432432431, 'X[6] <= 0.146\\ngini = 0.15\\nsamples = 269\\nvalue = [247, 22]'),\n Text(139.8596407960736, 167.48756756756757, 'X[6] <= 0.144\\ngini = 0.245\\nsamples = 77\\nvalue = [66, 11]'),\n Text(138.8965859446632, 161.6108108108108, 'X[13] <= 221.44\\ngini = 0.117\\nsamples = 64\\nvalue = [60, 4]'),\n Text(138.12614206353487, 155.73405405405404, 'X[0] <= 4582.0\\ngini = 0.039\\nsamples = 50\\nvalue = [49, 1]'),\n Text(137.74092012297072, 149.8572972972973, 'X[3] <= 563.575\\ngini = 0.124\\nsamples = 15\\nvalue = [14, 1]'),\n Text(137.35569818240657, 143.98054054054052, 'gini = 0.0\\nsamples = 14\\nvalue = [14, 0]'),\n Text(138.12614206353487, 143.98054054054052, 'gini = 0.0\\nsamples = 1\\nvalue = [0, 1]'),\n Text(138.51136400409905, 149.8572972972973, 'gini = 0.0\\nsamples = 35\\nvalue = [35, 0]'),\n Text(139.6670298257915, 155.73405405405404, 'X[13] <= 224.09\\ngini = 0.337\\nsamples = 14\\nvalue = [11, 3]'),\n Text(139.28180788522735, 149.8572972972973, 'gini = 0.0\\nsamples = 1\\nvalue = [0, 1]'),\n Text(140.05225176635565, 149.8572972972973, 'X[5] <= 17.465\\ngini = 0.26\\nsamples = 13\\nvalue = [11, 2]'),\n Text(139.6670298257915, 143.98054054054052, 'X[5] <= 8.365\\ngini = 0.444\\nsamples = 6\\nvalue = [4, 2]'),\n Text(139.28180788522735, 138.1037837837838, 'gini = 0.0\\nsamples = 3\\nvalue = [3, 0]'),\n Text(140.05225176635565, 138.1037837837838, 'X[8] <= 45.433\\ngini = 0.444\\nsamples = 3\\nvalue = [1, 2]'),\n Text(139.6670298257915, 132.22702702702702, 'gini = 0.0\\nsamples = 2\\nvalue = [0, 2]'),\n Text(140.4374737069198, 132.22702702702702, 'gini = 0.0\\nsamples = 1\\nvalue = [1, 0]'),\n Text(140.4374737069198, 143.98054054054052, 'gini = 0.0\\nsamples = 7\\nvalue = [7, 0]'),\n Text(140.82269564748395, 161.6108108108108, 'X[14] <= 3.5\\ngini = 0.497\\nsamples = 13\\nvalue = [6, 7]'),\n Text(140.4374737069198, 155.73405405405404, 'gini = 0.0\\nsamples = 3\\nvalue = [0, 3]'),\n Text(141.20791758804813, 155.73405405405404, 'X[6] <= 0.145\\ngini = 0.48\\nsamples = 10\\nvalue = [6, 4]'),\n Text(140.82269564748395, 149.8572972972973, 'gini = 0.0\\nsamples = 3\\nvalue = [3, 0]'),\n Text(141.59313952861228, 149.8572972972973, 'X[3] <= 1200.695\\ngini = 0.49\\nsamples = 7\\nvalue = [3, 4]'),\n Text(141.20791758804813, 143.98054054054052, 'X[4] <= 274.0\\ngini = 0.375\\nsamples = 4\\nvalue = [3, 1]'),\n Text(140.82269564748395, 138.1037837837838, 'gini = 0.0\\nsamples = 1\\nvalue = [0, 1]'),\n Text(141.59313952861228, 138.1037837837838, 'gini = 0.0\\nsamples = 3\\nvalue = [3, 0]'),\n Text(141.97836146917643, 143.98054054054052, 'gini = 0.0\\nsamples = 3\\nvalue = [0, 3]'),\n Text(147.51592686478617, 167.48756756756757, 'X[5] <= 38.045\\ngini = 0.108\\nsamples = 192\\nvalue = [181, 11]'),\n Text(146.1194973302411, 161.6108108108108, 'X[5] <= 17.765\\ngini = 0.091\\nsamples = 188\\nvalue = [179, 9]'),\n Text(144.48230408284346, 155.73405405405404, 'X[8] <= 44.81\\ngini = 0.053\\nsamples = 147\\nvalue = [143, 4]'),\n Text(143.51924923143307, 149.8572972972973, 'X[5] <= 0.65\\ngini = 0.031\\nsamples = 129\\nvalue = [127, 2]'),\n ...]"
     },
     "execution_count": 214,
     "metadata": {},
     "output_type": "execute_result"
    }
   ],
   "source": [
    "plot_tree(tree_model)"
   ],
   "metadata": {
    "collapsed": false,
    "pycharm": {
     "name": "#%%\n",
     "is_executing": true
    }
   }
  },
  {
   "cell_type": "code",
   "execution_count": null,
   "outputs": [],
   "source": [],
   "metadata": {
    "collapsed": false,
    "pycharm": {
     "name": "#%%\n"
    }
   }
  }
 ],
 "metadata": {
  "kernelspec": {
   "display_name": "Python 3",
   "language": "python",
   "name": "python3"
  },
  "language_info": {
   "codemirror_mode": {
    "name": "ipython",
    "version": 2
   },
   "file_extension": ".py",
   "mimetype": "text/x-python",
   "name": "python",
   "nbconvert_exporter": "python",
   "pygments_lexer": "ipython2",
   "version": "2.7.6"
  }
 },
 "nbformat": 4,
 "nbformat_minor": 0
}