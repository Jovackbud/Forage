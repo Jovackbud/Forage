{
 "cells": [
  {
   "cell_type": "code",
   "execution_count": 1,
   "metadata": {},
   "outputs": [],
   "source": [
    "import numpy as np\n",
    "import pandas as pd\n",
    "import matplotlib.pyplot as plt\n",
    "import seaborn as sns"
   ]
  },
  {
   "cell_type": "code",
   "execution_count": 2,
   "metadata": {},
   "outputs": [
    {
     "name": "stderr",
     "output_type": "stream",
     "text": [
      "<ipython-input-2-6e689c35e69d>:3: FutureWarning: Inferring datetime64[ns] from data containing strings is deprecated and will be removed in a future version. To retain the old behavior explicitly pass Series(data, dtype=datetime64[ns])\n",
      "  new_customers_list = pd.DataFrame(pd.read_excel(\"KPMG_VI_New_raw_data_update_final.xlsx\", sheet_name=2))\n",
      "<ipython-input-2-6e689c35e69d>:4: FutureWarning: Inferring datetime64[ns] from data containing strings is deprecated and will be removed in a future version. To retain the old behavior explicitly pass Series(data, dtype=datetime64[ns])\n",
      "  customer_demographic = pd.DataFrame(pd.read_excel(\"KPMG_VI_New_raw_data_update_final.xlsx\", sheet_name=3))\n"
     ]
    }
   ],
   "source": [
    "# Load the Excel file into a variable\n",
    "transactions = pd.DataFrame(pd.read_excel(\"KPMG_VI_New_raw_data_update_final.xlsx\", sheet_name=1))\n",
    "new_customers_list = pd.DataFrame(pd.read_excel(\"KPMG_VI_New_raw_data_update_final.xlsx\", sheet_name=2))\n",
    "customer_demographic = pd.DataFrame(pd.read_excel(\"KPMG_VI_New_raw_data_update_final.xlsx\", sheet_name=3))\n",
    "customer_address = pd.DataFrame(pd.read_excel(\"KPMG_VI_New_raw_data_update_final.xlsx\", sheet_name=4))"
   ]
  },
  {
   "cell_type": "code",
   "execution_count": 3,
   "metadata": {},
   "outputs": [],
   "source": [
    "#customer_demographic['job_industry_category'] = pd.Categorical(customer_demographic['job_industry_category']).codes"
   ]
  },
  {
   "cell_type": "code",
   "execution_count": 4,
   "metadata": {},
   "outputs": [],
   "source": [
    "#customer_demographic['job_industry_category'].corr(customer_demographic['past_3_years_bike_related_purchases'])"
   ]
  },
  {
   "cell_type": "code",
   "execution_count": 5,
   "metadata": {},
   "outputs": [],
   "source": [
    "#customer_demographic.head(10)"
   ]
  },
  {
   "cell_type": "markdown",
   "metadata": {},
   "source": [
    "wealth_segment - dummies\n",
    "gender - standardize and dummy\n",
    "past_3_years_bike_related_purchases - y\n",
    "DOB to age -\n",
    "owns_car - dummy\n",
    "tenure - "
   ]
  },
  {
   "cell_type": "code",
   "execution_count": 6,
   "metadata": {},
   "outputs": [],
   "source": [
    "data_customer_demographic = pd.DataFrame(data =customer_demographic, \n",
    "                                         columns=['wealth_segment', 'past_3_years_bike_related_purchases', 'owns_car', 'tenure',\n",
    "                                                 'DOB', 'gender'])"
   ]
  },
  {
   "cell_type": "code",
   "execution_count": 7,
   "metadata": {},
   "outputs": [
    {
     "data": {
      "text/html": [
       "<div>\n",
       "<style scoped>\n",
       "    .dataframe tbody tr th:only-of-type {\n",
       "        vertical-align: middle;\n",
       "    }\n",
       "\n",
       "    .dataframe tbody tr th {\n",
       "        vertical-align: top;\n",
       "    }\n",
       "\n",
       "    .dataframe thead th {\n",
       "        text-align: right;\n",
       "    }\n",
       "</style>\n",
       "<table border=\"1\" class=\"dataframe\">\n",
       "  <thead>\n",
       "    <tr style=\"text-align: right;\">\n",
       "      <th></th>\n",
       "      <th>wealth_segment</th>\n",
       "      <th>past_3_years_bike_related_purchases</th>\n",
       "      <th>owns_car</th>\n",
       "      <th>tenure</th>\n",
       "      <th>DOB</th>\n",
       "      <th>gender</th>\n",
       "    </tr>\n",
       "  </thead>\n",
       "  <tbody>\n",
       "    <tr>\n",
       "      <th>0</th>\n",
       "      <td>Mass Customer</td>\n",
       "      <td>93</td>\n",
       "      <td>Yes</td>\n",
       "      <td>11.0</td>\n",
       "      <td>1953-10-12</td>\n",
       "      <td>F</td>\n",
       "    </tr>\n",
       "    <tr>\n",
       "      <th>1</th>\n",
       "      <td>Mass Customer</td>\n",
       "      <td>81</td>\n",
       "      <td>Yes</td>\n",
       "      <td>16.0</td>\n",
       "      <td>1980-12-16</td>\n",
       "      <td>Male</td>\n",
       "    </tr>\n",
       "    <tr>\n",
       "      <th>2</th>\n",
       "      <td>Mass Customer</td>\n",
       "      <td>61</td>\n",
       "      <td>Yes</td>\n",
       "      <td>15.0</td>\n",
       "      <td>1954-01-20</td>\n",
       "      <td>Male</td>\n",
       "    </tr>\n",
       "    <tr>\n",
       "      <th>3</th>\n",
       "      <td>Mass Customer</td>\n",
       "      <td>33</td>\n",
       "      <td>No</td>\n",
       "      <td>7.0</td>\n",
       "      <td>1961-10-03</td>\n",
       "      <td>Male</td>\n",
       "    </tr>\n",
       "    <tr>\n",
       "      <th>4</th>\n",
       "      <td>Affluent Customer</td>\n",
       "      <td>56</td>\n",
       "      <td>Yes</td>\n",
       "      <td>8.0</td>\n",
       "      <td>1977-05-13</td>\n",
       "      <td>Female</td>\n",
       "    </tr>\n",
       "  </tbody>\n",
       "</table>\n",
       "</div>"
      ],
      "text/plain": [
       "      wealth_segment  past_3_years_bike_related_purchases owns_car  tenure  \\\n",
       "0      Mass Customer                                   93      Yes    11.0   \n",
       "1      Mass Customer                                   81      Yes    16.0   \n",
       "2      Mass Customer                                   61      Yes    15.0   \n",
       "3      Mass Customer                                   33       No     7.0   \n",
       "4  Affluent Customer                                   56      Yes     8.0   \n",
       "\n",
       "         DOB  gender  \n",
       "0 1953-10-12       F  \n",
       "1 1980-12-16    Male  \n",
       "2 1954-01-20    Male  \n",
       "3 1961-10-03    Male  \n",
       "4 1977-05-13  Female  "
      ]
     },
     "execution_count": 7,
     "metadata": {},
     "output_type": "execute_result"
    }
   ],
   "source": [
    "data_customer_demographic.head(5)\n",
    "#data_customer_demographic['owns_car'].get_dummies()"
   ]
  },
  {
   "cell_type": "code",
   "execution_count": 8,
   "metadata": {},
   "outputs": [],
   "source": [
    "from datetime import datetime, timedelta\n",
    "\n",
    "data_customer_demographic ['age'] = (datetime.now() - data_customer_demographic ['DOB']).apply(lambda x: x.days/365.25)\n",
    "\n",
    "data_customer_demographic['gender'] = data_customer_demographic['gender'].apply(lambda x:x[0].upper())\n",
    "\n",
    "data_customer_demographic = data_customer_demographic.drop(columns=['DOB'], axis=1)"
   ]
  },
  {
   "cell_type": "code",
   "execution_count": 9,
   "metadata": {},
   "outputs": [],
   "source": [
    "data_customer_demographic = pd.get_dummies(data=data_customer_demographic, columns=['wealth_segment', 'owns_car', 'gender'], \n",
    "                                           drop_first=True)"
   ]
  },
  {
   "cell_type": "code",
   "execution_count": 10,
   "metadata": {},
   "outputs": [
    {
     "data": {
      "text/html": [
       "<div>\n",
       "<style scoped>\n",
       "    .dataframe tbody tr th:only-of-type {\n",
       "        vertical-align: middle;\n",
       "    }\n",
       "\n",
       "    .dataframe tbody tr th {\n",
       "        vertical-align: top;\n",
       "    }\n",
       "\n",
       "    .dataframe thead th {\n",
       "        text-align: right;\n",
       "    }\n",
       "</style>\n",
       "<table border=\"1\" class=\"dataframe\">\n",
       "  <thead>\n",
       "    <tr style=\"text-align: right;\">\n",
       "      <th></th>\n",
       "      <th>past_3_years_bike_related_purchases</th>\n",
       "      <th>tenure</th>\n",
       "      <th>age</th>\n",
       "      <th>wealth_segment_High Net Worth</th>\n",
       "      <th>wealth_segment_Mass Customer</th>\n",
       "      <th>owns_car_Yes</th>\n",
       "      <th>gender_M</th>\n",
       "      <th>gender_U</th>\n",
       "    </tr>\n",
       "  </thead>\n",
       "  <tbody>\n",
       "    <tr>\n",
       "      <th>0</th>\n",
       "      <td>93</td>\n",
       "      <td>11.0</td>\n",
       "      <td>69.330595</td>\n",
       "      <td>0</td>\n",
       "      <td>1</td>\n",
       "      <td>1</td>\n",
       "      <td>0</td>\n",
       "      <td>0</td>\n",
       "    </tr>\n",
       "    <tr>\n",
       "      <th>1</th>\n",
       "      <td>81</td>\n",
       "      <td>16.0</td>\n",
       "      <td>42.151951</td>\n",
       "      <td>0</td>\n",
       "      <td>1</td>\n",
       "      <td>1</td>\n",
       "      <td>1</td>\n",
       "      <td>0</td>\n",
       "    </tr>\n",
       "    <tr>\n",
       "      <th>2</th>\n",
       "      <td>61</td>\n",
       "      <td>15.0</td>\n",
       "      <td>69.056810</td>\n",
       "      <td>0</td>\n",
       "      <td>1</td>\n",
       "      <td>1</td>\n",
       "      <td>1</td>\n",
       "      <td>0</td>\n",
       "    </tr>\n",
       "    <tr>\n",
       "      <th>3</th>\n",
       "      <td>33</td>\n",
       "      <td>7.0</td>\n",
       "      <td>61.355236</td>\n",
       "      <td>0</td>\n",
       "      <td>1</td>\n",
       "      <td>0</td>\n",
       "      <td>1</td>\n",
       "      <td>0</td>\n",
       "    </tr>\n",
       "    <tr>\n",
       "      <th>4</th>\n",
       "      <td>56</td>\n",
       "      <td>8.0</td>\n",
       "      <td>45.746749</td>\n",
       "      <td>0</td>\n",
       "      <td>0</td>\n",
       "      <td>1</td>\n",
       "      <td>0</td>\n",
       "      <td>0</td>\n",
       "    </tr>\n",
       "  </tbody>\n",
       "</table>\n",
       "</div>"
      ],
      "text/plain": [
       "   past_3_years_bike_related_purchases  tenure        age  \\\n",
       "0                                   93    11.0  69.330595   \n",
       "1                                   81    16.0  42.151951   \n",
       "2                                   61    15.0  69.056810   \n",
       "3                                   33     7.0  61.355236   \n",
       "4                                   56     8.0  45.746749   \n",
       "\n",
       "   wealth_segment_High Net Worth  wealth_segment_Mass Customer  owns_car_Yes  \\\n",
       "0                              0                             1             1   \n",
       "1                              0                             1             1   \n",
       "2                              0                             1             1   \n",
       "3                              0                             1             0   \n",
       "4                              0                             0             1   \n",
       "\n",
       "   gender_M  gender_U  \n",
       "0         0         0  \n",
       "1         1         0  \n",
       "2         1         0  \n",
       "3         1         0  \n",
       "4         0         0  "
      ]
     },
     "execution_count": 10,
     "metadata": {},
     "output_type": "execute_result"
    }
   ],
   "source": [
    "data_customer_demographic.head(5)"
   ]
  },
  {
   "cell_type": "code",
   "execution_count": 15,
   "metadata": {},
   "outputs": [
    {
     "data": {
      "text/html": [
       "<div>\n",
       "<style scoped>\n",
       "    .dataframe tbody tr th:only-of-type {\n",
       "        vertical-align: middle;\n",
       "    }\n",
       "\n",
       "    .dataframe tbody tr th {\n",
       "        vertical-align: top;\n",
       "    }\n",
       "\n",
       "    .dataframe thead th {\n",
       "        text-align: right;\n",
       "    }\n",
       "</style>\n",
       "<table border=\"1\" class=\"dataframe\">\n",
       "  <thead>\n",
       "    <tr style=\"text-align: right;\">\n",
       "      <th></th>\n",
       "      <th>past_3_years_bike_related_purchases</th>\n",
       "      <th>tenure</th>\n",
       "      <th>age</th>\n",
       "      <th>wealth_segment_High Net Worth</th>\n",
       "      <th>wealth_segment_Mass Customer</th>\n",
       "      <th>owns_car_Yes</th>\n",
       "      <th>gender_M</th>\n",
       "      <th>gender_U</th>\n",
       "    </tr>\n",
       "  </thead>\n",
       "  <tbody>\n",
       "    <tr>\n",
       "      <th>count</th>\n",
       "      <td>3913.000000</td>\n",
       "      <td>3913.000000</td>\n",
       "      <td>3913.000000</td>\n",
       "      <td>3913.000000</td>\n",
       "      <td>3913.000000</td>\n",
       "      <td>3913.000000</td>\n",
       "      <td>3913.000000</td>\n",
       "      <td>3913.000000</td>\n",
       "    </tr>\n",
       "    <tr>\n",
       "      <th>mean</th>\n",
       "      <td>49.041912</td>\n",
       "      <td>10.657041</td>\n",
       "      <td>45.579746</td>\n",
       "      <td>0.254536</td>\n",
       "      <td>0.499361</td>\n",
       "      <td>0.504472</td>\n",
       "      <td>0.478661</td>\n",
       "      <td>0.000256</td>\n",
       "    </tr>\n",
       "    <tr>\n",
       "      <th>std</th>\n",
       "      <td>28.764990</td>\n",
       "      <td>5.660146</td>\n",
       "      <td>12.795378</td>\n",
       "      <td>0.435656</td>\n",
       "      <td>0.500063</td>\n",
       "      <td>0.500044</td>\n",
       "      <td>0.499608</td>\n",
       "      <td>0.015986</td>\n",
       "    </tr>\n",
       "    <tr>\n",
       "      <th>min</th>\n",
       "      <td>0.000000</td>\n",
       "      <td>1.000000</td>\n",
       "      <td>20.919918</td>\n",
       "      <td>0.000000</td>\n",
       "      <td>0.000000</td>\n",
       "      <td>0.000000</td>\n",
       "      <td>0.000000</td>\n",
       "      <td>0.000000</td>\n",
       "    </tr>\n",
       "    <tr>\n",
       "      <th>25%</th>\n",
       "      <td>24.000000</td>\n",
       "      <td>6.000000</td>\n",
       "      <td>35.950719</td>\n",
       "      <td>0.000000</td>\n",
       "      <td>0.000000</td>\n",
       "      <td>0.000000</td>\n",
       "      <td>0.000000</td>\n",
       "      <td>0.000000</td>\n",
       "    </tr>\n",
       "    <tr>\n",
       "      <th>50%</th>\n",
       "      <td>48.000000</td>\n",
       "      <td>11.000000</td>\n",
       "      <td>45.555099</td>\n",
       "      <td>0.000000</td>\n",
       "      <td>0.000000</td>\n",
       "      <td>1.000000</td>\n",
       "      <td>0.000000</td>\n",
       "      <td>0.000000</td>\n",
       "    </tr>\n",
       "    <tr>\n",
       "      <th>75%</th>\n",
       "      <td>73.000000</td>\n",
       "      <td>15.000000</td>\n",
       "      <td>55.052704</td>\n",
       "      <td>1.000000</td>\n",
       "      <td>1.000000</td>\n",
       "      <td>1.000000</td>\n",
       "      <td>1.000000</td>\n",
       "      <td>0.000000</td>\n",
       "    </tr>\n",
       "    <tr>\n",
       "      <th>max</th>\n",
       "      <td>99.000000</td>\n",
       "      <td>22.000000</td>\n",
       "      <td>179.137577</td>\n",
       "      <td>1.000000</td>\n",
       "      <td>1.000000</td>\n",
       "      <td>1.000000</td>\n",
       "      <td>1.000000</td>\n",
       "      <td>1.000000</td>\n",
       "    </tr>\n",
       "  </tbody>\n",
       "</table>\n",
       "</div>"
      ],
      "text/plain": [
       "       past_3_years_bike_related_purchases       tenure          age  \\\n",
       "count                          3913.000000  3913.000000  3913.000000   \n",
       "mean                             49.041912    10.657041    45.579746   \n",
       "std                              28.764990     5.660146    12.795378   \n",
       "min                               0.000000     1.000000    20.919918   \n",
       "25%                              24.000000     6.000000    35.950719   \n",
       "50%                              48.000000    11.000000    45.555099   \n",
       "75%                              73.000000    15.000000    55.052704   \n",
       "max                              99.000000    22.000000   179.137577   \n",
       "\n",
       "       wealth_segment_High Net Worth  wealth_segment_Mass Customer  \\\n",
       "count                    3913.000000                   3913.000000   \n",
       "mean                        0.254536                      0.499361   \n",
       "std                         0.435656                      0.500063   \n",
       "min                         0.000000                      0.000000   \n",
       "25%                         0.000000                      0.000000   \n",
       "50%                         0.000000                      0.000000   \n",
       "75%                         1.000000                      1.000000   \n",
       "max                         1.000000                      1.000000   \n",
       "\n",
       "       owns_car_Yes     gender_M     gender_U  \n",
       "count   3913.000000  3913.000000  3913.000000  \n",
       "mean       0.504472     0.478661     0.000256  \n",
       "std        0.500044     0.499608     0.015986  \n",
       "min        0.000000     0.000000     0.000000  \n",
       "25%        0.000000     0.000000     0.000000  \n",
       "50%        1.000000     0.000000     0.000000  \n",
       "75%        1.000000     1.000000     0.000000  \n",
       "max        1.000000     1.000000     1.000000  "
      ]
     },
     "execution_count": 15,
     "metadata": {},
     "output_type": "execute_result"
    }
   ],
   "source": [
    "data_customer_demographic= data_customer_demographic.dropna()\n",
    "data_customer_demographic.describe()"
   ]
  },
  {
   "cell_type": "code",
   "execution_count": 16,
   "metadata": {},
   "outputs": [],
   "source": []
  },
  {
   "cell_type": "code",
   "execution_count": 17,
   "metadata": {},
   "outputs": [],
   "source": []
  },
  {
   "cell_type": "code",
   "execution_count": 18,
   "metadata": {},
   "outputs": [
    {
     "name": "stderr",
     "output_type": "stream",
     "text": [
      "C:\\Users\\USER\\anaconda3\\lib\\site-packages\\sklearn\\linear_model\\_logistic.py:762: ConvergenceWarning: lbfgs failed to converge (status=1):\n",
      "STOP: TOTAL NO. of ITERATIONS REACHED LIMIT.\n",
      "\n",
      "Increase the number of iterations (max_iter) or scale the data as shown in:\n",
      "    https://scikit-learn.org/stable/modules/preprocessing.html\n",
      "Please also refer to the documentation for alternative solver options:\n",
      "    https://scikit-learn.org/stable/modules/linear_model.html#logistic-regression\n",
      "  n_iter_i = _check_optimize_result(\n"
     ]
    },
    {
     "data": {
      "text/plain": [
       "LogisticRegression()"
      ]
     },
     "execution_count": 18,
     "metadata": {},
     "output_type": "execute_result"
    }
   ],
   "source": [
    "X_train, X_test, y_train, y_test = train_test_split(X, y)\n",
    "lr.fit(X_train,y_train)"
   ]
  },
  {
   "cell_type": "code",
   "execution_count": 21,
   "metadata": {},
   "outputs": [],
   "source": [
    "predictions = pd.DataFrame(lr.predict(X_test))\n",
    "from sklearn.metrics import classification_report, confusion_matrix"
   ]
  },
  {
   "cell_type": "code",
   "execution_count": 22,
   "metadata": {},
   "outputs": [
    {
     "name": "stderr",
     "output_type": "stream",
     "text": [
      "C:\\Users\\USER\\anaconda3\\lib\\site-packages\\sklearn\\metrics\\_classification.py:1221: UndefinedMetricWarning: Precision and F-score are ill-defined and being set to 0.0 in labels with no predicted samples. Use `zero_division` parameter to control this behavior.\n",
      "  _warn_prf(average, modifier, msg_start, len(result))\n"
     ]
    },
    {
     "data": {
      "text/plain": [
       "'              precision    recall  f1-score   support\\n\\n           0       0.00      0.00      0.00         9\\n           1       0.00      0.00      0.00        12\\n           2       0.00      0.00      0.00        12\\n           3       0.00      0.00      0.00        13\\n           4       0.00      0.00      0.00        11\\n           5       0.00      0.00      0.00         6\\n           6       0.00      0.00      0.00         8\\n           7       0.00      0.00      0.00        11\\n           8       0.00      0.00      0.00         8\\n           9       0.01      0.20      0.02         5\\n          10       0.00      0.00      0.00         9\\n          11       0.00      0.00      0.00         9\\n          12       0.00      0.00      0.00        10\\n          13       0.00      0.00      0.00         9\\n          14       0.00      0.00      0.00         9\\n          15       0.00      0.00      0.00        14\\n          16       0.02      0.09      0.03        11\\n          17       0.00      0.00      0.00         9\\n          18       0.00      0.00      0.00        13\\n          19       0.00      0.00      0.00        19\\n          20       0.03      0.07      0.04        14\\n          21       0.00      0.00      0.00         8\\n          22       0.00      0.00      0.00         9\\n          23       0.00      0.00      0.00        15\\n          24       0.00      0.00      0.00        10\\n          25       0.03      0.11      0.05         9\\n          26       0.00      0.00      0.00        10\\n          27       0.00      0.00      0.00        14\\n          28       0.00      0.00      0.00         9\\n          29       0.00      0.00      0.00         6\\n          30       0.00      0.00      0.00        13\\n          31       0.00      0.00      0.00         8\\n          32       0.00      0.00      0.00         9\\n          33       0.02      0.30      0.04        10\\n          34       0.00      0.00      0.00        11\\n          35       0.00      0.00      0.00         6\\n          36       0.00      0.00      0.00        13\\n          37       0.00      0.00      0.00         9\\n          38       0.00      0.00      0.00        16\\n          39       0.00      0.00      0.00         8\\n          40       0.00      0.00      0.00         8\\n          41       0.00      0.00      0.00        10\\n          42       0.00      0.00      0.00         4\\n          43       0.00      0.00      0.00        10\\n          44       0.00      0.00      0.00        14\\n          45       0.00      0.00      0.00         7\\n          46       0.00      0.00      0.00        12\\n          47       0.00      0.00      0.00        12\\n          48       0.00      0.00      0.00         8\\n          49       0.00      0.00      0.00         8\\n          50       0.00      0.00      0.00         8\\n          51       0.00      0.00      0.00        15\\n          52       0.00      0.00      0.00         9\\n          53       0.03      0.22      0.05         9\\n          54       0.00      0.00      0.00        12\\n          55       0.00      0.00      0.00         6\\n          56       0.00      0.00      0.00        13\\n          57       0.00      0.00      0.00         8\\n          58       0.00      0.00      0.00        12\\n          59       0.02      0.14      0.04         7\\n          60       0.00      0.00      0.00         9\\n          61       0.00      0.00      0.00         6\\n          62       0.00      0.00      0.00         9\\n          63       0.00      0.00      0.00        14\\n          64       0.03      0.40      0.05         5\\n          65       0.00      0.00      0.00        13\\n          66       0.00      0.00      0.00         5\\n          67       0.01      0.12      0.02         8\\n          68       0.00      0.00      0.00         9\\n          69       0.00      0.00      0.00         1\\n          70       0.00      0.00      0.00         9\\n          71       0.00      0.00      0.00        16\\n          72       0.00      0.00      0.00        12\\n          73       0.00      0.00      0.00        11\\n          74       0.00      0.00      0.00         8\\n          75       0.00      0.00      0.00         6\\n          76       0.00      0.00      0.00        11\\n          77       0.00      0.00      0.00        12\\n          78       0.00      0.00      0.00         4\\n          79       0.00      0.00      0.00        13\\n          80       0.00      0.00      0.00        10\\n          81       0.00      0.00      0.00         8\\n          82       0.00      0.00      0.00        13\\n          83       0.00      0.00      0.00        11\\n          84       0.00      0.00      0.00        11\\n          85       0.00      0.00      0.00        10\\n          86       0.00      0.00      0.00         5\\n          87       0.00      0.00      0.00         7\\n          88       0.00      0.00      0.00         7\\n          89       0.00      0.00      0.00        11\\n          90       0.00      0.00      0.00         4\\n          91       0.00      0.00      0.00         9\\n          92       0.00      0.00      0.00         8\\n          93       0.00      0.00      0.00        10\\n          94       0.00      0.00      0.00         8\\n          95       0.00      0.00      0.00         8\\n          96       0.00      0.00      0.00        12\\n          97       0.00      0.00      0.00        11\\n          98       0.00      0.00      0.00        14\\n          99       0.00      0.00      0.00        15\\n\\n    accuracy                           0.01       979\\n   macro avg       0.00      0.02      0.00       979\\nweighted avg       0.00      0.01      0.00       979\\n'"
      ]
     },
     "execution_count": 22,
     "metadata": {},
     "output_type": "execute_result"
    }
   ],
   "source": [
    "classification_report(y_test, predictions)"
   ]
  },
  {
   "cell_type": "code",
   "execution_count": 23,
   "metadata": {},
   "outputs": [
    {
     "data": {
      "text/plain": [
       "array([[0, 0, 0, ..., 0, 0, 0],\n",
       "       [0, 0, 0, ..., 0, 0, 0],\n",
       "       [0, 0, 0, ..., 0, 0, 0],\n",
       "       ...,\n",
       "       [0, 0, 0, ..., 0, 0, 0],\n",
       "       [0, 0, 0, ..., 0, 0, 0],\n",
       "       [0, 0, 0, ..., 0, 0, 0]], dtype=int64)"
      ]
     },
     "execution_count": 23,
     "metadata": {},
     "output_type": "execute_result"
    }
   ],
   "source": [
    "confusion_matrix(y_test, predictions)"
   ]
  },
  {
   "cell_type": "code",
   "execution_count": null,
   "metadata": {},
   "outputs": [],
   "source": []
  }
 ],
 "metadata": {
  "kernelspec": {
   "display_name": "Python 3",
   "language": "python",
   "name": "python3"
  },
  "language_info": {
   "codemirror_mode": {
    "name": "ipython",
    "version": 3
   },
   "file_extension": ".py",
   "mimetype": "text/x-python",
   "name": "python",
   "nbconvert_exporter": "python",
   "pygments_lexer": "ipython3",
   "version": "3.8.5"
  }
 },
 "nbformat": 4,
 "nbformat_minor": 4
}
